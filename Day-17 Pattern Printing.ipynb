{
 "cells": [
  {
   "cell_type": "markdown",
   "id": "d9c053b9",
   "metadata": {},
   "source": [
    "## Day-17 of #30daysofpython"
   ]
  },
  {
   "cell_type": "markdown",
   "id": "0b34169a",
   "metadata": {},
   "source": [
    "## Topic: Pattern printing"
   ]
  },
  {
   "cell_type": "markdown",
   "id": "9f3745a9",
   "metadata": {},
   "source": [
    "### 1. To printsquare pattern with * symbols"
   ]
  },
  {
   "cell_type": "code",
   "execution_count": 10,
   "id": "ab9264e8",
   "metadata": {},
   "outputs": [
    {
     "name": "stdout",
     "output_type": "stream",
     "text": [
      "Enter No Of Rows:10\n",
      "* * * * * * * * * * \n",
      "* * * * * * * * * * \n",
      "* * * * * * * * * * \n",
      "* * * * * * * * * * \n",
      "* * * * * * * * * * \n",
      "* * * * * * * * * * \n",
      "* * * * * * * * * * \n",
      "* * * * * * * * * * \n",
      "* * * * * * * * * * \n",
      "* * * * * * * * * * \n"
     ]
    }
   ],
   "source": [
    "n=int(input('Enter No Of Rows:'))\n",
    "for i in range(n):\n",
    "    print('* '*n) "
   ]
  },
  {
   "cell_type": "markdown",
   "id": "e92b7210",
   "metadata": {},
   "source": [
    "### 2. print square pattern with digit in every row\n"
   ]
  },
  {
   "cell_type": "code",
   "execution_count": 11,
   "id": "bc9a03e5",
   "metadata": {},
   "outputs": [
    {
     "name": "stdout",
     "output_type": "stream",
     "text": [
      "Enter No Of Rows:9\n",
      "1 1 1 1 1 1 1 1 1 \n",
      "2 2 2 2 2 2 2 2 2 \n",
      "3 3 3 3 3 3 3 3 3 \n",
      "4 4 4 4 4 4 4 4 4 \n",
      "5 5 5 5 5 5 5 5 5 \n",
      "6 6 6 6 6 6 6 6 6 \n",
      "7 7 7 7 7 7 7 7 7 \n",
      "8 8 8 8 8 8 8 8 8 \n",
      "9 9 9 9 9 9 9 9 9 \n"
     ]
    }
   ],
   "source": [
    "n=int(input('Enter No Of Rows:'))\n",
    "for i in range(n):\n",
    "    print((str(i+1)+' ')*n)"
   ]
  },
  {
   "cell_type": "markdown",
   "id": "1eab2a12",
   "metadata": {},
   "source": [
    "### 3.  print square pattern with alphabet symbols"
   ]
  },
  {
   "cell_type": "code",
   "execution_count": 12,
   "id": "d14daf0d",
   "metadata": {},
   "outputs": [
    {
     "name": "stdout",
     "output_type": "stream",
     "text": [
      "Enter No Of Rows:6\n",
      "A A A A A A \n",
      "B B B B B B \n",
      "C C C C C C \n",
      "D D D D D D \n",
      "E E E E E E \n",
      "F F F F F F \n"
     ]
    }
   ],
   "source": [
    "n=int(input('Enter No Of Rows:'))\n",
    "for i in range(n):\n",
    "    print((chr(65+i)+' ')*n) "
   ]
  },
  {
   "cell_type": "markdown",
   "id": "dfd9b33a",
   "metadata": {},
   "source": [
    "### 4. Print Right Angle Triangle pattern with + symbols"
   ]
  },
  {
   "cell_type": "code",
   "execution_count": 13,
   "id": "36be5d5d",
   "metadata": {},
   "outputs": [
    {
     "name": "stdout",
     "output_type": "stream",
     "text": [
      "Enter No Of Rows:20\n",
      "+ \n",
      "+ + \n",
      "+ + + \n",
      "+ + + + \n",
      "+ + + + + \n",
      "+ + + + + + \n",
      "+ + + + + + + \n",
      "+ + + + + + + + \n",
      "+ + + + + + + + + \n",
      "+ + + + + + + + + + \n",
      "+ + + + + + + + + + + \n",
      "+ + + + + + + + + + + + \n",
      "+ + + + + + + + + + + + + \n",
      "+ + + + + + + + + + + + + + \n",
      "+ + + + + + + + + + + + + + + \n",
      "+ + + + + + + + + + + + + + + + \n",
      "+ + + + + + + + + + + + + + + + + \n",
      "+ + + + + + + + + + + + + + + + + + \n",
      "+ + + + + + + + + + + + + + + + + + + \n",
      "+ + + + + + + + + + + + + + + + + + + + \n"
     ]
    }
   ],
   "source": [
    "n=int(input('Enter No Of Rows:'))\n",
    "for i in range(n):\n",
    "    for j in range(i+1):\n",
    "        print('+',end=' ')\n",
    "    print() "
   ]
  },
  {
   "cell_type": "markdown",
   "id": "7035f6dd",
   "metadata": {},
   "source": [
    "### 5.  Print Inverted Right Angle Triangle pattern with $ symbol"
   ]
  },
  {
   "cell_type": "code",
   "execution_count": 14,
   "id": "e7206615",
   "metadata": {},
   "outputs": [
    {
     "name": "stdout",
     "output_type": "stream",
     "text": [
      "Enter No Of Rows:25\n",
      "$ $ $ $ $ $ $ $ $ $ $ $ $ $ $ $ $ $ $ $ $ $ $ $ $ \n",
      "$ $ $ $ $ $ $ $ $ $ $ $ $ $ $ $ $ $ $ $ $ $ $ $ \n",
      "$ $ $ $ $ $ $ $ $ $ $ $ $ $ $ $ $ $ $ $ $ $ $ \n",
      "$ $ $ $ $ $ $ $ $ $ $ $ $ $ $ $ $ $ $ $ $ $ \n",
      "$ $ $ $ $ $ $ $ $ $ $ $ $ $ $ $ $ $ $ $ $ \n",
      "$ $ $ $ $ $ $ $ $ $ $ $ $ $ $ $ $ $ $ $ \n",
      "$ $ $ $ $ $ $ $ $ $ $ $ $ $ $ $ $ $ $ \n",
      "$ $ $ $ $ $ $ $ $ $ $ $ $ $ $ $ $ $ \n",
      "$ $ $ $ $ $ $ $ $ $ $ $ $ $ $ $ $ \n",
      "$ $ $ $ $ $ $ $ $ $ $ $ $ $ $ $ \n",
      "$ $ $ $ $ $ $ $ $ $ $ $ $ $ $ \n",
      "$ $ $ $ $ $ $ $ $ $ $ $ $ $ \n",
      "$ $ $ $ $ $ $ $ $ $ $ $ $ \n",
      "$ $ $ $ $ $ $ $ $ $ $ $ \n",
      "$ $ $ $ $ $ $ $ $ $ $ \n",
      "$ $ $ $ $ $ $ $ $ $ \n",
      "$ $ $ $ $ $ $ $ $ \n",
      "$ $ $ $ $ $ $ $ \n",
      "$ $ $ $ $ $ $ \n",
      "$ $ $ $ $ $ \n",
      "$ $ $ $ $ \n",
      "$ $ $ $ \n",
      "$ $ $ \n",
      "$ $ \n",
      "$ \n"
     ]
    }
   ],
   "source": [
    "n=int(input('Enter No Of Rows:'))\n",
    "for i in range(n):\n",
    "    print('$ '*(n-i)) "
   ]
  },
  {
   "cell_type": "markdown",
   "id": "0f2ebcad",
   "metadata": {},
   "source": [
    "### 6.  Print Pyramid pattern with + symbols "
   ]
  },
  {
   "cell_type": "code",
   "execution_count": 15,
   "id": "6654194f",
   "metadata": {},
   "outputs": [
    {
     "name": "stdout",
     "output_type": "stream",
     "text": [
      "Enter Number of rows:25\n",
      "                        + \n",
      "                       + + \n",
      "                      + + + \n",
      "                     + + + + \n",
      "                    + + + + + \n",
      "                   + + + + + + \n",
      "                  + + + + + + + \n",
      "                 + + + + + + + + \n",
      "                + + + + + + + + + \n",
      "               + + + + + + + + + + \n",
      "              + + + + + + + + + + + \n",
      "             + + + + + + + + + + + + \n",
      "            + + + + + + + + + + + + + \n",
      "           + + + + + + + + + + + + + + \n",
      "          + + + + + + + + + + + + + + + \n",
      "         + + + + + + + + + + + + + + + + \n",
      "        + + + + + + + + + + + + + + + + + \n",
      "       + + + + + + + + + + + + + + + + + + \n",
      "      + + + + + + + + + + + + + + + + + + + \n",
      "     + + + + + + + + + + + + + + + + + + + + \n",
      "    + + + + + + + + + + + + + + + + + + + + + \n",
      "   + + + + + + + + + + + + + + + + + + + + + + \n",
      "  + + + + + + + + + + + + + + + + + + + + + + + \n",
      " + + + + + + + + + + + + + + + + + + + + + + + + \n",
      "+ + + + + + + + + + + + + + + + + + + + + + + + + \n"
     ]
    }
   ],
   "source": [
    "n=int(input('Enter Number of rows:'))\n",
    "for i in range(n):\n",
    "    print((' '*(n-i-1))+ ('+ ')*(i+1)) "
   ]
  },
  {
   "cell_type": "markdown",
   "id": "4fa58ba8",
   "metadata": {},
   "source": [
    "### 7. Print Inverted Pyramid Pattern with + symbols"
   ]
  },
  {
   "cell_type": "code",
   "execution_count": 16,
   "id": "4060f8e6",
   "metadata": {},
   "outputs": [
    {
     "name": "stdout",
     "output_type": "stream",
     "text": [
      "Enter Number of Rows:30\n",
      "+ + + + + + + + + + + + + + + + + + + + + + + + + + + + + + \n",
      " + + + + + + + + + + + + + + + + + + + + + + + + + + + + + \n",
      "  + + + + + + + + + + + + + + + + + + + + + + + + + + + + \n",
      "   + + + + + + + + + + + + + + + + + + + + + + + + + + + \n",
      "    + + + + + + + + + + + + + + + + + + + + + + + + + + \n",
      "     + + + + + + + + + + + + + + + + + + + + + + + + + \n",
      "      + + + + + + + + + + + + + + + + + + + + + + + + \n",
      "       + + + + + + + + + + + + + + + + + + + + + + + \n",
      "        + + + + + + + + + + + + + + + + + + + + + + \n",
      "         + + + + + + + + + + + + + + + + + + + + + \n",
      "          + + + + + + + + + + + + + + + + + + + + \n",
      "           + + + + + + + + + + + + + + + + + + + \n",
      "            + + + + + + + + + + + + + + + + + + \n",
      "             + + + + + + + + + + + + + + + + + \n",
      "              + + + + + + + + + + + + + + + + \n",
      "               + + + + + + + + + + + + + + + \n",
      "                + + + + + + + + + + + + + + \n",
      "                 + + + + + + + + + + + + + \n",
      "                  + + + + + + + + + + + + \n",
      "                   + + + + + + + + + + + \n",
      "                    + + + + + + + + + + \n",
      "                     + + + + + + + + + \n",
      "                      + + + + + + + + \n",
      "                       + + + + + + + \n",
      "                        + + + + + + \n",
      "                         + + + + + \n",
      "                          + + + + \n",
      "                           + + + \n",
      "                            + + \n",
      "                             + \n"
     ]
    }
   ],
   "source": [
    "n=int(input('Enter Number of Rows:'))\n",
    "for i in range(n): #0,1,2,3\n",
    "    print(' '*i+'+ '*(n-i))"
   ]
  },
  {
   "cell_type": "markdown",
   "id": "edcc35d9",
   "metadata": {},
   "source": [
    "### 8.  Print Diamond Pattern with * symbols"
   ]
  },
  {
   "cell_type": "code",
   "execution_count": 18,
   "id": "08e40d7a",
   "metadata": {},
   "outputs": [
    {
     "name": "stdout",
     "output_type": "stream",
     "text": [
      "Enter n Value:22\n",
      "                     * \n",
      "                    * * \n",
      "                   * * * \n",
      "                  * * * * \n",
      "                 * * * * * \n",
      "                * * * * * * \n",
      "               * * * * * * * \n",
      "              * * * * * * * * \n",
      "             * * * * * * * * * \n",
      "            * * * * * * * * * * \n",
      "           * * * * * * * * * * * \n",
      "          * * * * * * * * * * * * \n",
      "         * * * * * * * * * * * * * \n",
      "        * * * * * * * * * * * * * * \n",
      "       * * * * * * * * * * * * * * * \n",
      "      * * * * * * * * * * * * * * * * \n",
      "     * * * * * * * * * * * * * * * * * \n",
      "    * * * * * * * * * * * * * * * * * * \n",
      "   * * * * * * * * * * * * * * * * * * * \n",
      "  * * * * * * * * * * * * * * * * * * * * \n",
      " * * * * * * * * * * * * * * * * * * * * * \n",
      "* * * * * * * * * * * * * * * * * * * * * * \n",
      " * * * * * * * * * * * * * * * * * * * * * \n",
      "  * * * * * * * * * * * * * * * * * * * * \n",
      "   * * * * * * * * * * * * * * * * * * * \n",
      "    * * * * * * * * * * * * * * * * * * \n",
      "     * * * * * * * * * * * * * * * * * \n",
      "      * * * * * * * * * * * * * * * * \n",
      "       * * * * * * * * * * * * * * * \n",
      "        * * * * * * * * * * * * * * \n",
      "         * * * * * * * * * * * * * \n",
      "          * * * * * * * * * * * * \n",
      "           * * * * * * * * * * * \n",
      "            * * * * * * * * * * \n",
      "             * * * * * * * * * \n",
      "              * * * * * * * * \n",
      "               * * * * * * * \n",
      "                * * * * * * \n",
      "                 * * * * * \n",
      "                  * * * * \n",
      "                   * * * \n",
      "                    * * \n",
      "                     * \n"
     ]
    }
   ],
   "source": [
    "n=int(input('Enter n Value:'))\n",
    "for i in range(n):#0,1,2,3\n",
    "    print(' '*(n-i-1)+'* '*(i+1))\n",
    "for i in range(n-1):#0,1,2\n",
    "    print(' '*(i+1)+'* '*(n-i-1)) "
   ]
  },
  {
   "cell_type": "code",
   "execution_count": null,
   "id": "b9059d76",
   "metadata": {},
   "outputs": [],
   "source": []
  }
 ],
 "metadata": {
  "kernelspec": {
   "display_name": "Python 3",
   "language": "python",
   "name": "python3"
  },
  "language_info": {
   "codemirror_mode": {
    "name": "ipython",
    "version": 3
   },
   "file_extension": ".py",
   "mimetype": "text/x-python",
   "name": "python",
   "nbconvert_exporter": "python",
   "pygments_lexer": "ipython3",
   "version": "3.8.8"
  }
 },
 "nbformat": 4,
 "nbformat_minor": 5
}
