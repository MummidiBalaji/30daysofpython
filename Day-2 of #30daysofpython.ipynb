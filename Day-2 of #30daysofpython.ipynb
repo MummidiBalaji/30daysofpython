{
 "cells": [
  {
   "cell_type": "markdown",
   "id": "28dc2560",
   "metadata": {},
   "source": [
    "## Day-2 of   #30daysofPython\n"
   ]
  },
  {
   "cell_type": "markdown",
   "id": "92b5ca84",
   "metadata": {},
   "source": [
    "## Topic - Operators\n"
   ]
  },
  {
   "cell_type": "markdown",
   "id": "fc8b05ea",
   "metadata": {},
   "source": [
    "### Different types of operators are:\n",
    "\n",
    "* Arithmetic \n",
    "* Relational (or) Comparision\n",
    "* Equality \n",
    "* Logical \n",
    "* Bitwise \n",
    "* Shift\n",
    "\n"
   ]
  },
  {
   "cell_type": "markdown",
   "id": "d41068be",
   "metadata": {},
   "source": [
    "## Arithmetic Operators"
   ]
  },
  {
   "cell_type": "markdown",
   "id": "4c13e0fb",
   "metadata": {},
   "source": [
    "* '+' (Addition)\n",
    "* '-' (Subtraction)\n",
    "* '*' (Multiplication)\n",
    "* '/' (Division)\n",
    "* '**' (Exponential)\n",
    "* '//' (Floor Division)"
   ]
  },
  {
   "cell_type": "markdown",
   "id": "73f49e3a",
   "metadata": {},
   "source": [
    "### Examples"
   ]
  },
  {
   "cell_type": "code",
   "execution_count": 1,
   "id": "77633d58",
   "metadata": {},
   "outputs": [],
   "source": [
    "a = 9\n",
    "b = 3"
   ]
  },
  {
   "cell_type": "code",
   "execution_count": 2,
   "id": "5961fc6b",
   "metadata": {},
   "outputs": [
    {
     "name": "stdout",
     "output_type": "stream",
     "text": [
      "12\n"
     ]
    }
   ],
   "source": [
    "print(a+b)"
   ]
  },
  {
   "cell_type": "code",
   "execution_count": 3,
   "id": "cfabb460",
   "metadata": {},
   "outputs": [
    {
     "name": "stdout",
     "output_type": "stream",
     "text": [
      "6\n"
     ]
    }
   ],
   "source": [
    "print(a-b)"
   ]
  },
  {
   "cell_type": "code",
   "execution_count": 4,
   "id": "71e9f3c5",
   "metadata": {},
   "outputs": [
    {
     "name": "stdout",
     "output_type": "stream",
     "text": [
      "27\n"
     ]
    }
   ],
   "source": [
    "print(a*b)"
   ]
  },
  {
   "cell_type": "code",
   "execution_count": 5,
   "id": "8df56120",
   "metadata": {},
   "outputs": [
    {
     "name": "stdout",
     "output_type": "stream",
     "text": [
      "3.0\n"
     ]
    }
   ],
   "source": [
    "print(a/b)   # '/' returns floating values"
   ]
  },
  {
   "cell_type": "code",
   "execution_count": 6,
   "id": "30b187a7",
   "metadata": {},
   "outputs": [
    {
     "name": "stdout",
     "output_type": "stream",
     "text": [
      "3\n"
     ]
    }
   ],
   "source": [
    "print(a//b)     #'//' removes floating values"
   ]
  },
  {
   "cell_type": "code",
   "execution_count": 7,
   "id": "ab409c7c",
   "metadata": {},
   "outputs": [
    {
     "name": "stdout",
     "output_type": "stream",
     "text": [
      "729\n"
     ]
    }
   ],
   "source": [
    "print(a**b)     # Returns 9^3"
   ]
  },
  {
   "cell_type": "code",
   "execution_count": 8,
   "id": "b1253761",
   "metadata": {},
   "outputs": [
    {
     "name": "stdout",
     "output_type": "stream",
     "text": [
      "Balaji Balaji Balaji \n"
     ]
    }
   ],
   "source": [
    "print('Balaji '*3)"
   ]
  },
  {
   "cell_type": "markdown",
   "id": "6a15dbd4",
   "metadata": {},
   "source": [
    "## Relational (or) Comparision Operators"
   ]
  },
  {
   "cell_type": "markdown",
   "id": "6a61ded4",
   "metadata": {},
   "source": [
    "* '>' (Greater than)\n",
    "* '>=' (Greater than or equal to)\n",
    "* '<' (Less than)\n",
    "* '<=' (Less than or equal to)\n",
    "#### Note: Relational operators always return bool values as output"
   ]
  },
  {
   "cell_type": "markdown",
   "id": "aea533b7",
   "metadata": {},
   "source": [
    "## Examples"
   ]
  },
  {
   "cell_type": "code",
   "execution_count": 9,
   "id": "2150fbab",
   "metadata": {},
   "outputs": [
    {
     "name": "stdout",
     "output_type": "stream",
     "text": [
      "True\n",
      "True\n",
      "False\n",
      "False\n"
     ]
    }
   ],
   "source": [
    "a = 20\n",
    "b = 10\n",
    "print(a>b)\n",
    "print(a>=b)\n",
    "print(a<b)\n",
    "print(a<=b)"
   ]
  },
  {
   "cell_type": "markdown",
   "id": "8febf8a2",
   "metadata": {},
   "source": [
    "### We can also check for string values based on ASCII (Unicode) values\n",
    "#### To know unicode values, we use ord(' ') function.\n",
    "#### If we know unicode value and to fing corresponding character, we use chr( ) function."
   ]
  },
  {
   "cell_type": "code",
   "execution_count": 10,
   "id": "9b24957e",
   "metadata": {},
   "outputs": [
    {
     "name": "stdout",
     "output_type": "stream",
     "text": [
      "[97, 98, 99, 100, 101, 102, 103, 104, 105, 106, 107, 108, 109, 110, 111, 112, 113, 114, 115, 116, 117, 118, 119, 120, 121, 122]\n"
     ]
    }
   ],
   "source": [
    "lowercase_characters = ['a','b','c','d','e','f','g','h','i','j','k','l',\n",
    "              'm','n','o','p','q','r','s','t','u','v','w','x','y','z']\n",
    "empty_list = []\n",
    "for i in lowercase_characters:\n",
    "    empty_list += [ord(i)]\n",
    "print(empty_list)"
   ]
  },
  {
   "cell_type": "code",
   "execution_count": 11,
   "id": "a846c74f",
   "metadata": {},
   "outputs": [
    {
     "name": "stdout",
     "output_type": "stream",
     "text": [
      "[65, 66, 67, 68, 69, 70, 71, 72, 73, 74, 75, 76, 77, 78, 79, 80, 81, 82, 83, 84, 85, 86, 87, 88, 89, 90]\n"
     ]
    }
   ],
   "source": [
    "uppercase_characters = ['A','B','C','D','E','F','G','H','I','J','K','L'\n",
    "             ,'M','N','O','P','Q','R','S','T','U','V','W','X','Y','Z']\n",
    "empty_list = []\n",
    "for i in uppercase_characters:\n",
    "    empty_list += [ord(i)]\n",
    "print(empty_list)"
   ]
  },
  {
   "cell_type": "code",
   "execution_count": 12,
   "id": "ba827ab4",
   "metadata": {},
   "outputs": [
    {
     "data": {
      "text/plain": [
       "'a'"
      ]
     },
     "execution_count": 12,
     "metadata": {},
     "output_type": "execute_result"
    }
   ],
   "source": [
    "chr(97)"
   ]
  },
  {
   "cell_type": "code",
   "execution_count": 13,
   "id": "4954f7ab",
   "metadata": {},
   "outputs": [
    {
     "data": {
      "text/plain": [
       "'A'"
      ]
     },
     "execution_count": 13,
     "metadata": {},
     "output_type": "execute_result"
    }
   ],
   "source": [
    "chr(65)"
   ]
  },
  {
   "cell_type": "code",
   "execution_count": 14,
   "id": "e3d8355a",
   "metadata": {},
   "outputs": [
    {
     "name": "stdout",
     "output_type": "stream",
     "text": [
      "False\n",
      "True\n",
      "False\n",
      "True\n"
     ]
    }
   ],
   "source": [
    "S1 = 'Balaji'\n",
    "S2 = 'Balaji'\n",
    "print(S1>S2)\n",
    "print(S1>=S2)\n",
    "print(S1<S2)\n",
    "print(S1<=S2)"
   ]
  },
  {
   "cell_type": "code",
   "execution_count": 15,
   "id": "6f93edc4",
   "metadata": {},
   "outputs": [
    {
     "name": "stdout",
     "output_type": "stream",
     "text": [
      "False\n",
      "False\n",
      "True\n",
      "True\n"
     ]
    }
   ],
   "source": [
    "a = 'Balaji'\n",
    "b = 'balaji'\n",
    "print(a>b)\n",
    "print(a>=b)\n",
    "print(a<b)\n",
    "print(a<=b)"
   ]
  },
  {
   "cell_type": "markdown",
   "id": "28d7fbea",
   "metadata": {},
   "source": [
    "### Relational operators for bool  type"
   ]
  },
  {
   "cell_type": "code",
   "execution_count": 16,
   "id": "112016a0",
   "metadata": {},
   "outputs": [
    {
     "name": "stdout",
     "output_type": "stream",
     "text": [
      "False\n",
      "True\n",
      "True\n",
      "True\n",
      "False\n",
      "True\n",
      "False\n",
      "False\n"
     ]
    }
   ],
   "source": [
    "print(True>True)\n",
    "print(True>False)\n",
    "print(True>=True)\n",
    "print(True>=False)\n",
    "print(True<True)\n",
    "print(True<=True)\n",
    "print(True<False)\n",
    "print(True<=False)"
   ]
  },
  {
   "cell_type": "markdown",
   "id": "c8a913c2",
   "metadata": {},
   "source": [
    "## Equality Operators"
   ]
  },
  {
   "cell_type": "markdown",
   "id": "85301944",
   "metadata": {},
   "source": [
    "### They are used to check values are equal or not. It returns bool values\n",
    "\n",
    "* '==' (Equal to)\n",
    "* '!=' (Not Equal to)"
   ]
  },
  {
   "cell_type": "markdown",
   "id": "02dc38ec",
   "metadata": {},
   "source": [
    "## Examples"
   ]
  },
  {
   "cell_type": "code",
   "execution_count": 17,
   "id": "a438289c",
   "metadata": {},
   "outputs": [
    {
     "name": "stdout",
     "output_type": "stream",
     "text": [
      "False\n",
      "True\n"
     ]
    }
   ],
   "source": [
    "a = 10\n",
    "b = 20\n",
    "print(a==b)\n",
    "print(a!=b)"
   ]
  },
  {
   "cell_type": "code",
   "execution_count": 18,
   "id": "3a537e21",
   "metadata": {},
   "outputs": [
    {
     "name": "stdout",
     "output_type": "stream",
     "text": [
      "True\n",
      "False\n"
     ]
    }
   ],
   "source": [
    "a = 'Balaji'\n",
    "b = 'Balaji'\n",
    "print(a==b)\n",
    "print(a!=b)"
   ]
  },
  {
   "cell_type": "code",
   "execution_count": 19,
   "id": "2a9c4c77",
   "metadata": {},
   "outputs": [
    {
     "name": "stdout",
     "output_type": "stream",
     "text": [
      "False\n",
      "True\n"
     ]
    }
   ],
   "source": [
    "a = 'balaji'\n",
    "b = 'Balaji'\n",
    "print(a==b)\n",
    "print(a!=b)\n"
   ]
  },
  {
   "cell_type": "code",
   "execution_count": 20,
   "id": "dde85fee",
   "metadata": {},
   "outputs": [
    {
     "name": "stdout",
     "output_type": "stream",
     "text": [
      "True\n",
      "False\n",
      "False\n",
      "True\n",
      "True\n",
      "False\n"
     ]
    }
   ],
   "source": [
    "print(True  == True)\n",
    "print(True  != True)\n",
    "print(False == True)\n",
    "print(False != True)\n",
    "print(False == False)\n",
    "print(False != False)"
   ]
  },
  {
   "cell_type": "markdown",
   "id": "4bea98bb",
   "metadata": {},
   "source": [
    "## Logical Operators"
   ]
  },
  {
   "cell_type": "markdown",
   "id": "8ceceb06",
   "metadata": {},
   "source": [
    "* and\n",
    "* or\n",
    "* not\n",
    "\n",
    "### For Boolean values\n"
   ]
  },
  {
   "cell_type": "markdown",
   "id": "110cdb2e",
   "metadata": {},
   "source": [
    "### 'and' operator"
   ]
  },
  {
   "cell_type": "markdown",
   "id": "637575d4",
   "metadata": {},
   "source": [
    "#### For an 'and' operator two values must be True to return True. If any one is False it returns False."
   ]
  },
  {
   "cell_type": "code",
   "execution_count": 21,
   "id": "6224a5d2",
   "metadata": {},
   "outputs": [
    {
     "name": "stdout",
     "output_type": "stream",
     "text": [
      "True\n",
      "False\n",
      "False\n",
      "False\n"
     ]
    }
   ],
   "source": [
    "print(True and True)\n",
    "print(True and False)\n",
    "print(False and True)\n",
    "print(False and False)"
   ]
  },
  {
   "cell_type": "markdown",
   "id": "b1445dff",
   "metadata": {},
   "source": [
    "### 'or' operator"
   ]
  },
  {
   "cell_type": "code",
   "execution_count": 22,
   "id": "7589c770",
   "metadata": {},
   "outputs": [
    {
     "name": "stdout",
     "output_type": "stream",
     "text": [
      "True\n",
      "True\n",
      "True\n",
      "False\n"
     ]
    }
   ],
   "source": [
    "print(True or False)\n",
    "print(True or True)\n",
    "print(False or True)\n",
    "print(False or False)"
   ]
  },
  {
   "cell_type": "markdown",
   "id": "d6a79129",
   "metadata": {},
   "source": [
    "### 'not' operator"
   ]
  },
  {
   "cell_type": "code",
   "execution_count": 23,
   "id": "e591b3e1",
   "metadata": {},
   "outputs": [
    {
     "name": "stdout",
     "output_type": "stream",
     "text": [
      "False\n",
      "True\n"
     ]
    }
   ],
   "source": [
    "print(not True)\n",
    "print(not False)"
   ]
  },
  {
   "cell_type": "markdown",
   "id": "0841edae",
   "metadata": {},
   "source": [
    "### For non-boolean values"
   ]
  },
  {
   "cell_type": "code",
   "execution_count": 24,
   "id": "402a0597",
   "metadata": {},
   "outputs": [
    {
     "name": "stdout",
     "output_type": "stream",
     "text": [
      "20\n",
      "10\n",
      "False\n",
      "False\n"
     ]
    }
   ],
   "source": [
    "a = 10\n",
    "b = 20\n",
    "print(a and b)  # b prints because a evaluates to True\n",
    "print(a or b)\n",
    "print(not a)\n",
    "print(not b)"
   ]
  },
  {
   "cell_type": "code",
   "execution_count": 25,
   "id": "4ff24f08",
   "metadata": {},
   "outputs": [
    {
     "name": "stdout",
     "output_type": "stream",
     "text": [
      "0\n",
      "10\n"
     ]
    }
   ],
   "source": [
    "a = 0\n",
    "b = 10\n",
    "print(a and b)\n",
    "print(a or b)\n"
   ]
  },
  {
   "cell_type": "code",
   "execution_count": 26,
   "id": "a6245d5e",
   "metadata": {},
   "outputs": [
    {
     "name": "stdout",
     "output_type": "stream",
     "text": [
      "Data scientist\n",
      "balaji\n"
     ]
    }
   ],
   "source": [
    "a = 'balaji'\n",
    "b = 'Data scientist'\n",
    "print(a and b)\n",
    "print(a or b)"
   ]
  },
  {
   "cell_type": "code",
   "execution_count": 27,
   "id": "7793caf5",
   "metadata": {},
   "outputs": [
    {
     "name": "stdout",
     "output_type": "stream",
     "text": [
      "\n",
      "Balaji\n"
     ]
    }
   ],
   "source": [
    "a = ''\n",
    "b = 'Balaji'\n",
    "print(a and b)   # Prints as empty\n",
    "print(a or b)"
   ]
  },
  {
   "cell_type": "code",
   "execution_count": 28,
   "id": "556d88ab",
   "metadata": {},
   "outputs": [
    {
     "name": "stdout",
     "output_type": "stream",
     "text": [
      "\n",
      "\n"
     ]
    }
   ],
   "source": [
    "a = ''\n",
    "b = ''\n",
    "print(a and b)\n",
    "print(a or b)    # Prints nothing because both values are empty"
   ]
  },
  {
   "cell_type": "code",
   "execution_count": 29,
   "id": "1bf62649",
   "metadata": {},
   "outputs": [
    {
     "name": "stdout",
     "output_type": "stream",
     "text": [
      "True\n",
      "True\n"
     ]
    }
   ],
   "source": [
    "a = ''\n",
    "b = ''\n",
    "print(not a)\n",
    "print(not b)"
   ]
  },
  {
   "cell_type": "markdown",
   "id": "35b33654",
   "metadata": {},
   "source": [
    "## Bitwise Operators"
   ]
  },
  {
   "cell_type": "markdown",
   "id": "21a26ed8",
   "metadata": {},
   "source": [
    "* '&' (and)\n",
    "* '|' (or)\n",
    "* '^' (X-or)\n",
    "* '~' (Complementary Operator)"
   ]
  },
  {
   "cell_type": "code",
   "execution_count": 31,
   "id": "31e1818c",
   "metadata": {},
   "outputs": [
    {
     "ename": "SyntaxError",
     "evalue": "invalid syntax (<ipython-input-31-0b9ba06c3eb6>, line 1)",
     "output_type": "error",
     "traceback": [
      "\u001b[1;36m  File \u001b[1;32m\"<ipython-input-31-0b9ba06c3eb6>\"\u001b[1;36m, line \u001b[1;32m1\u001b[0m\n\u001b[1;33m    4 & 5 '''It takes bit wise i.e, 4--->1 0 0 ; 5-->1 0 1, these gets adds and returns 1 0 0 in (binary) so it is 4.'''\u001b[0m\n\u001b[1;37m          ^\u001b[0m\n\u001b[1;31mSyntaxError\u001b[0m\u001b[1;31m:\u001b[0m invalid syntax\n"
     ]
    }
   ],
   "source": [
    "4 & 5 '''It takes bit wise i.e, 4--->1 0 0 ; 5-->1 0 1, these gets adds and returns 1 0 0 in (binary) so it is 4.'''"
   ]
  },
  {
   "cell_type": "code",
   "execution_count": 32,
   "id": "d4faee52",
   "metadata": {},
   "outputs": [
    {
     "name": "stdout",
     "output_type": "stream",
     "text": [
      "4\n",
      "0\n",
      "0\n"
     ]
    }
   ],
   "source": [
    "print(5 & 4)\n",
    "print(0 & 4)\n",
    "print(0 & 0)"
   ]
  },
  {
   "cell_type": "code",
   "execution_count": 33,
   "id": "f8210e86",
   "metadata": {},
   "outputs": [
    {
     "name": "stdout",
     "output_type": "stream",
     "text": [
      "7\n",
      "7\n",
      "3\n",
      "8\n"
     ]
    }
   ],
   "source": [
    "print(6 | 7)\n",
    "print(7 | 6)\n",
    "print(0 | 3)\n",
    "print(8 | 0)"
   ]
  },
  {
   "cell_type": "code",
   "execution_count": 34,
   "id": "8c0fd12d",
   "metadata": {},
   "outputs": [
    {
     "name": "stdout",
     "output_type": "stream",
     "text": [
      "5\n",
      "3\n"
     ]
    }
   ],
   "source": [
    "print(6 ^ 3)\n",
    "print(0 ^ 3)"
   ]
  },
  {
   "cell_type": "code",
   "execution_count": 35,
   "id": "49d95cf9",
   "metadata": {},
   "outputs": [
    {
     "name": "stdout",
     "output_type": "stream",
     "text": [
      "-4\n",
      "-7\n",
      "-3\n",
      "5\n"
     ]
    }
   ],
   "source": [
    "print(~3)\n",
    "print(~6)\n",
    "print(~2)\n",
    "print(~-6)"
   ]
  },
  {
   "cell_type": "markdown",
   "id": "efb7dfe3",
   "metadata": {},
   "source": [
    "## Shift Operators"
   ]
  },
  {
   "cell_type": "markdown",
   "id": "da4b61ac",
   "metadata": {},
   "source": [
    "* '<<' (Left Shift)\n",
    "* '>>' (Right Shift)"
   ]
  },
  {
   "cell_type": "markdown",
   "id": "c964819e",
   "metadata": {},
   "source": [
    "### Left Shift "
   ]
  },
  {
   "cell_type": "code",
   "execution_count": 36,
   "id": "ce59be3d",
   "metadata": {},
   "outputs": [
    {
     "data": {
      "text/plain": [
       "40"
      ]
     },
     "execution_count": 36,
     "metadata": {},
     "output_type": "execute_result"
    }
   ],
   "source": [
    "10 << 2   # The numbers converts to binary and then shifting is done by 2"
   ]
  },
  {
   "cell_type": "code",
   "execution_count": 37,
   "id": "7bd6a985",
   "metadata": {},
   "outputs": [
    {
     "name": "stdout",
     "output_type": "stream",
     "text": [
      "160\n",
      "480\n",
      "1280\n"
     ]
    }
   ],
   "source": [
    "print(20<<3)\n",
    "print(30<<4)\n",
    "print(40<<5)"
   ]
  },
  {
   "cell_type": "markdown",
   "id": "b4fd8251",
   "metadata": {},
   "source": [
    "### Right shift"
   ]
  },
  {
   "cell_type": "code",
   "execution_count": 38,
   "id": "34b9fd6c",
   "metadata": {},
   "outputs": [
    {
     "name": "stdout",
     "output_type": "stream",
     "text": [
      "2\n",
      "2\n",
      "15\n",
      "6\n"
     ]
    }
   ],
   "source": [
    "print(10>>2)\n",
    "print(20>>3)\n",
    "print(60>>2)\n",
    "print(400>>6)"
   ]
  }
 ],
 "metadata": {
  "kernelspec": {
   "display_name": "Python 3",
   "language": "python",
   "name": "python3"
  },
  "language_info": {
   "codemirror_mode": {
    "name": "ipython",
    "version": 3
   },
   "file_extension": ".py",
   "mimetype": "text/x-python",
   "name": "python",
   "nbconvert_exporter": "python",
   "pygments_lexer": "ipython3",
   "version": "3.8.8"
  }
 },
 "nbformat": 4,
 "nbformat_minor": 5
}
