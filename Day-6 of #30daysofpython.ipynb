{
 "cells": [
  {
   "cell_type": "markdown",
   "id": "637a9013",
   "metadata": {},
   "source": [
    "## Day-6 of   #30daysofPython\n"
   ]
  },
  {
   "cell_type": "markdown",
   "id": "9fcb3212",
   "metadata": {},
   "source": [
    "## Topic: Flow Control - 1\n"
   ]
  },
  {
   "cell_type": "markdown",
   "id": "17b33ec2",
   "metadata": {},
   "source": [
    "### Selection Statements"
   ]
  },
  {
   "cell_type": "markdown",
   "id": "5bd863d7",
   "metadata": {},
   "source": [
    "* if\n",
    "* if - elif\n",
    "* if - elif - else "
   ]
  },
  {
   "cell_type": "markdown",
   "id": "637ac44b",
   "metadata": {},
   "source": [
    "##### The order in which the statements are executed at run time is decided by Flow Control."
   ]
  },
  {
   "cell_type": "markdown",
   "id": "6e43d0e9",
   "metadata": {},
   "source": [
    "## if statement"
   ]
  },
  {
   "cell_type": "code",
   "execution_count": null,
   "id": "8f9ca2ea",
   "metadata": {},
   "outputs": [],
   "source": [
    "'''Syntax:\n",
    "\n",
    "if (condition):\n",
    "    statement 1\n",
    "    statement 2'''"
   ]
  },
  {
   "cell_type": "markdown",
   "id": "bf287e12",
   "metadata": {},
   "source": [
    "#### Example"
   ]
  },
  {
   "cell_type": "code",
   "execution_count": 3,
   "id": "959259b8",
   "metadata": {},
   "outputs": [
    {
     "name": "stdout",
     "output_type": "stream",
     "text": [
      "Enter a name : Balaji\n",
      "Hello Balaji\n"
     ]
    }
   ],
   "source": [
    "a = input(\"Enter a name : \")\n",
    "if a == 'Balaji':\n",
    "    print(\"Hello\",end=' ')\n",
    "print(\"Balaji\")"
   ]
  },
  {
   "cell_type": "markdown",
   "id": "dac2f3b7",
   "metadata": {},
   "source": [
    "## if - else"
   ]
  },
  {
   "cell_type": "code",
   "execution_count": null,
   "id": "080e4173",
   "metadata": {},
   "outputs": [],
   "source": [
    "'''Syntax:\n",
    "\n",
    "if (condition):\n",
    "    statement 1\n",
    "else:\n",
    "    statement 2'''"
   ]
  },
  {
   "cell_type": "markdown",
   "id": "d480b677",
   "metadata": {},
   "source": [
    "#### Example"
   ]
  },
  {
   "cell_type": "code",
   "execution_count": 5,
   "id": "1fcebadb",
   "metadata": {},
   "outputs": [
    {
     "name": "stdout",
     "output_type": "stream",
     "text": [
      "Enter a name : Balaji\n",
      "Hello Balaji!\n"
     ]
    }
   ],
   "source": [
    "a = input(\"Enter a name : \")\n",
    "if a == 'Balaji':\n",
    "    print(\"Hello {}!\".format(a))\n",
    "else:\n",
    "    print(\"Hello Stranger!\")"
   ]
  },
  {
   "cell_type": "code",
   "execution_count": 6,
   "id": "8f534ca7",
   "metadata": {},
   "outputs": [
    {
     "name": "stdout",
     "output_type": "stream",
     "text": [
      "Enter a name : Data Scientist\n",
      "Hello Stranger!\n"
     ]
    }
   ],
   "source": [
    "a = input(\"Enter a name : \")\n",
    "if a == 'Balaji':\n",
    "    print(\"Hello {}!\".format(a))\n",
    "else:\n",
    "    print(\"Hello Stranger!\")"
   ]
  },
  {
   "cell_type": "markdown",
   "id": "2f650e7f",
   "metadata": {},
   "source": [
    "## if - else - elif"
   ]
  },
  {
   "cell_type": "code",
   "execution_count": null,
   "id": "15a3a7fa",
   "metadata": {},
   "outputs": [],
   "source": [
    "'''Syntax:\n",
    "if condition 1:\n",
    "    statement 1\n",
    "elif condition 2:\n",
    "    statement 2\n",
    "elif condition 3:\n",
    "    statement 3\n",
    "else:\n",
    "    statement 4'''"
   ]
  },
  {
   "cell_type": "markdown",
   "id": "713ce099",
   "metadata": {},
   "source": [
    "#### Example"
   ]
  },
  {
   "cell_type": "markdown",
   "id": "1f733672",
   "metadata": {},
   "source": [
    "### Q. Car Price based on brand"
   ]
  },
  {
   "cell_type": "code",
   "execution_count": 7,
   "id": "c5d1a6c4",
   "metadata": {},
   "outputs": [
    {
     "name": "stdout",
     "output_type": "stream",
     "text": [
      "Enter a car brand : BmW\n",
      "The cost of BMW car is 3 crores\n"
     ]
    }
   ],
   "source": [
    "brand = input(\"Enter a car brand : \").upper() #.upper() converts lower case to uppercase characters\n",
    "if brand == 'bmw'.upper():\n",
    "    print(\"The cost of {} car is 3 crores\".format(brand))\n",
    "elif brand == 'Lambhorgini'.upper():\n",
    "    print(\"The cost of {} car is 5 crores\".format(brand))\n",
    "elif brand == 'rollsroyce'.upper():\n",
    "    print(\"The cost of {} car is 8 crores\".format(brand))\n",
    "else:\n",
    "    print(\"Sorry! The car brand is not available\")\n",
    "    print(\"Pick up BMW, Lambhorgini, RollsRoyce\")\n"
   ]
  },
  {
   "cell_type": "code",
   "execution_count": 8,
   "id": "72cfa58a",
   "metadata": {},
   "outputs": [
    {
     "name": "stdout",
     "output_type": "stream",
     "text": [
      "Enter a car brand : ROLLSROYCE\n",
      "The cost of ROLLSROYCE car is 8 crores\n"
     ]
    }
   ],
   "source": [
    "# Same program to execute elif block\n",
    "\n",
    "brand = input(\"Enter a car brand : \").upper() #.upper() converts lower case to uppercase characters\n",
    "if brand == 'bmw'.upper():\n",
    "    print(\"The cost of {} car is 3 crores\".format(brand))\n",
    "elif brand == 'Lambhorgini'.upper():\n",
    "    print(\"The cost of {} car is 5 crores\".format(brand))\n",
    "elif brand == 'rollsroyce'.upper():\n",
    "    print(\"The cost of {} car is 8 crores\".format(brand))\n",
    "else:\n",
    "    print(\"Sorry! The car brand is not available\")\n",
    "    print(\"Pick up BMW, Lambhorgini, RollsRoyce\")"
   ]
  },
  {
   "cell_type": "code",
   "execution_count": 9,
   "id": "e3320dc7",
   "metadata": {},
   "outputs": [
    {
     "name": "stdout",
     "output_type": "stream",
     "text": [
      "Enter a car brand : Audi\n",
      "Sorry! The car brand is not available\n",
      "Pick up BMW, Lambhorgini, RollsRoyce\n"
     ]
    }
   ],
   "source": [
    "# Same program to execute else block\n",
    "\n",
    "brand = input(\"Enter a car brand : \").upper() #.upper() converts lower case to uppercase characters\n",
    "if brand == 'bmw'.upper():\n",
    "    print(\"The cost of {} car is 3 crores\".format(brand))\n",
    "elif brand == 'Lambhorgini'.upper():\n",
    "    print(\"The cost of {} car is 5 crores\".format(brand))\n",
    "elif brand == 'rollsroyce'.upper():\n",
    "    print(\"The cost of {} car is 8 crores\".format(brand))\n",
    "else:\n",
    "    print(\"Sorry! The car brand is not available\")\n",
    "    print(\"Pick up BMW, Lambhorgini, RollsRoyce\")"
   ]
  },
  {
   "cell_type": "markdown",
   "id": "8792008f",
   "metadata": {},
   "source": [
    "## Examples"
   ]
  },
  {
   "cell_type": "markdown",
   "id": "03d8cbbb",
   "metadata": {},
   "source": [
    "### Q. Program to find biggest of two numbers?"
   ]
  },
  {
   "cell_type": "code",
   "execution_count": 10,
   "id": "8deeb07f",
   "metadata": {},
   "outputs": [
    {
     "name": "stdout",
     "output_type": "stream",
     "text": [
      "Enter 1st number : 6\n",
      "Enter 2nd number : 9\n",
      "9 is bigger than 6\n"
     ]
    }
   ],
   "source": [
    "a = int(input(\"Enter 1st number : \"))\n",
    "b = int(input(\"Enter 2nd number : \"))\n",
    "if a>b:\n",
    "    print(\"{} is bigger than {}\".format(a,b))\n",
    "else:\n",
    "    print(\"{} is bigger than {}\".format(b,a))  "
   ]
  },
  {
   "cell_type": "markdown",
   "id": "c16887bb",
   "metadata": {},
   "source": [
    "### Q. Program to check  whether given number is in between 1 & 100"
   ]
  },
  {
   "cell_type": "code",
   "execution_count": 12,
   "id": "3f82fe8e",
   "metadata": {},
   "outputs": [
    {
     "name": "stdout",
     "output_type": "stream",
     "text": [
      "Enter 1st number : 65\n",
      "65 is in between 1 and 100\n"
     ]
    }
   ],
   "source": [
    "a = int(input(\"Enter 1st number : \"))\n",
    "if a in range(0,101):\n",
    "    print(\"{} is in between 1 and 100\".format(a))\n",
    "else:\n",
    "    print(\"{} is not in between 1 and 100\".format(a))"
   ]
  }
 ],
 "metadata": {
  "kernelspec": {
   "display_name": "Python 3",
   "language": "python",
   "name": "python3"
  },
  "language_info": {
   "codemirror_mode": {
    "name": "ipython",
    "version": 3
   },
   "file_extension": ".py",
   "mimetype": "text/x-python",
   "name": "python",
   "nbconvert_exporter": "python",
   "pygments_lexer": "ipython3",
   "version": "3.8.8"
  }
 },
 "nbformat": 4,
 "nbformat_minor": 5
}
