{
 "cells": [
  {
   "cell_type": "markdown",
   "id": "35a0f65c",
   "metadata": {},
   "source": [
    "## Day-4 of   #30daysofPython\n"
   ]
  },
  {
   "cell_type": "markdown",
   "id": "29f39c61",
   "metadata": {},
   "source": [
    "## Topic: Input Statements"
   ]
  },
  {
   "cell_type": "markdown",
   "id": "19f0cea8",
   "metadata": {},
   "source": [
    "* input( )\n",
    "* Reading multiple values from user\n",
    "* Shortcut to read multiple values in a single line\n",
    "* eval() function"
   ]
  },
  {
   "cell_type": "markdown",
   "id": "f95b4f77",
   "metadata": {},
   "source": [
    "#### input( ) is a function that takes input from a user. "
   ]
  },
  {
   "cell_type": "markdown",
   "id": "83c61567",
   "metadata": {},
   "source": [
    "##### Examples"
   ]
  },
  {
   "cell_type": "code",
   "execution_count": 4,
   "id": "b2f401c7",
   "metadata": {},
   "outputs": [
    {
     "name": "stdout",
     "output_type": "stream",
     "text": [
      "Enter a word : Balaji\n",
      "Balaji\n",
      "<class 'str'>\n"
     ]
    }
   ],
   "source": [
    "a = input(\"Enter a word : \")\n",
    "print(a)\n",
    "print(type(a))"
   ]
  },
  {
   "cell_type": "code",
   "execution_count": 5,
   "id": "0bff9923",
   "metadata": {},
   "outputs": [
    {
     "name": "stdout",
     "output_type": "stream",
     "text": [
      "Enter a number : 9\n",
      "9\n",
      "<class 'str'>\n"
     ]
    }
   ],
   "source": [
    "a = input('Enter a number : ')\n",
    "print(a)\n",
    "print(type(a))"
   ]
  },
  {
   "cell_type": "code",
   "execution_count": 7,
   "id": "a3ae2f7e",
   "metadata": {},
   "outputs": [
    {
     "name": "stdout",
     "output_type": "stream",
     "text": [
      "Enter a float number : 23.698\n",
      "23.698\n",
      "<class 'str'>\n"
     ]
    }
   ],
   "source": [
    "a = input(\"Enter a float number : \")\n",
    "print(a)\n",
    "print(type(a))"
   ]
  },
  {
   "cell_type": "code",
   "execution_count": 9,
   "id": "4a41d67b",
   "metadata": {},
   "outputs": [
    {
     "name": "stdout",
     "output_type": "stream",
     "text": [
      "Enter a bool value : True\n",
      "True\n",
      "<class 'str'>\n"
     ]
    }
   ],
   "source": [
    "a = input(\"Enter a bool value : \")\n",
    "print(a)\n",
    "print(type(a))"
   ]
  },
  {
   "cell_type": "markdown",
   "id": "379ab73c",
   "metadata": {},
   "source": [
    "#### As seen in above examples input( ) function by default gives 'str' datatype.\n",
    "#### So, we need to typecast into required datatype."
   ]
  },
  {
   "cell_type": "code",
   "execution_count": 6,
   "id": "1c3af6b6",
   "metadata": {},
   "outputs": [
    {
     "name": "stdout",
     "output_type": "stream",
     "text": [
      "Enter a number : 99\n",
      "99\n",
      "<class 'int'>\n"
     ]
    }
   ],
   "source": [
    "a = int(input(\"Enter a number : \"))\n",
    "print(a)\n",
    "print(type(a))"
   ]
  },
  {
   "cell_type": "code",
   "execution_count": 17,
   "id": "e367ba15",
   "metadata": {},
   "outputs": [
    {
     "name": "stdout",
     "output_type": "stream",
     "text": [
      "Enter a float value : 29.978\n",
      "29.978\n",
      "<class 'float'>\n"
     ]
    }
   ],
   "source": [
    "a = float(input(\"Enter a float value : \"))\n",
    "print(a)\n",
    "print(type(a))"
   ]
  },
  {
   "cell_type": "code",
   "execution_count": 10,
   "id": "f97c3e45",
   "metadata": {},
   "outputs": [
    {
     "name": "stdout",
     "output_type": "stream",
     "text": [
      "Enter a bool value : True\n",
      "True\n",
      "<class 'bool'>\n"
     ]
    }
   ],
   "source": [
    "a = bool(input(\"Enter a bool value : \"))\n",
    "print(a)\n",
    "print(type(a))"
   ]
  },
  {
   "cell_type": "markdown",
   "id": "a7e5830c",
   "metadata": {},
   "source": [
    "### Q) Program to read employee data from user and print the data."
   ]
  },
  {
   "cell_type": "code",
   "execution_count": 22,
   "id": "edfbca07",
   "metadata": {},
   "outputs": [
    {
     "name": "stdout",
     "output_type": "stream",
     "text": [
      "Enter the name : Balaji\n",
      "Enter the age : 21\n",
      "Enter the occupation : Trainee\n",
      "Is married?[True / False] : False\n",
      "Expected salary as a fresher : 50231.206\n",
      "\n",
      "Name :  Balaji\n",
      "Age :  21\n",
      "Occupation :  Trainee\n",
      "Is married? :  True\n",
      "Salary :  50231.206\n"
     ]
    }
   ],
   "source": [
    "a = input(\"Enter the name : \")\n",
    "b = int(input(\"Enter the age : \"))\n",
    "c = input(\"Enter the occupation : \")\n",
    "d = bool(input(\"Is married?[True / False] : \" ))\n",
    "e = float(input(\"Expected salary as a fresher : \"))\n",
    "print()\n",
    "print('Name : ',a)\n",
    "print('Age : ',b)\n",
    "print('Occupation : ',c)\n",
    "print('Is married? : ',d)\n",
    "print('Salary : ',e)\n"
   ]
  },
  {
   "cell_type": "markdown",
   "id": "6b15c0e4",
   "metadata": {},
   "source": [
    "## Shortcut to read multiple inputs in a single line"
   ]
  },
  {
   "cell_type": "code",
   "execution_count": 25,
   "id": "fcaa42ac",
   "metadata": {},
   "outputs": [
    {
     "name": "stdout",
     "output_type": "stream",
     "text": [
      "Enter two numbers : 10 20\n"
     ]
    },
    {
     "data": {
      "text/plain": [
       "'10 20'"
      ]
     },
     "execution_count": 25,
     "metadata": {},
     "output_type": "execute_result"
    }
   ],
   "source": [
    "a = input(\"Enter two numbers : \")\n",
    "a"
   ]
  },
  {
   "cell_type": "markdown",
   "id": "b2aeb361",
   "metadata": {},
   "source": [
    "### From the above example even if we give 2 inputs it returns as single string"
   ]
  },
  {
   "cell_type": "markdown",
   "id": "df75d291",
   "metadata": {},
   "source": [
    "#### Examples of giving inputs in a single line"
   ]
  },
  {
   "cell_type": "code",
   "execution_count": 26,
   "id": "6bbe0039",
   "metadata": {},
   "outputs": [
    {
     "name": "stdout",
     "output_type": "stream",
     "text": [
      "Enter 3 numbers : 3,6,9\n",
      "The sum of a,b,c is :  18\n"
     ]
    }
   ],
   "source": [
    "a,b,c = [int(x) for x in input(\"Enter 3 numbers : \").split(',')]\n",
    "print(\"The sum of a,b,c is : \",a+b+c)"
   ]
  },
  {
   "cell_type": "code",
   "execution_count": 27,
   "id": "024d6db7",
   "metadata": {},
   "outputs": [
    {
     "name": "stdout",
     "output_type": "stream",
     "text": [
      "Enter 3 numbers : 3.6,2.2,4.2\n",
      "The sum of a,b,c is :  10.0\n"
     ]
    }
   ],
   "source": [
    "a,b,c = [float(x) for x in input(\"Enter 3 numbers : \").split(',')]\n",
    "print(\"The sum of a,b,c is : \",a+b+c)"
   ]
  },
  {
   "cell_type": "code",
   "execution_count": 28,
   "id": "0fa9063a",
   "metadata": {},
   "outputs": [
    {
     "name": "stdout",
     "output_type": "stream",
     "text": [
      "Enter 3 numbers : 3,6,9,10\n",
      "The product of a,b,c,d is :  1620\n"
     ]
    }
   ],
   "source": [
    "a,b,c,d = [int(x) for x in input(\"Enter 3 numbers : \").split(',')]\n",
    "print(\"The product of a,b,c,d is : \",a*b*c*d)"
   ]
  },
  {
   "cell_type": "markdown",
   "id": "2076fec8",
   "metadata": {},
   "source": [
    "## eval( ) function"
   ]
  },
  {
   "cell_type": "markdown",
   "id": "737a4064",
   "metadata": {},
   "source": [
    "#### Since the input( ) takes as string by default, we are converting into required types\n",
    "#### Instead of using int( ), float( ), bool( ) before input( ), we can use eval( )\n",
    "#### eval( ) understands what type of input we are giving."
   ]
  },
  {
   "cell_type": "markdown",
   "id": "cb511fe2",
   "metadata": {},
   "source": [
    "### Examples"
   ]
  },
  {
   "cell_type": "code",
   "execution_count": 1,
   "id": "1a57a71d",
   "metadata": {},
   "outputs": [
    {
     "name": "stdout",
     "output_type": "stream",
     "text": [
      "Enter a word : 'Balaji'\n",
      "\n",
      "Balaji\n",
      "<class 'str'>\n"
     ]
    }
   ],
   "source": [
    "a = eval(input(\"Enter a word : \"))\n",
    "print()\n",
    "print(a)\n",
    "print(type(a))"
   ]
  },
  {
   "cell_type": "code",
   "execution_count": 2,
   "id": "de7ec4ee",
   "metadata": {},
   "outputs": [
    {
     "name": "stdout",
     "output_type": "stream",
     "text": [
      "Enter a integer value : 9\n",
      "\n",
      "9\n",
      "<class 'int'>\n"
     ]
    }
   ],
   "source": [
    "a = eval(input(\"Enter a integer value : \"))\n",
    "print()\n",
    "print(a)\n",
    "print(type(a))"
   ]
  },
  {
   "cell_type": "code",
   "execution_count": 3,
   "id": "a1ab9fb0",
   "metadata": {},
   "outputs": [
    {
     "name": "stdout",
     "output_type": "stream",
     "text": [
      "Enter a float value : 29.96\n",
      "\n",
      "29.96\n",
      "<class 'float'>\n"
     ]
    }
   ],
   "source": [
    "a = eval(input(\"Enter a float value : \"))\n",
    "print()\n",
    "print(a)\n",
    "print(type(a))"
   ]
  },
  {
   "cell_type": "code",
   "execution_count": 4,
   "id": "98a16893",
   "metadata": {},
   "outputs": [
    {
     "name": "stdout",
     "output_type": "stream",
     "text": [
      "Enter a bool value : True\n",
      "\n",
      "True\n",
      "<class 'bool'>\n"
     ]
    }
   ],
   "source": [
    "a = eval(input(\"Enter a bool value : \"))\n",
    "print()\n",
    "print(a)\n",
    "print(type(a))"
   ]
  },
  {
   "cell_type": "code",
   "execution_count": null,
   "id": "b81a695c",
   "metadata": {},
   "outputs": [],
   "source": []
  }
 ],
 "metadata": {
  "kernelspec": {
   "display_name": "Python 3",
   "language": "python",
   "name": "python3"
  },
  "language_info": {
   "codemirror_mode": {
    "name": "ipython",
    "version": 3
   },
   "file_extension": ".py",
   "mimetype": "text/x-python",
   "name": "python",
   "nbconvert_exporter": "python",
   "pygments_lexer": "ipython3",
   "version": "3.8.8"
  }
 },
 "nbformat": 4,
 "nbformat_minor": 5
}
