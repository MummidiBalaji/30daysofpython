{
 "cells": [
  {
   "cell_type": "markdown",
   "id": "cea096fc",
   "metadata": {},
   "source": [
    "## Day- of #30daysofpython"
   ]
  },
  {
   "cell_type": "markdown",
   "id": "935c8b0c",
   "metadata": {},
   "source": [
    "## Topic: Numpy"
   ]
  },
  {
   "cell_type": "markdown",
   "id": "0c4e80bf",
   "metadata": {},
   "source": [
    "* Importing numpy\n",
    "* Creating 1-Dimensional arrays\n",
    "    * Basic Methods\n",
    "        * shape(), size(), ndim(), len(), dtype()\n",
    "* Creating 2-Dimensional arrays\n",
    "* Creating 3-Dimensional arrays\n",
    "* arange(), reshape() for 1-D arrays\n",
    "* Accesing rows, columns for 2-D arrays\n",
    "    * axis = 0 (rows)\n",
    "    * axis = 1 (columns)\n",
    "* Numpy\n",
    "    * Built-in Methods\n",
    "        * ones(), zeros(),linspace(),random(),full()\n",
    "        * eye(), randint(), arange(),tile()\n",
    "    "
   ]
  },
  {
   "cell_type": "markdown",
   "id": "ffb5baaa",
   "metadata": {},
   "source": [
    "#### * 'ndarray' is a data structure in numpy."
   ]
  },
  {
   "cell_type": "markdown",
   "id": "f7c1df11",
   "metadata": {},
   "source": [
    "### importing a numpy"
   ]
  },
  {
   "cell_type": "code",
   "execution_count": 1,
   "id": "a7d4353d",
   "metadata": {},
   "outputs": [
    {
     "data": {
      "text/plain": [
       "'1.20.1'"
      ]
     },
     "execution_count": 1,
     "metadata": {},
     "output_type": "execute_result"
    }
   ],
   "source": [
    "import numpy as np   # 'np' is alias name of numpy\n",
    "np.__version__       # Returns version of numpy installed"
   ]
  },
  {
   "cell_type": "markdown",
   "id": "4d95a5aa",
   "metadata": {},
   "source": [
    "#### Difference between a list and a array?\n",
    "* The elements in a list are of different datatypes.\n",
    "* The elements in a array must be of same datatypes."
   ]
  },
  {
   "cell_type": "markdown",
   "id": "33e690ef",
   "metadata": {},
   "source": [
    "### Creating 1-Dimensional arrays"
   ]
  },
  {
   "cell_type": "code",
   "execution_count": 3,
   "id": "fd7041f3",
   "metadata": {},
   "outputs": [
    {
     "name": "stdout",
     "output_type": "stream",
     "text": [
      "[1 2 3 4 5 6]\n",
      "<class 'numpy.ndarray'>\n"
     ]
    }
   ],
   "source": [
    "a = np.array([1,2,3,4,5,6])\n",
    "print(a)                     #prints without commas because it is an array.\n",
    "print(type(a))"
   ]
  },
  {
   "cell_type": "markdown",
   "id": "09ae2bb7",
   "metadata": {},
   "source": [
    "### Basic Methods\n",
    "* a.shape------->Gives number of elements in form of tuple as (rows, columns) \n",
    "* np.size(a)-------->Gives total number of elements in an array\n",
    "* len(a)------------>Gives no of rows in an array.\n",
    "* a.ndim------------>Gives dimension of an array\n",
    "* a.dtype----------->Gives datatype"
   ]
  },
  {
   "cell_type": "code",
   "execution_count": 6,
   "id": "7881360f",
   "metadata": {},
   "outputs": [
    {
     "name": "stdout",
     "output_type": "stream",
     "text": [
      "(6,)\n",
      "6\n",
      "1\n",
      "6\n",
      "int32\n"
     ]
    }
   ],
   "source": [
    "a = np.array([1,2,3,4,5,6])\n",
    "print(a.shape)\n",
    "print(np.size(a))\n",
    "print(a.ndim)\n",
    "print(len(a))\n",
    "print(a.dtype)"
   ]
  },
  {
   "cell_type": "markdown",
   "id": "f6a0e64b",
   "metadata": {},
   "source": [
    "### Creating 2-Dimensional arrays"
   ]
  },
  {
   "cell_type": "code",
   "execution_count": 8,
   "id": "15a0014f",
   "metadata": {},
   "outputs": [
    {
     "name": "stdout",
     "output_type": "stream",
     "text": [
      "[[1 2 3]\n",
      " [4 5 6]\n",
      " [7 8 9]]\n",
      "<class 'numpy.ndarray'>\n"
     ]
    }
   ],
   "source": [
    "b = np.array([[1,2,3],[4,5,6],[7,8,9]])\n",
    "print(b)                     #prints without commas because it is an array.\n",
    "print(type(b))"
   ]
  },
  {
   "cell_type": "code",
   "execution_count": 9,
   "id": "a7dd1940",
   "metadata": {},
   "outputs": [
    {
     "name": "stdout",
     "output_type": "stream",
     "text": [
      "(3, 3)\n",
      "9\n",
      "2\n",
      "3\n",
      "int32\n"
     ]
    }
   ],
   "source": [
    "print(b.shape)\n",
    "print(np.size(b))\n",
    "print(b.ndim)\n",
    "print(len(b))\n",
    "print(b.dtype)"
   ]
  },
  {
   "cell_type": "code",
   "execution_count": 11,
   "id": "d7f8127c",
   "metadata": {},
   "outputs": [
    {
     "name": "stdout",
     "output_type": "stream",
     "text": [
      "[['a' 'b' 'c']\n",
      " ['d' 'e' 'f']\n",
      " ['g' 'h' 'i']]\n",
      "<class 'numpy.ndarray'>\n",
      "(3, 3)\n",
      "2\n",
      "3\n",
      "9\n",
      "<U1\n"
     ]
    }
   ],
   "source": [
    "c = np.array([['a','b','c'],['d','e','f'],['g','h','i']])\n",
    "print(c)\n",
    "print(type(c))\n",
    "print(c.shape)\n",
    "print(c.ndim)\n",
    "print(len(c))\n",
    "print(np.size(c))\n",
    "print(c.dtype)"
   ]
  },
  {
   "cell_type": "markdown",
   "id": "3dd5e0ca",
   "metadata": {},
   "source": [
    "## Creating 3-Dimensional arrays"
   ]
  },
  {
   "cell_type": "code",
   "execution_count": 85,
   "id": "5977f40f",
   "metadata": {},
   "outputs": [
    {
     "name": "stdout",
     "output_type": "stream",
     "text": [
      "[[[ 0  1  2  3]\n",
      "  [ 4  5  6  7]\n",
      "  [ 8  9 10 11]]\n",
      "\n",
      " [[12 13 14 15]\n",
      "  [16 17 18 19]\n",
      "  [20 21 22 23]]]\n"
     ]
    }
   ],
   "source": [
    "a = np.arange(24).reshape(2,3,4)\n",
    "\n",
    "#'4' is no. of inner elements\n",
    "#'3' is no. of rows(inner)\n",
    "#'2' is no. of rows(outer) \n",
    "\n",
    "print(a)"
   ]
  },
  {
   "cell_type": "markdown",
   "id": "88125bac",
   "metadata": {},
   "source": [
    "### creating 1-D array using arange()"
   ]
  },
  {
   "cell_type": "code",
   "execution_count": 13,
   "id": "8b85076f",
   "metadata": {},
   "outputs": [
    {
     "name": "stdout",
     "output_type": "stream",
     "text": [
      "[0 1 2 3 4 5 6 7 8 9]\n",
      "<class 'numpy.ndarray'>\n",
      "(10,)\n",
      "10\n",
      "1\n",
      "10\n",
      "int32\n"
     ]
    }
   ],
   "source": [
    "x = np.arange(10)\n",
    "print(x)\n",
    "print(type(x))\n",
    "print(x.shape)\n",
    "print(np.size(x))\n",
    "print(x.ndim)\n",
    "print(len(x))\n",
    "print(x.dtype)"
   ]
  },
  {
   "cell_type": "markdown",
   "id": "4bf7fde5",
   "metadata": {},
   "source": [
    "## reshape()"
   ]
  },
  {
   "cell_type": "markdown",
   "id": "33f771d5",
   "metadata": {},
   "source": [
    "* reshape() is used to change dimension of an array"
   ]
  },
  {
   "cell_type": "code",
   "execution_count": 19,
   "id": "5d121ffc",
   "metadata": {},
   "outputs": [
    {
     "name": "stdout",
     "output_type": "stream",
     "text": [
      "[0 1 2 3 4 5 6 7 8 9]\n",
      "1\n",
      "(10,)\n",
      "[[0 1]\n",
      " [2 3]\n",
      " [4 5]\n",
      " [6 7]\n",
      " [8 9]]\n"
     ]
    }
   ],
   "source": [
    "x = np.arange(10)\n",
    "print(x)\n",
    "print(x.ndim)\n",
    "print(x.shape)         # Returns 10\n",
    "print(x.reshape(5,2))  # Numbers in reshape should be a multiple of 10"
   ]
  },
  {
   "cell_type": "code",
   "execution_count": 20,
   "id": "3913bce9",
   "metadata": {},
   "outputs": [
    {
     "name": "stdout",
     "output_type": "stream",
     "text": [
      "[[0 1 2 3 4]\n",
      " [5 6 7 8 9]]\n"
     ]
    }
   ],
   "source": [
    "print(x.reshape(2,5))"
   ]
  },
  {
   "cell_type": "code",
   "execution_count": 22,
   "id": "07037b38",
   "metadata": {},
   "outputs": [
    {
     "name": "stdout",
     "output_type": "stream",
     "text": [
      "[[0]\n",
      " [1]\n",
      " [2]\n",
      " [3]\n",
      " [4]\n",
      " [5]\n",
      " [6]\n",
      " [7]\n",
      " [8]\n",
      " [9]]\n"
     ]
    }
   ],
   "source": [
    "print(x.reshape(10,1))"
   ]
  },
  {
   "cell_type": "markdown",
   "id": "ee52e9f8",
   "metadata": {},
   "source": [
    "##### For 2-D arrays:\n",
    "* axis = 0 refers to rows\n",
    "* axis = 1 refers to columns"
   ]
  },
  {
   "cell_type": "code",
   "execution_count": 23,
   "id": "21d5447b",
   "metadata": {},
   "outputs": [
    {
     "name": "stdout",
     "output_type": "stream",
     "text": [
      "[[ 1  2  3  4]\n",
      " [ 5  6  7  8]\n",
      " [ 9 10 11 12]]\n"
     ]
    }
   ],
   "source": [
    "z = np.arange(1,13).reshape(3,4)  #2 operations can be done\n",
    "print(z)"
   ]
  },
  {
   "cell_type": "code",
   "execution_count": 24,
   "id": "16342a71",
   "metadata": {},
   "outputs": [
    {
     "data": {
      "text/plain": [
       "78"
      ]
     },
     "execution_count": 24,
     "metadata": {},
     "output_type": "execute_result"
    }
   ],
   "source": [
    "z.sum()  #Returns sum of all elements"
   ]
  },
  {
   "cell_type": "code",
   "execution_count": 25,
   "id": "270f8dae",
   "metadata": {},
   "outputs": [
    {
     "data": {
      "text/plain": [
       "78"
      ]
     },
     "execution_count": 25,
     "metadata": {},
     "output_type": "execute_result"
    }
   ],
   "source": [
    "np.sum(z)  #Returns sum of all elements same as above"
   ]
  },
  {
   "cell_type": "markdown",
   "id": "0f4679bd",
   "metadata": {},
   "source": [
    "## axis=0\n",
    "* To get sum of elements row wise"
   ]
  },
  {
   "cell_type": "code",
   "execution_count": 26,
   "id": "bce0e838",
   "metadata": {},
   "outputs": [
    {
     "data": {
      "text/plain": [
       "array([15, 18, 21, 24])"
      ]
     },
     "execution_count": 26,
     "metadata": {},
     "output_type": "execute_result"
    }
   ],
   "source": [
    "np.sum(z,axis=0) "
   ]
  },
  {
   "cell_type": "code",
   "execution_count": 28,
   "id": "60e6dafc",
   "metadata": {},
   "outputs": [
    {
     "data": {
      "text/plain": [
       "array([15, 18, 21, 24])"
      ]
     },
     "execution_count": 28,
     "metadata": {},
     "output_type": "execute_result"
    }
   ],
   "source": [
    "z.sum(axis=0)"
   ]
  },
  {
   "cell_type": "code",
   "execution_count": 29,
   "id": "638efbdc",
   "metadata": {},
   "outputs": [
    {
     "data": {
      "text/plain": [
       "array([15, 18, 21, 24])"
      ]
     },
     "execution_count": 29,
     "metadata": {},
     "output_type": "execute_result"
    }
   ],
   "source": [
    "z.sum(0)"
   ]
  },
  {
   "cell_type": "markdown",
   "id": "c4126a40",
   "metadata": {},
   "source": [
    "## axis=1\n",
    "* To get sum of elements column wise"
   ]
  },
  {
   "cell_type": "code",
   "execution_count": 27,
   "id": "2007e261",
   "metadata": {},
   "outputs": [
    {
     "data": {
      "text/plain": [
       "array([10, 26, 42])"
      ]
     },
     "execution_count": 27,
     "metadata": {},
     "output_type": "execute_result"
    }
   ],
   "source": [
    "np.sum(z,axis=1) "
   ]
  },
  {
   "cell_type": "code",
   "execution_count": 30,
   "id": "7521e3d1",
   "metadata": {},
   "outputs": [
    {
     "data": {
      "text/plain": [
       "array([10, 26, 42])"
      ]
     },
     "execution_count": 30,
     "metadata": {},
     "output_type": "execute_result"
    }
   ],
   "source": [
    "z.sum(axis=1)"
   ]
  },
  {
   "cell_type": "code",
   "execution_count": 31,
   "id": "bc0b73a2",
   "metadata": {},
   "outputs": [
    {
     "data": {
      "text/plain": [
       "array([10, 26, 42])"
      ]
     },
     "execution_count": 31,
     "metadata": {},
     "output_type": "execute_result"
    }
   ],
   "source": [
    "z.sum(1)"
   ]
  },
  {
   "cell_type": "markdown",
   "id": "a1389a91",
   "metadata": {},
   "source": [
    "### Initialisation of arrays"
   ]
  },
  {
   "cell_type": "code",
   "execution_count": 32,
   "id": "d3b58017",
   "metadata": {},
   "outputs": [
    {
     "name": "stdout",
     "output_type": "stream",
     "text": [
      "[1 2 3 4]\n",
      "[1 2 3 4]\n"
     ]
    }
   ],
   "source": [
    "a = np.array([1,2,3,4])\n",
    "b = np.array((1,2,3,4))\n",
    "print(a)\n",
    "print(b)"
   ]
  },
  {
   "cell_type": "markdown",
   "id": "d6c98028",
   "metadata": {},
   "source": [
    "### Built-in Methods\n",
    "* np.ones()-->Gives an array contains element '1'.By default 'float' type\n",
    "* np.zeros()->Gives an array contains element '0'.By default 'float' type\n",
    "* np.linspace()-->By default 'float' type.\n",
    "* np.random.random()-->Creates random elements. By default  'float'\n",
    "* np.arange()---------->By default 'int' type.\n",
    "* np.full()-->Creates constant array of any number. Default 'int' type\n",
    "* np.tile()-->Repeats array in sequence. By default 'int' type\n",
    "* np.eye()--->Gives Identity matrix. By default 'float' type\n",
    "* np.randint()--->Gives random array with specified range.By default 'int'"
   ]
  },
  {
   "cell_type": "markdown",
   "id": "51017d54",
   "metadata": {},
   "source": [
    "## np.ones()"
   ]
  },
  {
   "cell_type": "markdown",
   "id": "b6fecceb",
   "metadata": {},
   "source": [
    "#### Examples"
   ]
  },
  {
   "cell_type": "code",
   "execution_count": 34,
   "id": "a0716a17",
   "metadata": {},
   "outputs": [
    {
     "name": "stdout",
     "output_type": "stream",
     "text": [
      "[[1 1 1 1]\n",
      " [1 1 1 1]\n",
      " [1 1 1 1]]\n"
     ]
    }
   ],
   "source": [
    "a = np.ones((3,4),dtype = int)\n",
    "print(a)"
   ]
  },
  {
   "cell_type": "code",
   "execution_count": 35,
   "id": "fbe781f1",
   "metadata": {},
   "outputs": [
    {
     "name": "stdout",
     "output_type": "stream",
     "text": [
      "[[1. 1. 1. 1.]\n",
      " [1. 1. 1. 1.]\n",
      " [1. 1. 1. 1.]]\n"
     ]
    }
   ],
   "source": [
    "a = np.ones((3,4))\n",
    "print(a)"
   ]
  },
  {
   "cell_type": "code",
   "execution_count": 36,
   "id": "e153813c",
   "metadata": {},
   "outputs": [
    {
     "name": "stdout",
     "output_type": "stream",
     "text": [
      "[[ True  True  True  True]\n",
      " [ True  True  True  True]\n",
      " [ True  True  True  True]]\n"
     ]
    }
   ],
   "source": [
    "a = np.ones((3,4),dtype = bool)\n",
    "print(a)"
   ]
  },
  {
   "cell_type": "code",
   "execution_count": 37,
   "id": "c91f4020",
   "metadata": {},
   "outputs": [
    {
     "name": "stdout",
     "output_type": "stream",
     "text": [
      "[1 1 1]\n"
     ]
    }
   ],
   "source": [
    "a = np.ones((3,),dtype = int)\n",
    "print(a)"
   ]
  },
  {
   "cell_type": "markdown",
   "id": "354771cd",
   "metadata": {},
   "source": [
    "## np.zeros()"
   ]
  },
  {
   "cell_type": "markdown",
   "id": "f95aba2e",
   "metadata": {},
   "source": [
    "#### Examples"
   ]
  },
  {
   "cell_type": "code",
   "execution_count": 38,
   "id": "0970145e",
   "metadata": {},
   "outputs": [
    {
     "name": "stdout",
     "output_type": "stream",
     "text": [
      "[0 0 0 0 0 0]\n"
     ]
    }
   ],
   "source": [
    "a = np.zeros([6,],dtype = int)\n",
    "print(a)"
   ]
  },
  {
   "cell_type": "code",
   "execution_count": 39,
   "id": "3286483b",
   "metadata": {},
   "outputs": [
    {
     "name": "stdout",
     "output_type": "stream",
     "text": [
      "[[0 0 0]\n",
      " [0 0 0]\n",
      " [0 0 0]\n",
      " [0 0 0]\n",
      " [0 0 0]\n",
      " [0 0 0]]\n"
     ]
    }
   ],
   "source": [
    "a = np.zeros([6,3],dtype = int)\n",
    "print(a)"
   ]
  },
  {
   "cell_type": "code",
   "execution_count": 58,
   "id": "d778d8e4",
   "metadata": {},
   "outputs": [
    {
     "name": "stdout",
     "output_type": "stream",
     "text": [
      "[[0. 0. 0. 0. 0. 0.]\n",
      " [0. 0. 0. 0. 0. 0.]\n",
      " [0. 0. 0. 0. 0. 0.]]\n"
     ]
    }
   ],
   "source": [
    "a = np.zeros([3,6])\n",
    "print(a)"
   ]
  },
  {
   "cell_type": "code",
   "execution_count": 40,
   "id": "6f97ec97",
   "metadata": {},
   "outputs": [
    {
     "name": "stdout",
     "output_type": "stream",
     "text": [
      "[[False False False False False False]\n",
      " [False False False False False False]\n",
      " [False False False False False False]]\n"
     ]
    }
   ],
   "source": [
    "a = np.zeros([3,6],dtype = bool)\n",
    "print(a)"
   ]
  },
  {
   "cell_type": "markdown",
   "id": "a393f9a0",
   "metadata": {},
   "source": [
    "## np.random()"
   ]
  },
  {
   "cell_type": "markdown",
   "id": "daefdf5b",
   "metadata": {},
   "source": [
    "#### Examples"
   ]
  },
  {
   "cell_type": "code",
   "execution_count": 46,
   "id": "e0b07ef1",
   "metadata": {},
   "outputs": [
    {
     "name": "stdout",
     "output_type": "stream",
     "text": [
      "[[0.00795665 0.75053939 0.54756169 0.45738548]\n",
      " [0.2800641  0.31087731 0.01137597 0.58245503]\n",
      " [0.95039207 0.07158704 0.86026893 0.87204745]]\n"
     ]
    }
   ],
   "source": [
    "a = np.random.random((3,4))  # Prints random numbers\n",
    "print(a)"
   ]
  },
  {
   "cell_type": "code",
   "execution_count": 52,
   "id": "14e33379",
   "metadata": {},
   "outputs": [
    {
     "name": "stdout",
     "output_type": "stream",
     "text": [
      "[[0.59427745 0.85876797 0.99260858 0.15710751]\n",
      " [0.95286301 0.43089177 0.99192862 0.44462341]\n",
      " [0.15796977 0.31275427 0.31443691 0.14009058]]\n"
     ]
    }
   ],
   "source": [
    "a = np.random.random([3,4]) \n",
    "print(a)"
   ]
  },
  {
   "cell_type": "markdown",
   "id": "ee744568",
   "metadata": {},
   "source": [
    "## np.linspace()"
   ]
  },
  {
   "cell_type": "markdown",
   "id": "8c63b51c",
   "metadata": {},
   "source": [
    "#### Examples"
   ]
  },
  {
   "cell_type": "code",
   "execution_count": 56,
   "id": "4e3564af",
   "metadata": {},
   "outputs": [
    {
     "name": "stdout",
     "output_type": "stream",
     "text": [
      "[3 3 4 5 6]\n"
     ]
    }
   ],
   "source": [
    "a = np.linspace(3,6,5,dtype = int) \n",
    "\n",
    "# '3' & '6' is range of elements.\n",
    "# '5' is number of elements\n",
    "\n",
    "print(a)"
   ]
  },
  {
   "cell_type": "code",
   "execution_count": 57,
   "id": "ce399b3b",
   "metadata": {},
   "outputs": [
    {
     "name": "stdout",
     "output_type": "stream",
     "text": [
      "[3.   3.75 4.5  5.25 6.  ]\n"
     ]
    }
   ],
   "source": [
    "a = np.linspace(3,6,5,dtype = float)\n",
    "print(a)"
   ]
  },
  {
   "cell_type": "code",
   "execution_count": 59,
   "id": "bebb29ac",
   "metadata": {},
   "outputs": [
    {
     "name": "stdout",
     "output_type": "stream",
     "text": [
      "[3.   3.75 4.5  5.25 6.  ]\n"
     ]
    }
   ],
   "source": [
    "a = np.linspace(3,6,5)\n",
    "print(a)"
   ]
  },
  {
   "cell_type": "markdown",
   "id": "96d7eb1d",
   "metadata": {},
   "source": [
    "## np.arange()"
   ]
  },
  {
   "cell_type": "markdown",
   "id": "995b5a0d",
   "metadata": {},
   "source": [
    "#### Examples"
   ]
  },
  {
   "cell_type": "code",
   "execution_count": 41,
   "id": "1298506b",
   "metadata": {},
   "outputs": [
    {
     "name": "stdout",
     "output_type": "stream",
     "text": [
      "[1 2 3 4 5]\n"
     ]
    }
   ],
   "source": [
    "a = np.arange(1,6)\n",
    "print(a)"
   ]
  },
  {
   "cell_type": "code",
   "execution_count": 45,
   "id": "a5867c6c",
   "metadata": {},
   "outputs": [
    {
     "name": "stdout",
     "output_type": "stream",
     "text": [
      "[1. 2. 3. 4. 5.]\n"
     ]
    }
   ],
   "source": [
    "a = np.arange(1,6,dtype=float)\n",
    "print(a)"
   ]
  },
  {
   "cell_type": "markdown",
   "id": "d183c698",
   "metadata": {},
   "source": [
    "## np.full()"
   ]
  },
  {
   "cell_type": "markdown",
   "id": "5d759a84",
   "metadata": {},
   "source": [
    "#### Examples"
   ]
  },
  {
   "cell_type": "code",
   "execution_count": 63,
   "id": "6332238b",
   "metadata": {},
   "outputs": [
    {
     "name": "stdout",
     "output_type": "stream",
     "text": [
      "[[8 8 8 8]\n",
      " [8 8 8 8]\n",
      " [8 8 8 8]]\n"
     ]
    }
   ],
   "source": [
    "a = np.full((3,4),8)\n",
    "\n",
    "# (3,4) is (row,columns) & '8' is constant number\n",
    "\n",
    "print(a)"
   ]
  },
  {
   "cell_type": "code",
   "execution_count": 64,
   "id": "7042f088",
   "metadata": {},
   "outputs": [
    {
     "name": "stdout",
     "output_type": "stream",
     "text": [
      "[['a' 'a' 'a' 'a']\n",
      " ['a' 'a' 'a' 'a']\n",
      " ['a' 'a' 'a' 'a']]\n"
     ]
    }
   ],
   "source": [
    "a = np.full((3,4),'a')\n",
    "\n",
    "# (3,4) is (row,columns) & 'a' is constant variable\n",
    "\n",
    "print(a)"
   ]
  },
  {
   "cell_type": "code",
   "execution_count": 65,
   "id": "fa0695bd",
   "metadata": {},
   "outputs": [
    {
     "name": "stdout",
     "output_type": "stream",
     "text": [
      "[[8. 8. 8. 8.]\n",
      " [8. 8. 8. 8.]\n",
      " [8. 8. 8. 8.]]\n"
     ]
    }
   ],
   "source": [
    "a = np.full((3,4),8,dtype = float)\n",
    "\n",
    "# (3,4) is (row,columns) & '8' is constant number\n",
    "\n",
    "print(a)"
   ]
  },
  {
   "cell_type": "markdown",
   "id": "f99cbb4f",
   "metadata": {},
   "source": [
    "## n.tile()"
   ]
  },
  {
   "cell_type": "markdown",
   "id": "9f0735f8",
   "metadata": {},
   "source": [
    "#### Examples"
   ]
  },
  {
   "cell_type": "code",
   "execution_count": 67,
   "id": "9fa35722",
   "metadata": {},
   "outputs": [
    {
     "name": "stdout",
     "output_type": "stream",
     "text": [
      "[1 2 3 1 2 3 1 2 3]\n"
     ]
    }
   ],
   "source": [
    "a = np.array([1,2,3])\n",
    "print(np.tile(a,3))"
   ]
  },
  {
   "cell_type": "code",
   "execution_count": 78,
   "id": "6fa63c35",
   "metadata": {},
   "outputs": [
    {
     "name": "stdout",
     "output_type": "stream",
     "text": [
      "[[1 2 3 1 2 3]\n",
      " [1 2 3 1 2 3]\n",
      " [1 2 3 1 2 3]]\n"
     ]
    }
   ],
   "source": [
    "a = np.array([1,2,3])\n",
    "print(np.tile(a,(3,2)))\n",
    "#'a' is array.In (3,2) '3' is row size. '2' is repeating twice"
   ]
  },
  {
   "cell_type": "code",
   "execution_count": 72,
   "id": "698857f7",
   "metadata": {},
   "outputs": [
    {
     "name": "stdout",
     "output_type": "stream",
     "text": [
      "[[1 2 3 1 2 3]\n",
      " [4 5 6 4 5 6]]\n"
     ]
    }
   ],
   "source": [
    "a = np.arange(1,7)\n",
    "b = a.reshape(2,3)\n",
    "c = np.tile(b,2)\n",
    "print(c)"
   ]
  },
  {
   "cell_type": "markdown",
   "id": "9bc5c7aa",
   "metadata": {},
   "source": [
    "## np.eye()"
   ]
  },
  {
   "cell_type": "markdown",
   "id": "6bc61826",
   "metadata": {},
   "source": [
    "#### Example"
   ]
  },
  {
   "cell_type": "code",
   "execution_count": 75,
   "id": "6e5bc28f",
   "metadata": {},
   "outputs": [
    {
     "name": "stdout",
     "output_type": "stream",
     "text": [
      "[[1. 0. 0.]\n",
      " [0. 1. 0.]\n",
      " [0. 0. 1.]]\n"
     ]
    }
   ],
   "source": [
    "a = np.eye(3)\n",
    "print(a)"
   ]
  },
  {
   "cell_type": "code",
   "execution_count": 76,
   "id": "e81843fb",
   "metadata": {},
   "outputs": [
    {
     "name": "stdout",
     "output_type": "stream",
     "text": [
      "[[1 0 0]\n",
      " [0 1 0]\n",
      " [0 0 1]]\n"
     ]
    }
   ],
   "source": [
    "a = np.eye(3,dtype = int)\n",
    "print(a)"
   ]
  },
  {
   "cell_type": "markdown",
   "id": "a26384dd",
   "metadata": {},
   "source": [
    "## np.randint()"
   ]
  },
  {
   "cell_type": "markdown",
   "id": "457773d1",
   "metadata": {},
   "source": [
    "#### Examples"
   ]
  },
  {
   "cell_type": "code",
   "execution_count": 81,
   "id": "f6ea3ed2",
   "metadata": {},
   "outputs": [
    {
     "name": "stdout",
     "output_type": "stream",
     "text": [
      "[[5 2 1]\n",
      " [4 3 2]\n",
      " [4 1 5]]\n"
     ]
    }
   ],
   "source": [
    "a = np.random.randint(1,6,(3,3))\n",
    "print(a)"
   ]
  },
  {
   "cell_type": "code",
   "execution_count": 82,
   "id": "5e528843",
   "metadata": {},
   "outputs": [
    {
     "name": "stdout",
     "output_type": "stream",
     "text": [
      "[[4 3 4]\n",
      " [8 2 1]\n",
      " [3 3 2]\n",
      " [5 4 1]\n",
      " [8 6 7]\n",
      " [3 2 2]]\n"
     ]
    }
   ],
   "source": [
    "a = np.random.randint(1,9,(6,3))\n",
    "print(a)"
   ]
  },
  {
   "cell_type": "markdown",
   "id": "e6159fab",
   "metadata": {},
   "source": [
    "* Difference b/w randint & random is: \n",
    "* random gives in b/w range of '0' & '1'. By default 'float'\n",
    "* randint gives any range of elements. By default 'int'"
   ]
  }
 ],
 "metadata": {
  "kernelspec": {
   "display_name": "Python 3",
   "language": "python",
   "name": "python3"
  },
  "language_info": {
   "codemirror_mode": {
    "name": "ipython",
    "version": 3
   },
   "file_extension": ".py",
   "mimetype": "text/x-python",
   "name": "python",
   "nbconvert_exporter": "python",
   "pygments_lexer": "ipython3",
   "version": "3.8.8"
  }
 },
 "nbformat": 4,
 "nbformat_minor": 5
}
