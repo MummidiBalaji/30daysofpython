{
 "cells": [
  {
   "cell_type": "markdown",
   "id": "d6061800",
   "metadata": {},
   "source": [
    "## Day-  of #30daysofpython"
   ]
  },
  {
   "cell_type": "markdown",
   "id": "f3314701",
   "metadata": {},
   "source": [
    "## Topic: Numpy part-2"
   ]
  },
  {
   "cell_type": "markdown",
   "id": "d2ca54ba",
   "metadata": {},
   "source": [
    "* Indexing 1-D arrays\n",
    "* Indexing Multi-Dimensional arrays"
   ]
  },
  {
   "cell_type": "markdown",
   "id": "332b235d",
   "metadata": {},
   "source": [
    "## Indexing 1-D arrays"
   ]
  },
  {
   "cell_type": "code",
   "execution_count": 2,
   "id": "fa0a45c8",
   "metadata": {},
   "outputs": [
    {
     "name": "stdout",
     "output_type": "stream",
     "text": [
      "[ 1  2  3  4  5  6  7  8  9 10]\n"
     ]
    }
   ],
   "source": [
    "import numpy as np\n",
    "a = np.arange(1,11)\n",
    "print(a)"
   ]
  },
  {
   "cell_type": "code",
   "execution_count": 7,
   "id": "15ecc64e",
   "metadata": {},
   "outputs": [
    {
     "name": "stdout",
     "output_type": "stream",
     "text": [
      "1\n",
      "[1 4 7]\n",
      "[ 1  2  3  4  5  6  7  8  9 10]\n",
      "[1 2 3]\n",
      "[1 3 5 7 9]\n",
      "[1 3 5 7 9]\n",
      "[ 1  4  7 10]\n"
     ]
    }
   ],
   "source": [
    "print(a[0])\n",
    "print(a[[0,3,6]])  # Prints '0th','3rd''6th' index elements\n",
    "print(a[0:])\n",
    "print(a[:3])\n",
    "print(a[0:10:2])\n",
    "print(a[0::2])\n",
    "print(a[0:10:3])"
   ]
  },
  {
   "cell_type": "markdown",
   "id": "202e07c8",
   "metadata": {},
   "source": [
    "## Indexing Multi-Dimensional arrays"
   ]
  },
  {
   "attachments": {
    "1342893-2_d_array.png": {
     "image/png": "[encoded data removed]"
    }
   },
   "cell_type": "markdown",
   "id": "6a0da662",
   "metadata": {},
   "source": [
    "![1342893-2_d_array.png](attachment:1342893-2_d_array.png)"
   ]
  },
  {
   "cell_type": "code",
   "execution_count": 8,
   "id": "d67ebf86",
   "metadata": {},
   "outputs": [
    {
     "name": "stdout",
     "output_type": "stream",
     "text": [
      "[[1 2 3]\n",
      " [4 5 6]\n",
      " [7 8 9]]\n"
     ]
    }
   ],
   "source": [
    "a = np.array([[1,2,3],[4,5,6],[7,8,9]])\n",
    "print(a)"
   ]
  },
  {
   "cell_type": "code",
   "execution_count": 13,
   "id": "36a52bd9",
   "metadata": {},
   "outputs": [
    {
     "name": "stdout",
     "output_type": "stream",
     "text": [
      "[1 2 3]\n"
     ]
    }
   ],
   "source": [
    "print(a[0])\n"
   ]
  },
  {
   "cell_type": "code",
   "execution_count": 14,
   "id": "d639cf06",
   "metadata": {},
   "outputs": [
    {
     "name": "stdout",
     "output_type": "stream",
     "text": [
      "[[1 2 3]\n",
      " [4 5 6]\n",
      " [7 8 9]]\n"
     ]
    }
   ],
   "source": [
    "print(a[0:])"
   ]
  },
  {
   "cell_type": "code",
   "execution_count": 15,
   "id": "69a30b62",
   "metadata": {},
   "outputs": [
    {
     "name": "stdout",
     "output_type": "stream",
     "text": [
      "[[1 2 3]\n",
      " [4 5 6]\n",
      " [7 8 9]]\n"
     ]
    }
   ],
   "source": [
    "print(a[:])"
   ]
  },
  {
   "cell_type": "code",
   "execution_count": 16,
   "id": "b1049f62",
   "metadata": {},
   "outputs": [
    {
     "name": "stdout",
     "output_type": "stream",
     "text": [
      "[1 2 3]\n"
     ]
    }
   ],
   "source": [
    "print(a[0,])"
   ]
  },
  {
   "cell_type": "code",
   "execution_count": 17,
   "id": "47ad4019",
   "metadata": {},
   "outputs": [
    {
     "name": "stdout",
     "output_type": "stream",
     "text": [
      "[4 5 6]\n"
     ]
    }
   ],
   "source": [
    "print(a[1,])"
   ]
  },
  {
   "cell_type": "code",
   "execution_count": 18,
   "id": "32b5fb54",
   "metadata": {},
   "outputs": [
    {
     "name": "stdout",
     "output_type": "stream",
     "text": [
      "[7 8 9]\n"
     ]
    }
   ],
   "source": [
    "print(a[2,])"
   ]
  },
  {
   "cell_type": "code",
   "execution_count": 19,
   "id": "2c9ecf0c",
   "metadata": {},
   "outputs": [
    {
     "name": "stdout",
     "output_type": "stream",
     "text": [
      "1\n",
      "2\n",
      "3\n"
     ]
    }
   ],
   "source": [
    "print(a[0,0])\n",
    "print(a[0,1])\n",
    "print(a[0,2])"
   ]
  },
  {
   "cell_type": "code",
   "execution_count": 22,
   "id": "fe430162",
   "metadata": {},
   "outputs": [
    {
     "name": "stdout",
     "output_type": "stream",
     "text": [
      "1\n",
      "4\n",
      "7\n"
     ]
    }
   ],
   "source": [
    "print(a[0,0])\n",
    "print(a[1,0])\n",
    "print(a[2,0])"
   ]
  },
  {
   "cell_type": "code",
   "execution_count": 21,
   "id": "2e140795",
   "metadata": {},
   "outputs": [
    {
     "name": "stdout",
     "output_type": "stream",
     "text": [
      "1\n",
      "5\n",
      "9\n"
     ]
    }
   ],
   "source": [
    "print(a[0,0])\n",
    "print(a[1,1])\n",
    "print(a[2,2])"
   ]
  },
  {
   "cell_type": "code",
   "execution_count": 23,
   "id": "da76ac61",
   "metadata": {},
   "outputs": [
    {
     "name": "stdout",
     "output_type": "stream",
     "text": [
      "[1 2 3]\n"
     ]
    }
   ],
   "source": [
    "print(a[0,:]) #Prints 0th row, all columns"
   ]
  },
  {
   "cell_type": "code",
   "execution_count": 25,
   "id": "0a7c7b34",
   "metadata": {},
   "outputs": [
    {
     "name": "stdout",
     "output_type": "stream",
     "text": [
      "[3 6 9]\n"
     ]
    }
   ],
   "source": [
    "print(a[:,2]) #Prints every row, 2nd column"
   ]
  },
  {
   "cell_type": "code",
   "execution_count": 26,
   "id": "1b3598aa",
   "metadata": {},
   "outputs": [
    {
     "name": "stdout",
     "output_type": "stream",
     "text": [
      "[[5 6]\n",
      " [8 9]]\n"
     ]
    }
   ],
   "source": [
    "print(a[1:3,1:3])"
   ]
  },
  {
   "cell_type": "code",
   "execution_count": null,
   "id": "693c492c",
   "metadata": {},
   "outputs": [],
   "source": []
  }
 ],
 "metadata": {
  "kernelspec": {
   "display_name": "Python 3",
   "language": "python",
   "name": "python3"
  },
  "language_info": {
   "codemirror_mode": {
    "name": "ipython",
    "version": 3
   },
   "file_extension": ".py",
   "mimetype": "text/x-python",
   "name": "python",
   "nbconvert_exporter": "python",
   "pygments_lexer": "ipython3",
   "version": "3.8.8"
  }
 },
 "nbformat": 4,
 "nbformat_minor": 5
}
