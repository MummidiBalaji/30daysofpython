{
 "cells": [
  {
   "cell_type": "markdown",
   "id": "a0f04835",
   "metadata": {},
   "source": [
    "## Day-13 of #30daysofpython"
   ]
  },
  {
   "cell_type": "markdown",
   "id": "5bbb98fd",
   "metadata": {},
   "source": [
    "## Topic: String Datatype Part-1\n",
    "* Accessing a string\n",
    "    * Indexing\n",
    "    * Slicing\n",
    "* performing operations on a string\n",
    "    * Arithmetic\n",
    "    * Comparision\n",
    "* Removing spaces in a string\n",
    "    * strip()\n",
    "    * lstrip()\n",
    "    * rstrip()\n",
    "* Finding substrings\n",
    "    * Forward Direction\n",
    "        * find()\n",
    "        * index()\n",
    "    * Backward Direction\n",
    "        * rfind()\n",
    "        * rindex()\n",
    "* Replacing a string\n",
    "    * replace()\n",
    "* Splitting a string\n",
    "    * split()\n",
    "* Joining a string\n",
    "    * join()"
   ]
  },
  {
   "cell_type": "markdown",
   "id": "bd61899e",
   "metadata": {},
   "source": [
    "* Any sequence of characters within either single quotes or double quotes is considered as a\n",
    "String."
   ]
  },
  {
   "cell_type": "markdown",
   "id": "a3dbf4c5",
   "metadata": {},
   "source": [
    "## Syntax:\n",
    "* s = 'Balaji'\n",
    "* s = \"Balaji\""
   ]
  },
  {
   "cell_type": "markdown",
   "id": "b1f0aad5",
   "metadata": {},
   "source": [
    "##  Accesing characters in a string\n",
    "* Indexing \n",
    "* Slicing"
   ]
  },
  {
   "cell_type": "markdown",
   "id": "d5fdcc45",
   "metadata": {},
   "source": [
    "## Indexing"
   ]
  },
  {
   "cell_type": "code",
   "execution_count": 2,
   "id": "bc768541",
   "metadata": {},
   "outputs": [
    {
     "name": "stdout",
     "output_type": "stream",
     "text": [
      "B\n",
      "B\n",
      "i\n",
      "a\n"
     ]
    }
   ],
   "source": [
    "a = \"Balaji\"\n",
    "print(a[0])\n",
    "print(a[-6])\n",
    "print(a[-1])\n",
    "print(a[3])"
   ]
  },
  {
   "cell_type": "markdown",
   "id": "e42ff7b1",
   "metadata": {},
   "source": [
    "#### Q. Program to take input string from keyboard & prints characters index wise"
   ]
  },
  {
   "cell_type": "code",
   "execution_count": 5,
   "id": "473614f7",
   "metadata": {},
   "outputs": [
    {
     "name": "stdout",
     "output_type": "stream",
     "text": [
      "Enter a String:Balaji\n",
      "The character at positive index 0 and negative index -6 is B\n",
      "The character at positive index 1 and negative index -5 is a\n",
      "The character at positive index 2 and negative index -4 is l\n",
      "The character at positive index 3 and negative index -3 is a\n",
      "The character at positive index 4 and negative index -2 is j\n",
      "The character at positive index 5 and negative index -1 is i\n"
     ]
    }
   ],
   "source": [
    "A = input(\"Enter a String:\")\n",
    "i=0\n",
    "for x in A:\n",
    "    print(\"The character at positive index {} and negative index {} is {}\".format(i,i-len(A),x))\n",
    "    i=i+1 "
   ]
  },
  {
   "cell_type": "markdown",
   "id": "19c5bdd6",
   "metadata": {},
   "source": [
    "## Slicing"
   ]
  },
  {
   "cell_type": "code",
   "execution_count": 11,
   "id": "177ad352",
   "metadata": {},
   "outputs": [
    {
     "name": "stdout",
     "output_type": "stream",
     "text": [
      "Hi I am Balaji\n",
      "Hi I am Balaji\n",
      "Hi I am Balaji\n",
      "Balaji\n",
      "Balaji\n"
     ]
    }
   ],
   "source": [
    "A = \"Hi I am Balaji\"\n",
    "print(A[:])\n",
    "print(A[0:])\n",
    "print(A[:100])\n",
    "print(A[8:])\n",
    "print(A[8:100])"
   ]
  },
  {
   "cell_type": "markdown",
   "id": "348fdad9",
   "metadata": {},
   "source": [
    "## Mathematical Operators for Strings\n",
    "* '+' operator\n",
    "* '*' operator"
   ]
  },
  {
   "cell_type": "code",
   "execution_count": 12,
   "id": "fbf3cda7",
   "metadata": {},
   "outputs": [
    {
     "name": "stdout",
     "output_type": "stream",
     "text": [
      "Balaji\n",
      "Balaji Balaji Balaji \n"
     ]
    }
   ],
   "source": [
    "print(\"Bal\"+\"aji\")\n",
    "print(\"Balaji \"*3)"
   ]
  },
  {
   "cell_type": "markdown",
   "id": "bf0c0b79",
   "metadata": {},
   "source": [
    "## Comparision Operator\n",
    "* We can use comparison operators (<, <=, >, >=) and equality operators (==, !=) for\n",
    "strings.\n",
    "* Comparison will be performed based on alphabetical order."
   ]
  },
  {
   "cell_type": "code",
   "execution_count": 13,
   "id": "cbfdb7f3",
   "metadata": {},
   "outputs": [
    {
     "name": "stdout",
     "output_type": "stream",
     "text": [
      "Enter first string:Balaji\n",
      "Enter Second string:Balaji\n",
      "Both strings are equal\n"
     ]
    }
   ],
   "source": [
    "s1=input(\"Enter first string:\")\n",
    "s2=input(\"Enter Second string:\")\n",
    "if s1==s2:\n",
    "    print(\"Both strings are equal\")\n",
    "elif s1<s2:\n",
    "    print(\"First String is less than Second String\")\n",
    "else:\n",
    "    print(\"First String is greater than Second String\") "
   ]
  },
  {
   "cell_type": "markdown",
   "id": "b5e2ec76",
   "metadata": {},
   "source": [
    "## Removing Spaces from the String:\n",
    "* rstrip() To remove spaces at right hand side\n",
    "* lstrip() To remove spaces at left hand side\n",
    "* strip()  To remove spaces both sides"
   ]
  },
  {
   "cell_type": "markdown",
   "id": "4ff7699d",
   "metadata": {},
   "source": [
    "## strip()"
   ]
  },
  {
   "cell_type": "code",
   "execution_count": 19,
   "id": "82ee9eef",
   "metadata": {},
   "outputs": [
    {
     "name": "stdout",
     "output_type": "stream",
     "text": [
      "      Hello Balaji      \n",
      "Hello Balaji\n",
      "Hello Balaji      \n"
     ]
    }
   ],
   "source": [
    "a = \"      Hello Balaji      \"\n",
    "b = a.strip()\n",
    "print(a)\n",
    "print(b)"
   ]
  },
  {
   "cell_type": "markdown",
   "id": "f6ababc1",
   "metadata": {},
   "source": [
    "## lstrip()"
   ]
  },
  {
   "cell_type": "code",
   "execution_count": 20,
   "id": "8e388eb8",
   "metadata": {},
   "outputs": [
    {
     "name": "stdout",
     "output_type": "stream",
     "text": [
      "Hello Balaji      \n"
     ]
    }
   ],
   "source": [
    "a = \"      Hello Balaji      \"\n",
    "c = a.lstrip()\n",
    "print(c)"
   ]
  },
  {
   "cell_type": "markdown",
   "id": "29a63af4",
   "metadata": {},
   "source": [
    "## rstrip()"
   ]
  },
  {
   "cell_type": "code",
   "execution_count": 21,
   "id": "dbde56c8",
   "metadata": {},
   "outputs": [
    {
     "name": "stdout",
     "output_type": "stream",
     "text": [
      "      Hello Balaji\n"
     ]
    }
   ],
   "source": [
    "a = \"      Hello Balaji      \"\n",
    "c = a.rstrip()\n",
    "print(c)"
   ]
  },
  {
   "cell_type": "markdown",
   "id": "9fb4783a",
   "metadata": {},
   "source": [
    "## Finding Substrings\n",
    "* Forward Direction\n",
    "    * find()\n",
    "    * index()\n",
    "* Backward Direction\n",
    "    * rfind()\n",
    "    * rindex()"
   ]
  },
  {
   "cell_type": "markdown",
   "id": "adf32b29",
   "metadata": {},
   "source": [
    "### Forward Direction"
   ]
  },
  {
   "cell_type": "markdown",
   "id": "96c91134",
   "metadata": {},
   "source": [
    "### find()\n",
    "*   It always searches from '0' index"
   ]
  },
  {
   "cell_type": "code",
   "execution_count": 22,
   "id": "fca175f7",
   "metadata": {},
   "outputs": [
    {
     "name": "stdout",
     "output_type": "stream",
     "text": [
      "8\n",
      "3\n",
      "26\n",
      "21\n"
     ]
    }
   ],
   "source": [
    "s=\"Hi I am Balaji. I am from India\"\n",
    "print(s.find(\"Balaji\"))\n",
    "print(s.find(\"I\")) \n",
    "print(s.find(\"India\"))\n",
    "print(s.rfind(\"from India\"))"
   ]
  },
  {
   "cell_type": "markdown",
   "id": "59a7efa1",
   "metadata": {},
   "source": [
    "### index()\n",
    "* index() method is exactly same as find() method except that if the specified substring is\n",
    "not available then we will get ValueError."
   ]
  },
  {
   "cell_type": "code",
   "execution_count": 23,
   "id": "1a80c093",
   "metadata": {},
   "outputs": [
    {
     "name": "stdout",
     "output_type": "stream",
     "text": [
      "Enter main string:Hi I am Balaji\n",
      "Enter sub string:I am\n",
      "substring found\n"
     ]
    }
   ],
   "source": [
    "string=input(\"Enter main string:\")\n",
    "substring=input(\"Enter sub string:\")\n",
    "try:\n",
    "    n=string.index(substring)\n",
    "except ValueError:\n",
    "    print(\"substring not found\")\n",
    "else:\n",
    "    print(\"substring found\") "
   ]
  },
  {
   "cell_type": "markdown",
   "id": "a63ef5bc",
   "metadata": {},
   "source": [
    "## Replacing a String\n",
    "* replace()"
   ]
  },
  {
   "cell_type": "markdown",
   "id": "a8f0bc26",
   "metadata": {},
   "source": [
    "### Syntax:\n",
    "* s.replace(oldstring, newstring)\n"
   ]
  },
  {
   "cell_type": "code",
   "execution_count": 24,
   "id": "6ebf45f1",
   "metadata": {},
   "outputs": [
    {
     "data": {
      "text/plain": [
       "'Hello, my name is Balaji'"
      ]
     },
     "execution_count": 24,
     "metadata": {},
     "output_type": "execute_result"
    }
   ],
   "source": [
    "a = \"Hi my name is Balaji\"\n",
    "b = a.replace(\"Hi\",\"Hello,\")\n",
    "b"
   ]
  },
  {
   "cell_type": "markdown",
   "id": "bc5af04c",
   "metadata": {},
   "source": [
    "## Splitting of Strings\n",
    "* split()"
   ]
  },
  {
   "cell_type": "code",
   "execution_count": 25,
   "id": "a2c8d9eb",
   "metadata": {},
   "outputs": [
    {
     "name": "stdout",
     "output_type": "stream",
     "text": [
      "Hi\n",
      "myself\n",
      "Balaji\n"
     ]
    }
   ],
   "source": [
    "s=\"Hi myself Balaji\"\n",
    "l=s.split()\n",
    "for x in l:\n",
    "    print(x)"
   ]
  },
  {
   "cell_type": "code",
   "execution_count": 26,
   "id": "50ac9827",
   "metadata": {},
   "outputs": [
    {
     "name": "stdout",
     "output_type": "stream",
     "text": [
      "19\n",
      "08\n",
      "2021\n"
     ]
    }
   ],
   "source": [
    "s=\"19-08-2021\"\n",
    "l=s.split('-')\n",
    "for x in l:\n",
    "    print(x)"
   ]
  },
  {
   "cell_type": "markdown",
   "id": "8a3f06c5",
   "metadata": {},
   "source": [
    "## Joining of Strings\n",
    "* join()"
   ]
  },
  {
   "cell_type": "markdown",
   "id": "4f61ccb0",
   "metadata": {},
   "source": [
    "we can join list, tuple by using this method"
   ]
  },
  {
   "cell_type": "code",
   "execution_count": 37,
   "id": "8b8bf629",
   "metadata": {},
   "outputs": [
    {
     "name": "stdout",
     "output_type": "stream",
     "text": [
      "Date-Month-Year\n"
     ]
    }
   ],
   "source": [
    "a = [\"Date\",\"Month\",\"Year\"]\n",
    "b = '-'.join(a)\n",
    "print(b)"
   ]
  },
  {
   "cell_type": "code",
   "execution_count": null,
   "id": "03236498",
   "metadata": {},
   "outputs": [],
   "source": []
  }
 ],
 "metadata": {
  "kernelspec": {
   "display_name": "Python 3",
   "language": "python",
   "name": "python3"
  },
  "language_info": {
   "codemirror_mode": {
    "name": "ipython",
    "version": 3
   },
   "file_extension": ".py",
   "mimetype": "text/x-python",
   "name": "python",
   "nbconvert_exporter": "python",
   "pygments_lexer": "ipython3",
   "version": "3.8.8"
  }
 },
 "nbformat": 4,
 "nbformat_minor": 5
}
