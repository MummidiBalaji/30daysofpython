{
 "cells": [
  {
   "cell_type": "markdown",
   "id": "e8cf0892",
   "metadata": {},
   "source": [
    "## Day-9 of   #30daysofPython"
   ]
  },
  {
   "cell_type": "markdown",
   "id": "8fe859b7",
   "metadata": {},
   "source": [
    "## Topic - Dictionaries\n",
    "* Functions\n",
    "* Methods\n",
    "    * Adding elements in a dictionary\n",
    "    * Removing elements in a dictionary\n",
    "    * Displaying keys, values & items."
   ]
  },
  {
   "cell_type": "markdown",
   "id": "be6d5cf4",
   "metadata": {},
   "source": [
    "## Functions"
   ]
  },
  {
   "cell_type": "markdown",
   "id": "3e161bd9",
   "metadata": {},
   "source": [
    "* len(dict)------> Represents length of a dictionary.\n",
    "* str(dict)---------> converts dict datatype into string.\n",
    "* type(dict)--------> Returns type of dict."
   ]
  },
  {
   "cell_type": "markdown",
   "id": "5546b5e4",
   "metadata": {},
   "source": [
    "## len()"
   ]
  },
  {
   "cell_type": "code",
   "execution_count": 1,
   "id": "67016f13",
   "metadata": {},
   "outputs": [
    {
     "data": {
      "text/plain": [
       "4"
      ]
     },
     "execution_count": 1,
     "metadata": {},
     "output_type": "execute_result"
    }
   ],
   "source": [
    "dict1 = {1:'a',2:'b',3:'c',4:'d'}\n",
    "len(dict1)"
   ]
  },
  {
   "cell_type": "markdown",
   "id": "e15ca9d7",
   "metadata": {},
   "source": [
    "## type()"
   ]
  },
  {
   "cell_type": "code",
   "execution_count": 2,
   "id": "560918da",
   "metadata": {},
   "outputs": [
    {
     "data": {
      "text/plain": [
       "dict"
      ]
     },
     "execution_count": 2,
     "metadata": {},
     "output_type": "execute_result"
    }
   ],
   "source": [
    "dict1 = {1:'a',2:'b',3:'c',4:'d'}\n",
    "type(dict1)"
   ]
  },
  {
   "cell_type": "code",
   "execution_count": 3,
   "id": "b6b52ad9",
   "metadata": {},
   "outputs": [
    {
     "data": {
      "text/plain": [
       "dict"
      ]
     },
     "execution_count": 3,
     "metadata": {},
     "output_type": "execute_result"
    }
   ],
   "source": [
    "dict2 = {}\n",
    "type(dict2)"
   ]
  },
  {
   "cell_type": "markdown",
   "id": "2223c3be",
   "metadata": {},
   "source": [
    "## str(dict)"
   ]
  },
  {
   "cell_type": "code",
   "execution_count": 4,
   "id": "25f04de2",
   "metadata": {},
   "outputs": [
    {
     "data": {
      "text/plain": [
       "\"{1: 'a', 2: 'b', 3: 'c', 4: 'd'}\""
      ]
     },
     "execution_count": 4,
     "metadata": {},
     "output_type": "execute_result"
    }
   ],
   "source": [
    "dict1 = {1:'a',2:'b',3:'c',4:'d'}\n",
    "str(dict1)"
   ]
  },
  {
   "cell_type": "markdown",
   "id": "cacaa9e7",
   "metadata": {},
   "source": [
    "## Methods"
   ]
  },
  {
   "cell_type": "markdown",
   "id": "7d297728",
   "metadata": {},
   "source": [
    "### Adding Elements in a Dictionary\n",
    "* dict1.update(dict2)---------> To add/append a dictionary\n",
    "* dict3 = {**dict1,**dict2}---> Combines two dictionaries.\n"
   ]
  },
  {
   "cell_type": "markdown",
   "id": "202a5cd1",
   "metadata": {},
   "source": [
    "### Example"
   ]
  },
  {
   "cell_type": "code",
   "execution_count": 5,
   "id": "7bfc675f",
   "metadata": {},
   "outputs": [
    {
     "data": {
      "text/plain": [
       "{1: 'a', 2: 'b', 3: 'c', 4: 'd', 5: 'e', 6: 'f', 7: 'g', 8: 'h'}"
      ]
     },
     "execution_count": 5,
     "metadata": {},
     "output_type": "execute_result"
    }
   ],
   "source": [
    "dict1 = {1:'a',2:'b',3:'c',4:'d'}\n",
    "dict2 = {5:'e',6:'f',7:'g',8:'h'}\n",
    "dict1.update(dict2)\n",
    "dict1"
   ]
  },
  {
   "cell_type": "code",
   "execution_count": 7,
   "id": "9a5bf66b",
   "metadata": {},
   "outputs": [
    {
     "data": {
      "text/plain": [
       "{1: 'a', 2: 'b', 3: 'c', 4: 'd', 5: 'e', 6: 'f', 7: 'g', 8: 'h'}"
      ]
     },
     "execution_count": 7,
     "metadata": {},
     "output_type": "execute_result"
    }
   ],
   "source": [
    "dict1 = {1:'a',2:'b',3:'c',4:'d'}\n",
    "dict2 = {5:'e',6:'f',7:'g',8:'h'}\n",
    "dict3 = {**dict1,**dict2}\n",
    "dict3"
   ]
  },
  {
   "cell_type": "markdown",
   "id": "458c4963",
   "metadata": {},
   "source": [
    "### Removing Elements in a Dictionary\n",
    "* pop(2)-----------> removes key which has key as 2\n",
    "* del dict[3]------> removes key which has key as 3\n",
    "* clear()----------> Clears the dictionary completely\n",
    "* popitem()--------> Removes last inserted key-value pair"
   ]
  },
  {
   "cell_type": "markdown",
   "id": "ecec74b7",
   "metadata": {},
   "source": [
    "## pop()"
   ]
  },
  {
   "cell_type": "code",
   "execution_count": 10,
   "id": "44348d4b",
   "metadata": {},
   "outputs": [
    {
     "data": {
      "text/plain": [
       "{1: 'a', 3: 'c', 4: 'd'}"
      ]
     },
     "execution_count": 10,
     "metadata": {},
     "output_type": "execute_result"
    }
   ],
   "source": [
    "dict1 = {1:'a',2:'b',3:'c',4:'d'}\n",
    "dict1.pop(2)\n",
    "dict1"
   ]
  },
  {
   "cell_type": "markdown",
   "id": "e82ab7d2",
   "metadata": {},
   "source": [
    "## del()"
   ]
  },
  {
   "cell_type": "code",
   "execution_count": 11,
   "id": "093a9115",
   "metadata": {},
   "outputs": [
    {
     "data": {
      "text/plain": [
       "{1: 'a', 2: 'b', 4: 'd'}"
      ]
     },
     "execution_count": 11,
     "metadata": {},
     "output_type": "execute_result"
    }
   ],
   "source": [
    "dict1 = {1:'a',2:'b',3:'c',4:'d'}\n",
    "del dict1[3]\n",
    "dict1"
   ]
  },
  {
   "cell_type": "markdown",
   "id": "97d401c6",
   "metadata": {},
   "source": [
    "## clear()"
   ]
  },
  {
   "cell_type": "code",
   "execution_count": 12,
   "id": "d45e0911",
   "metadata": {},
   "outputs": [
    {
     "data": {
      "text/plain": [
       "{}"
      ]
     },
     "execution_count": 12,
     "metadata": {},
     "output_type": "execute_result"
    }
   ],
   "source": [
    "dict1 = {1:'a',2:'b',3:'c',4:'d'}\n",
    "dict1.clear()\n",
    "dict1"
   ]
  },
  {
   "cell_type": "markdown",
   "id": "67ee918d",
   "metadata": {},
   "source": [
    "## popitem()"
   ]
  },
  {
   "cell_type": "code",
   "execution_count": 13,
   "id": "20ad7963",
   "metadata": {},
   "outputs": [
    {
     "data": {
      "text/plain": [
       "{1: 'a', 2: 'b', 3: 'c'}"
      ]
     },
     "execution_count": 13,
     "metadata": {},
     "output_type": "execute_result"
    }
   ],
   "source": [
    "dict1 = {1:'a',2:'b',3:'c',4:'d'}\n",
    "dict1.popitem()\n",
    "dict1"
   ]
  },
  {
   "cell_type": "markdown",
   "id": "1f8baa57",
   "metadata": {},
   "source": [
    "## Displaying keys, Values & items in a dictionary "
   ]
  },
  {
   "cell_type": "code",
   "execution_count": 14,
   "id": "6fad1844",
   "metadata": {},
   "outputs": [],
   "source": [
    "dict1 = {1:'a',2:'b',3:'c',4:'d'}"
   ]
  },
  {
   "cell_type": "markdown",
   "id": "961c5d1b",
   "metadata": {},
   "source": [
    "## keys()"
   ]
  },
  {
   "cell_type": "code",
   "execution_count": 15,
   "id": "945e1b1f",
   "metadata": {},
   "outputs": [
    {
     "data": {
      "text/plain": [
       "dict_keys([1, 2, 3, 4])"
      ]
     },
     "execution_count": 15,
     "metadata": {},
     "output_type": "execute_result"
    }
   ],
   "source": [
    "dict1.keys()"
   ]
  },
  {
   "cell_type": "markdown",
   "id": "0a67b3ce",
   "metadata": {},
   "source": [
    "## values()"
   ]
  },
  {
   "cell_type": "code",
   "execution_count": 16,
   "id": "4c469313",
   "metadata": {},
   "outputs": [
    {
     "data": {
      "text/plain": [
       "dict_values(['a', 'b', 'c', 'd'])"
      ]
     },
     "execution_count": 16,
     "metadata": {},
     "output_type": "execute_result"
    }
   ],
   "source": [
    "dict1.values()"
   ]
  },
  {
   "cell_type": "markdown",
   "id": "773caff0",
   "metadata": {},
   "source": [
    "## items()"
   ]
  },
  {
   "cell_type": "code",
   "execution_count": 17,
   "id": "72b4603c",
   "metadata": {},
   "outputs": [
    {
     "data": {
      "text/plain": [
       "dict_items([(1, 'a'), (2, 'b'), (3, 'c'), (4, 'd')])"
      ]
     },
     "execution_count": 17,
     "metadata": {},
     "output_type": "execute_result"
    }
   ],
   "source": [
    "dict1.items()"
   ]
  },
  {
   "cell_type": "markdown",
   "id": "c10c7493",
   "metadata": {},
   "source": [
    "## get()"
   ]
  },
  {
   "cell_type": "code",
   "execution_count": 19,
   "id": "45d1a4ce",
   "metadata": {},
   "outputs": [
    {
     "data": {
      "text/plain": [
       "'c'"
      ]
     },
     "execution_count": 19,
     "metadata": {},
     "output_type": "execute_result"
    }
   ],
   "source": [
    "dict1.get(3)"
   ]
  },
  {
   "cell_type": "markdown",
   "id": "744d786f",
   "metadata": {},
   "source": [
    "## setdefault()"
   ]
  },
  {
   "cell_type": "code",
   "execution_count": 23,
   "id": "2d67c380",
   "metadata": {},
   "outputs": [
    {
     "data": {
      "text/plain": [
       "'d'"
      ]
     },
     "execution_count": 23,
     "metadata": {},
     "output_type": "execute_result"
    }
   ],
   "source": [
    "dict1.setdefault(4)"
   ]
  },
  {
   "cell_type": "markdown",
   "id": "a39c6b24",
   "metadata": {},
   "source": [
    "## fromkeys()"
   ]
  },
  {
   "cell_type": "markdown",
   "id": "ac0b87a0",
   "metadata": {},
   "source": [
    "##### We use fromkeys( ) when we have same values for different keys."
   ]
  },
  {
   "cell_type": "markdown",
   "id": "2beab6fd",
   "metadata": {},
   "source": [
    "### Example"
   ]
  },
  {
   "cell_type": "code",
   "execution_count": 26,
   "id": "f56183d7",
   "metadata": {},
   "outputs": [
    {
     "name": "stdout",
     "output_type": "stream",
     "text": [
      "{'key-1': 'Balaji', 'key-2': 'Balaji', 'key-3': 'Balaji', 'key-4': 'Balaji'}\n"
     ]
    }
   ],
   "source": [
    "x = ('key-1','key-2','key-3','key-4')  # Different keys\n",
    "y = 'Balaji'                           # Values\n",
    "d2 = {}\n",
    "d1 = d2.fromkeys(x,y)\n",
    "print(d1)"
   ]
  },
  {
   "cell_type": "markdown",
   "id": "d73402f7",
   "metadata": {},
   "source": [
    "## copy()"
   ]
  },
  {
   "cell_type": "code",
   "execution_count": 27,
   "id": "439c2c80",
   "metadata": {},
   "outputs": [
    {
     "data": {
      "text/plain": [
       "{'key-1': 'Balaji', 'key-2': 'Balaji', 'key-3': 'Balaji', 'key-4': 'Balaji'}"
      ]
     },
     "execution_count": 27,
     "metadata": {},
     "output_type": "execute_result"
    }
   ],
   "source": [
    "d3 = d1.copy()\n",
    "d3"
   ]
  }
 ],
 "metadata": {
  "kernelspec": {
   "display_name": "Python 3",
   "language": "python",
   "name": "python3"
  },
  "language_info": {
   "codemirror_mode": {
    "name": "ipython",
    "version": 3
   },
   "file_extension": ".py",
   "mimetype": "text/x-python",
   "name": "python",
   "nbconvert_exporter": "python",
   "pygments_lexer": "ipython3",
   "version": "3.8.8"
  }
 },
 "nbformat": 4,
 "nbformat_minor": 5
}
