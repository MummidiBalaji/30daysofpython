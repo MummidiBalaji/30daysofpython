{
 "cells": [
  {
   "cell_type": "markdown",
   "id": "3d1c11ed",
   "metadata": {},
   "source": [
    "## Day-16 of #30daysofpython"
   ]
  },
  {
   "cell_type": "markdown",
   "id": "f280eef3",
   "metadata": {},
   "source": [
    "## Topic:  Slice Operator"
   ]
  },
  {
   "cell_type": "markdown",
   "id": "4b3e9db7",
   "metadata": {},
   "source": [
    "### Syntax:\n",
    "* string[Begin:end]------------>(Begin Index to end-1)\n",
    "* string[Begin : end : step]\n",
    "    * step can be positive or Negative Index\n",
    "    * If step is positive:\n",
    "        * Forward Direction\n",
    "            * from [begin to end-1]\n",
    "    * If step is Negative:\n",
    "        * Backward Direction\n",
    "            * from [begin to end+1]\n",
    "    * step value cannot be zero\n",
    "* NOTE:\n",
    "    * In forward direction, if end value is '0' then result is always empty\n",
    "    * In backward direction, if end value is '-1' then result is empty\n",
    "    * Slice Operator doesn't raise index error\n"
   ]
  },
  {
   "cell_type": "markdown",
   "id": "971a59f2",
   "metadata": {},
   "source": [
    "* In Forward Direction,\n",
    "    * Begin = 0\n",
    "    * End   = length(string)\n",
    "* In Backward Direction,\n",
    "    * Begin = -1\n",
    "    * End   = -[length(string) + 1]"
   ]
  },
  {
   "cell_type": "code",
   "execution_count": 2,
   "id": "ffa25c0b",
   "metadata": {},
   "outputs": [],
   "source": [
    "s = 'abcdefghij'"
   ]
  },
  {
   "cell_type": "code",
   "execution_count": 3,
   "id": "1bbedd81",
   "metadata": {},
   "outputs": [
    {
     "data": {
      "text/plain": [
       "'bdf'"
      ]
     },
     "execution_count": 3,
     "metadata": {},
     "output_type": "execute_result"
    }
   ],
   "source": [
    "s[1:6:2]"
   ]
  },
  {
   "cell_type": "code",
   "execution_count": 4,
   "id": "2f2c0e46",
   "metadata": {},
   "outputs": [
    {
     "data": {
      "text/plain": [
       "'abcdefghij'"
      ]
     },
     "execution_count": 4,
     "metadata": {},
     "output_type": "execute_result"
    }
   ],
   "source": [
    "s[::1]"
   ]
  },
  {
   "cell_type": "code",
   "execution_count": 5,
   "id": "758c2dfb",
   "metadata": {},
   "outputs": [
    {
     "data": {
      "text/plain": [
       "'jihgfedcba'"
      ]
     },
     "execution_count": 5,
     "metadata": {},
     "output_type": "execute_result"
    }
   ],
   "source": [
    "s[::-1]"
   ]
  },
  {
   "cell_type": "code",
   "execution_count": 6,
   "id": "41793f6d",
   "metadata": {},
   "outputs": [
    {
     "data": {
      "text/plain": [
       "''"
      ]
     },
     "execution_count": 6,
     "metadata": {},
     "output_type": "execute_result"
    }
   ],
   "source": [
    "s[3:7:-1] # Returns empty because in backward direction, we can't go from 3 to 8"
   ]
  },
  {
   "cell_type": "code",
   "execution_count": 7,
   "id": "4ee31eba",
   "metadata": {},
   "outputs": [
    {
     "data": {
      "text/plain": [
       "'hgf'"
      ]
     },
     "execution_count": 7,
     "metadata": {},
     "output_type": "execute_result"
    }
   ],
   "source": [
    "s[7:4:-1]"
   ]
  },
  {
   "cell_type": "code",
   "execution_count": 8,
   "id": "2aa8a9da",
   "metadata": {},
   "outputs": [
    {
     "data": {
      "text/plain": [
       "'abcdefghij'"
      ]
     },
     "execution_count": 8,
     "metadata": {},
     "output_type": "execute_result"
    }
   ],
   "source": [
    "s[0:100000:1]"
   ]
  },
  {
   "cell_type": "code",
   "execution_count": 9,
   "id": "ddb3738d",
   "metadata": {},
   "outputs": [
    {
     "data": {
      "text/plain": [
       "'gfedc'"
      ]
     },
     "execution_count": 9,
     "metadata": {},
     "output_type": "execute_result"
    }
   ],
   "source": [
    "s[-4:1:-1]"
   ]
  },
  {
   "cell_type": "code",
   "execution_count": 10,
   "id": "f364689f",
   "metadata": {},
   "outputs": [
    {
     "data": {
      "text/plain": [
       "'gec'"
      ]
     },
     "execution_count": 10,
     "metadata": {},
     "output_type": "execute_result"
    }
   ],
   "source": [
    "s[-4:1:-2]"
   ]
  },
  {
   "cell_type": "code",
   "execution_count": 11,
   "id": "cf8ed593",
   "metadata": {},
   "outputs": [
    {
     "data": {
      "text/plain": [
       "''"
      ]
     },
     "execution_count": 11,
     "metadata": {},
     "output_type": "execute_result"
    }
   ],
   "source": [
    "s[5:0:1] # Returns empty string because in forward direction if end is '0'"
   ]
  },
  {
   "cell_type": "code",
   "execution_count": 12,
   "id": "301648c3",
   "metadata": {},
   "outputs": [
    {
     "data": {
      "text/plain": [
       "''"
      ]
     },
     "execution_count": 12,
     "metadata": {},
     "output_type": "execute_result"
    }
   ],
   "source": [
    "s[-5:0:1]"
   ]
  },
  {
   "cell_type": "code",
   "execution_count": 13,
   "id": "880ca36a",
   "metadata": {},
   "outputs": [
    {
     "ename": "ValueError",
     "evalue": "slice step cannot be zero",
     "output_type": "error",
     "traceback": [
      "\u001b[1;31m---------------------------------------------------------------------------\u001b[0m",
      "\u001b[1;31mValueError\u001b[0m                                Traceback (most recent call last)",
      "\u001b[1;32m<ipython-input-13-b5980ee2f0d1>\u001b[0m in \u001b[0;36m<module>\u001b[1;34m\u001b[0m\n\u001b[1;32m----> 1\u001b[1;33m \u001b[0ms\u001b[0m\u001b[1;33m[\u001b[0m\u001b[1;36m9\u001b[0m\u001b[1;33m:\u001b[0m\u001b[1;36m0\u001b[0m\u001b[1;33m:\u001b[0m\u001b[1;36m0\u001b[0m\u001b[1;33m]\u001b[0m\u001b[1;33m\u001b[0m\u001b[1;33m\u001b[0m\u001b[0m\n\u001b[0m",
      "\u001b[1;31mValueError\u001b[0m: slice step cannot be zero"
     ]
    }
   ],
   "source": [
    "s[9:0:0]  #Gives value error because step value cannot be zero"
   ]
  },
  {
   "cell_type": "code",
   "execution_count": null,
   "id": "2e44c9d3",
   "metadata": {},
   "outputs": [],
   "source": [
    "s[0:-10:-1]"
   ]
  },
  {
   "cell_type": "code",
   "execution_count": null,
   "id": "c315dbc3",
   "metadata": {},
   "outputs": [],
   "source": [
    "s[0:-11:-1]"
   ]
  },
  {
   "cell_type": "code",
   "execution_count": null,
   "id": "76ce2e0b",
   "metadata": {},
   "outputs": [],
   "source": [
    "s[0:0:] # In forward direction, end shouldn't be empty"
   ]
  },
  {
   "cell_type": "code",
   "execution_count": 14,
   "id": "4fd799b2",
   "metadata": {},
   "outputs": [
    {
     "data": {
      "text/plain": [
       "''"
      ]
     },
     "execution_count": 14,
     "metadata": {},
     "output_type": "execute_result"
    }
   ],
   "source": [
    "s[0:-9:-2]"
   ]
  },
  {
   "cell_type": "code",
   "execution_count": 15,
   "id": "0c2d12c6",
   "metadata": {},
   "outputs": [
    {
     "data": {
      "text/plain": [
       "'fd'"
      ]
     },
     "execution_count": 15,
     "metadata": {},
     "output_type": "execute_result"
    }
   ],
   "source": [
    "s[-5:-9:-2]"
   ]
  },
  {
   "cell_type": "code",
   "execution_count": 16,
   "id": "1e9789b8",
   "metadata": {},
   "outputs": [
    {
     "data": {
      "text/plain": [
       "''"
      ]
     },
     "execution_count": 16,
     "metadata": {},
     "output_type": "execute_result"
    }
   ],
   "source": [
    "s[10:-1:-1]"
   ]
  },
  {
   "cell_type": "code",
   "execution_count": 17,
   "id": "b8623eac",
   "metadata": {},
   "outputs": [
    {
     "data": {
      "text/plain": [
       "'jihgfed'"
      ]
     },
     "execution_count": 17,
     "metadata": {},
     "output_type": "execute_result"
    }
   ],
   "source": [
    "s[10000:2:-1]"
   ]
  },
  {
   "cell_type": "code",
   "execution_count": null,
   "id": "82080b7c",
   "metadata": {},
   "outputs": [],
   "source": []
  }
 ],
 "metadata": {
  "kernelspec": {
   "display_name": "Python 3",
   "language": "python",
   "name": "python3"
  },
  "language_info": {
   "codemirror_mode": {
    "name": "ipython",
    "version": 3
   },
   "file_extension": ".py",
   "mimetype": "text/x-python",
   "name": "python",
   "nbconvert_exporter": "python",
   "pygments_lexer": "ipython3",
   "version": "3.8.8"
  }
 },
 "nbformat": 4,
 "nbformat_minor": 5
}
