{
 "cells": [
  {
   "cell_type": "markdown",
   "id": "01eaefc7",
   "metadata": {},
   "source": [
    "## Day-15 of #30daysofpython"
   ]
  },
  {
   "cell_type": "markdown",
   "id": "5848a52f",
   "metadata": {},
   "source": [
    "## Topic: Strings Datatype Examples"
   ]
  },
  {
   "cell_type": "markdown",
   "id": "c0c088d0",
   "metadata": {},
   "source": [
    "### 1. Program to Reverse the given String"
   ]
  },
  {
   "cell_type": "markdown",
   "id": "15b7de51",
   "metadata": {},
   "source": [
    "##### Method-1 using Slice Operator"
   ]
  },
  {
   "cell_type": "code",
   "execution_count": 1,
   "id": "53eec1a7",
   "metadata": {},
   "outputs": [
    {
     "name": "stdout",
     "output_type": "stream",
     "text": [
      "Enter a String: Balaji\n",
      "ijalaB\n"
     ]
    }
   ],
   "source": [
    "a = input(\"Enter a String: \")\n",
    "print(a[::-1]) "
   ]
  },
  {
   "cell_type": "markdown",
   "id": "97ed0956",
   "metadata": {},
   "source": [
    "##### Method-2 Using 'reversed()' function"
   ]
  },
  {
   "cell_type": "code",
   "execution_count": 2,
   "id": "2f915639",
   "metadata": {},
   "outputs": [
    {
     "name": "stdout",
     "output_type": "stream",
     "text": [
      "Enter a String: Balaji\n",
      "ijalaB\n"
     ]
    }
   ],
   "source": [
    "a = input(\"Enter a String: \")\n",
    "print(''.join(reversed(a)))"
   ]
  },
  {
   "cell_type": "markdown",
   "id": "142ef191",
   "metadata": {},
   "source": [
    "##### Method-3 Using 'while' loop"
   ]
  },
  {
   "cell_type": "code",
   "execution_count": 3,
   "id": "a906d879",
   "metadata": {},
   "outputs": [
    {
     "name": "stdout",
     "output_type": "stream",
     "text": [
      "Enter a String:Balaji\n",
      "ijalaB\n"
     ]
    }
   ],
   "source": [
    "a = input(\"Enter a String:\")\n",
    "i=len(a)-1\n",
    "target=''\n",
    "while i>=0:\n",
    "    target=target+a[i]\n",
    "    i=i-1\n",
    "print(target)"
   ]
  },
  {
   "cell_type": "markdown",
   "id": "02aabf6e",
   "metadata": {},
   "source": [
    "### 2. Program to Reverse Order of Words\n",
    "* Input:  Hi I am Balaji\n",
    "* Output: Balaji am I Hi"
   ]
  },
  {
   "cell_type": "code",
   "execution_count": 4,
   "id": "29ae23e5",
   "metadata": {},
   "outputs": [
    {
     "name": "stdout",
     "output_type": "stream",
     "text": [
      "Enter a String:Hi I am Balaji\n",
      "Balaji am I Hi\n"
     ]
    }
   ],
   "source": [
    "a = input(\"Enter a String:\")\n",
    "l=a.split()\n",
    "l1=[]\n",
    "i=len(l)-1\n",
    "while i>=0:\n",
    "    l1.append(l[i])\n",
    "    i=i-1\n",
    "    output=' '.join(l1)\n",
    "print(output)"
   ]
  },
  {
   "cell_type": "markdown",
   "id": "f6304fe9",
   "metadata": {},
   "source": [
    "### 3. Program to Reverse Internal Content of each Word\n",
    "* Input: Hi I am Balaji\n",
    "* Output: iH I ma ijalaB"
   ]
  },
  {
   "cell_type": "code",
   "execution_count": 5,
   "id": "78e6f04a",
   "metadata": {},
   "outputs": [
    {
     "name": "stdout",
     "output_type": "stream",
     "text": [
      "Enter a String:Hi I am Balaji\n",
      "iH I ma ijalaB\n"
     ]
    }
   ],
   "source": [
    "a = input(\"Enter a String:\")\n",
    "l=a.split()\n",
    "l1=[]\n",
    "i=0\n",
    "while i<len(l):\n",
    "    l1.append(l[i][::-1])\n",
    "    i=i+1\n",
    "    output=' '.join(l1)\n",
    "print(output) "
   ]
  },
  {
   "cell_type": "markdown",
   "id": "c61846e4",
   "metadata": {},
   "source": [
    "### 4. Program to Print Characters at Odd Position and Even Position for a String?"
   ]
  },
  {
   "cell_type": "markdown",
   "id": "d7b3957a",
   "metadata": {},
   "source": [
    "##### Method-1 Using Slicing"
   ]
  },
  {
   "cell_type": "code",
   "execution_count": 6,
   "id": "d28b5d60",
   "metadata": {},
   "outputs": [
    {
     "name": "stdout",
     "output_type": "stream",
     "text": [
      "Enter a String:Hi I am Balaji\n",
      "Characters at Even Position: H  mBlj\n",
      "Characters at Odd Position: iIa aai\n"
     ]
    }
   ],
   "source": [
    "a = input(\"Enter a String:\")\n",
    "print(\"Characters at Even Position:\",a[0::2])\n",
    "print(\"Characters at Odd Position:\",a[1::2])"
   ]
  },
  {
   "cell_type": "markdown",
   "id": "2115d270",
   "metadata": {},
   "source": [
    "##### Method-2 using 'while' loop"
   ]
  },
  {
   "cell_type": "code",
   "execution_count": 7,
   "id": "a79d3e0a",
   "metadata": {},
   "outputs": [
    {
     "name": "stdout",
     "output_type": "stream",
     "text": [
      "Enter a String:Hi I am Balaji\n",
      "Characters at Even Position:\n",
      "H, , ,m,B,l,j,\n",
      "Characters at Odd Position:\n",
      "i,I,a, ,a,a,i,"
     ]
    }
   ],
   "source": [
    "s=input(\"Enter a String:\")\n",
    "i=0\n",
    "print(\"Characters at Even Position:\")\n",
    "while i< len(s):\n",
    "    print(s[i],end=',')\n",
    "    i=i+2\n",
    "print()\n",
    "print(\"Characters at Odd Position:\")\n",
    "i=1\n",
    "while i< len(s):\n",
    "    print(s[i],end=',')\n",
    "    i=i+2"
   ]
  },
  {
   "cell_type": "markdown",
   "id": "8c95de57",
   "metadata": {},
   "source": [
    "### 5.  Program to merge Characters of 2 Strings into a Single String by Characters alternatively\n",
    "* Input: \n",
    "     * a = 'Balaji'\n",
    "     * b = 'Prince'\n",
    "* Output: BParlianjcie"
   ]
  },
  {
   "cell_type": "code",
   "execution_count": 8,
   "id": "d7270f43",
   "metadata": {},
   "outputs": [
    {
     "name": "stdout",
     "output_type": "stream",
     "text": [
      "Enter First String:Balaji\n",
      "Enter Second String:Prince\n",
      "BParlianjcie\n"
     ]
    }
   ],
   "source": [
    "a = input(\"Enter First String:\")\n",
    "b = input(\"Enter Second String:\")\n",
    "output=''\n",
    "i,j=0,0\n",
    "while i<len(a) or j<len(b):\n",
    "    if i<len(a):\n",
    "        output=output+a[i]\n",
    "        i+=1\n",
    "    if j<len(b):\n",
    "        output=output+b[j]\n",
    "        j+=1\n",
    "print(output) "
   ]
  },
  {
   "cell_type": "markdown",
   "id": "c635a2db",
   "metadata": {},
   "source": [
    "### 6. Program to Sort the Characters of  String & 1st Alphabet Symbols followed by Numeric Values\n",
    "* Input:  BACK936\n",
    "* Output: ABCK369"
   ]
  },
  {
   "cell_type": "code",
   "execution_count": 9,
   "id": "3a2e6b6f",
   "metadata": {},
   "outputs": [
    {
     "name": "stdout",
     "output_type": "stream",
     "text": [
      "Enter a String:BACK936\n",
      "ABCK369\n"
     ]
    }
   ],
   "source": [
    "a=input(\"Enter a String:\")\n",
    "s1=s2=output=''\n",
    "for x in a:\n",
    "    if x.isalpha():\n",
    "        s1=s1+x\n",
    "    else:\n",
    "        s2=s2+x\n",
    "for x in sorted(s1):\n",
    "    output=output+x\n",
    "for x in sorted(s2):\n",
    "    output=output+x\n",
    "print(output) "
   ]
  },
  {
   "cell_type": "markdown",
   "id": "c0c401ff",
   "metadata": {},
   "source": [
    "### 7. Program to print output as 'abbcccddddeeeee' for input: Input: 'a1b2c3d4e5'\n"
   ]
  },
  {
   "cell_type": "code",
   "execution_count": 10,
   "id": "2255ff74",
   "metadata": {},
   "outputs": [
    {
     "name": "stdout",
     "output_type": "stream",
     "text": [
      "Enter a String:a1b2c3d4e5\n",
      "abbcccddddeeeee\n"
     ]
    }
   ],
   "source": [
    "s=input(\"Enter a String:\")\n",
    "output=''\n",
    "for x in s:\n",
    "    if x.isalpha():\n",
    "        output=output+x\n",
    "        previous=x\n",
    "    else:\n",
    "        output=output+previous*(int(x)-1)\n",
    "print(output) "
   ]
  },
  {
   "cell_type": "markdown",
   "id": "35af8ac3",
   "metadata": {},
   "source": [
    "### 8. Program to remove Duplicate Characters from the given String?"
   ]
  },
  {
   "cell_type": "code",
   "execution_count": 11,
   "id": "bfe09d2f",
   "metadata": {},
   "outputs": [
    {
     "name": "stdout",
     "output_type": "stream",
     "text": [
      "Enter a String:AAAAABBBBBCCCCCCCCCDDDDDDDDDDEEEEEEEEE\n",
      "ABCDE\n"
     ]
    }
   ],
   "source": [
    "s = input(\"Enter a String:\")\n",
    "l=[]\n",
    "for x in s:\n",
    "    if x not in l:\n",
    "        l.append(x)\n",
    "        output=''.join(l)\n",
    "print(output) "
   ]
  },
  {
   "cell_type": "markdown",
   "id": "f8e7c1cb",
   "metadata": {},
   "source": [
    "### 9. Program to find the number of Occurrences of each Character the String?"
   ]
  },
  {
   "cell_type": "code",
   "execution_count": 12,
   "id": "bce3e05f",
   "metadata": {
    "scrolled": true
   },
   "outputs": [
    {
     "name": "stdout",
     "output_type": "stream",
     "text": [
      "Enter a String:AAABBBBCCCCCDEEEEFFF\n",
      "A = 3 times\n",
      "B = 4 times\n",
      "C = 5 times\n",
      "D = 1 times\n",
      "E = 4 times\n",
      "F = 3 times\n"
     ]
    }
   ],
   "source": [
    "s=input(\"Enter a String:\")\n",
    "d={}\n",
    "for x in s:\n",
    "    if x in d.keys():\n",
    "        d[x]=d[x]+1\n",
    "    else:\n",
    "        d[x]=1\n",
    "for a,b in d.items():\n",
    "    print(\"{} = {} times\".format(a,b))"
   ]
  },
  {
   "cell_type": "markdown",
   "id": "58b62d28",
   "metadata": {},
   "source": [
    "### 10. Program to print:\n",
    "* Output: 'one owt three ruof five xis seven' if\n",
    "* Input:  'one two three four five six seven'\n"
   ]
  },
  {
   "cell_type": "code",
   "execution_count": 1,
   "id": "f5c4943d",
   "metadata": {},
   "outputs": [
    {
     "name": "stdout",
     "output_type": "stream",
     "text": [
      "Enter a String:one two three four five six seven\n",
      "Original String: one two three four five six seven\n",
      "output String: one owt three ruof five xis seven\n"
     ]
    }
   ],
   "source": [
    "s = input('Enter a String:')\n",
    "l = s.split()\n",
    "l1 = []\n",
    "i = 0\n",
    "while i<len(l):\n",
    "    if i%2==0:\n",
    "        l1.append(l[i])\n",
    "    else:\n",
    "        l1.append(l[i][::-1])\n",
    "    i=i+1\n",
    "output=' '.join(l1)\n",
    "print('Original String:',s)\n",
    "print('output String:',output) "
   ]
  },
  {
   "cell_type": "code",
   "execution_count": null,
   "id": "50e501aa",
   "metadata": {},
   "outputs": [],
   "source": []
  }
 ],
 "metadata": {
  "kernelspec": {
   "display_name": "Python 3",
   "language": "python",
   "name": "python3"
  },
  "language_info": {
   "codemirror_mode": {
    "name": "ipython",
    "version": 3
   },
   "file_extension": ".py",
   "mimetype": "text/x-python",
   "name": "python",
   "nbconvert_exporter": "python",
   "pygments_lexer": "ipython3",
   "version": "3.8.8"
  }
 },
 "nbformat": 4,
 "nbformat_minor": 5
}
