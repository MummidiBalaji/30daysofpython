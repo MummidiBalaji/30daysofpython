{
 "cells": [
  {
   "cell_type": "markdown",
   "id": "e2340843",
   "metadata": {},
   "source": [
    "## Day-5 of   #30daysofPython\n"
   ]
  },
  {
   "cell_type": "markdown",
   "id": "f665ab0b",
   "metadata": {},
   "source": [
    "## Topic: Output Statements\n"
   ]
  },
  {
   "cell_type": "markdown",
   "id": "b0266ca4",
   "metadata": {},
   "source": [
    "* print( ) statement\n",
    "* end( ) attribute\n",
    "* sep( ) attribute\n",
    "* print statement with '{ }' Replacement operator\n",
    "* print statement with formatted string"
   ]
  },
  {
   "cell_type": "markdown",
   "id": "33b9b782",
   "metadata": {},
   "source": [
    "## print( ) statement"
   ]
  },
  {
   "cell_type": "markdown",
   "id": "5e451506",
   "metadata": {},
   "source": [
    "* print( ) statement is used to print the output"
   ]
  },
  {
   "cell_type": "code",
   "execution_count": 1,
   "id": "fcf0378c",
   "metadata": {},
   "outputs": [
    {
     "name": "stdout",
     "output_type": "stream",
     "text": [
      "a\n"
     ]
    }
   ],
   "source": [
    "print('a') # Since 'a' is string it prints 'a' but print(a) gives error if a is not initialised"
   ]
  },
  {
   "cell_type": "markdown",
   "id": "ffbc191a",
   "metadata": {},
   "source": [
    "### Examples"
   ]
  },
  {
   "cell_type": "code",
   "execution_count": 2,
   "id": "dff9029c",
   "metadata": {},
   "outputs": [
    {
     "name": "stdout",
     "output_type": "stream",
     "text": [
      "10\n"
     ]
    }
   ],
   "source": [
    "a = 10\n",
    "print(a)"
   ]
  },
  {
   "cell_type": "code",
   "execution_count": 5,
   "id": "ca5071f7",
   "metadata": {},
   "outputs": [
    {
     "name": "stdout",
     "output_type": "stream",
     "text": [
      "The values of a,b,c are :  10 20 30\n"
     ]
    }
   ],
   "source": [
    "a,b,c = 10,20,30\n",
    "print(\"The values of a,b,c are : \",a,b,c)"
   ]
  },
  {
   "cell_type": "markdown",
   "id": "f354006b",
   "metadata": {},
   "source": [
    "## end( ) attribute"
   ]
  },
  {
   "cell_type": "markdown",
   "id": "09535a9f",
   "metadata": {},
   "source": [
    "#### This attribute is used if we need the output in a single line."
   ]
  },
  {
   "cell_type": "markdown",
   "id": "eb032b09",
   "metadata": {},
   "source": [
    "#### Example"
   ]
  },
  {
   "cell_type": "code",
   "execution_count": 6,
   "id": "1b110a38",
   "metadata": {},
   "outputs": [
    {
     "name": "stdout",
     "output_type": "stream",
     "text": [
      "10\n",
      "20\n",
      "30\n",
      "40\n",
      "50\n",
      "60\n"
     ]
    }
   ],
   "source": [
    "a =[10,20,30,40,50,60]\n",
    "for i in a:\n",
    "    print(i)"
   ]
  },
  {
   "cell_type": "markdown",
   "id": "476f0a0b",
   "metadata": {},
   "source": [
    "#### As seen in above output it is printing in different lines. To print in single line"
   ]
  },
  {
   "cell_type": "code",
   "execution_count": 8,
   "id": "811185fe",
   "metadata": {},
   "outputs": [
    {
     "name": "stdout",
     "output_type": "stream",
     "text": [
      "10 20 30 40 50 60 "
     ]
    }
   ],
   "source": [
    "a =[10,20,30,40,50,60]\n",
    "for i in a:\n",
    "    print(i,end = ' ') # end=' '(We are printing output in single line)"
   ]
  },
  {
   "cell_type": "code",
   "execution_count": 17,
   "id": "283f9384",
   "metadata": {},
   "outputs": [
    {
     "name": "stdout",
     "output_type": "stream",
     "text": [
      "Hello\n",
      "World\n"
     ]
    }
   ],
   "source": [
    "print('Hello')\n",
    "print('World')"
   ]
  },
  {
   "cell_type": "code",
   "execution_count": 18,
   "id": "827b905b",
   "metadata": {},
   "outputs": [
    {
     "name": "stdout",
     "output_type": "stream",
     "text": [
      "Hello World\n"
     ]
    }
   ],
   "source": [
    "print('Hello',end=' ')\n",
    "print('World')"
   ]
  },
  {
   "cell_type": "markdown",
   "id": "10023c4c",
   "metadata": {},
   "source": [
    "## sep( ) attribute"
   ]
  },
  {
   "cell_type": "markdown",
   "id": "0bab4d4c",
   "metadata": {},
   "source": [
    "#### This attribute used to seperate two different outputs"
   ]
  },
  {
   "cell_type": "markdown",
   "id": "a8d23b00",
   "metadata": {},
   "source": [
    "#### Examples"
   ]
  },
  {
   "cell_type": "code",
   "execution_count": 19,
   "id": "c0adcc32",
   "metadata": {},
   "outputs": [
    {
     "name": "stdout",
     "output_type": "stream",
     "text": [
      "10-08-2021\n"
     ]
    }
   ],
   "source": [
    "print('10','08','2021', sep='-')"
   ]
  },
  {
   "cell_type": "code",
   "execution_count": 23,
   "id": "c0617951",
   "metadata": {},
   "outputs": [
    {
     "name": "stdout",
     "output_type": "stream",
     "text": [
      "Hello @ Balaji @ How @ are @ you\n"
     ]
    }
   ],
   "source": [
    "print('Hello','Balaji','How','are','you',sep = ' @ ')"
   ]
  },
  {
   "cell_type": "markdown",
   "id": "2112d415",
   "metadata": {},
   "source": [
    "### Using end( ) and sep( ) in a single line"
   ]
  },
  {
   "cell_type": "code",
   "execution_count": 27,
   "id": "d010d8a4",
   "metadata": {},
   "outputs": [
    {
     "name": "stdout",
     "output_type": "stream",
     "text": [
      "10:20:30!"
     ]
    }
   ],
   "source": [
    "print(10,20,30,sep=':',end='!')"
   ]
  },
  {
   "cell_type": "code",
   "execution_count": 26,
   "id": "6e987af0",
   "metadata": {},
   "outputs": [
    {
     "name": "stdout",
     "output_type": "stream",
     "text": [
      "a:b:c!"
     ]
    }
   ],
   "source": [
    "print('a','b','c',sep=':',end='!')"
   ]
  },
  {
   "cell_type": "markdown",
   "id": "2e805dca",
   "metadata": {},
   "source": [
    "## print( ) statement with replacemenet operator {}"
   ]
  },
  {
   "cell_type": "markdown",
   "id": "c3fc172f",
   "metadata": {},
   "source": [
    "### Examples"
   ]
  },
  {
   "cell_type": "code",
   "execution_count": 29,
   "id": "21673120",
   "metadata": {},
   "outputs": [
    {
     "name": "stdout",
     "output_type": "stream",
     "text": [
      "Balaji Hello!,how are you?\n"
     ]
    }
   ],
   "source": [
    "a = 'Balaji'\n",
    "b = 'Hello'\n",
    "print(\"{} {}!,how are you?\".format(a,b))"
   ]
  },
  {
   "cell_type": "code",
   "execution_count": 30,
   "id": "2694f561",
   "metadata": {},
   "outputs": [
    {
     "name": "stdout",
     "output_type": "stream",
     "text": [
      "Enter a name : balaji\n",
      "Hello balaji!,how are you?\n"
     ]
    }
   ],
   "source": [
    "name = input(\"Enter a name : \")\n",
    "print(\"Hello {}!,how are you?\".format(name))"
   ]
  },
  {
   "cell_type": "code",
   "execution_count": 31,
   "id": "b30b28d5",
   "metadata": {},
   "outputs": [
    {
     "name": "stdout",
     "output_type": "stream",
     "text": [
      "Hello Balaji, your age is 21, your goal is to become a Data Scientist\n"
     ]
    }
   ],
   "source": [
    "Name = 'Balaji'\n",
    "Age  =  21\n",
    "Goal = 'Data Scientist'\n",
    "print(\"Hello {}, your age is {}, your goal is to become a {}\".format(Name,Age,Goal))"
   ]
  },
  {
   "cell_type": "markdown",
   "id": "eaf7fab0",
   "metadata": {},
   "source": [
    "### Replacement Operator based on Index"
   ]
  },
  {
   "cell_type": "code",
   "execution_count": 32,
   "id": "5970c441",
   "metadata": {},
   "outputs": [
    {
     "name": "stdout",
     "output_type": "stream",
     "text": [
      "Hello Balaji, your age is 21, your goal is to become a Data Scientist\n"
     ]
    }
   ],
   "source": [
    "Age  =  21\n",
    "Goal = 'Data Scientist'\n",
    "Name = 'Balaji'\n",
    "print(\"Hello {2}, your age is {1}, your goal is to become a {0}\".format(Goal,Age,Name))"
   ]
  },
  {
   "cell_type": "markdown",
   "id": "6d7a5d9b",
   "metadata": {},
   "source": [
    "### Replacement Operator based on Index"
   ]
  },
  {
   "cell_type": "code",
   "execution_count": 33,
   "id": "81a9bcc5",
   "metadata": {},
   "outputs": [
    {
     "name": "stdout",
     "output_type": "stream",
     "text": [
      "Hello Balaji, your age is 21, your goal is to become a Data Scientist\n"
     ]
    }
   ],
   "source": [
    "Age  =  21\n",
    "Goal = 'Data Scientist'\n",
    "Name = 'Balaji'\n",
    "print(\"Hello {a}, your age is {b}, your goal is to become a {c}\".format(c=Goal,b=Age,a=Name))"
   ]
  },
  {
   "cell_type": "markdown",
   "id": "6c91546f",
   "metadata": {},
   "source": [
    "## print( ) with formatted string"
   ]
  },
  {
   "cell_type": "markdown",
   "id": "3c9f7e73",
   "metadata": {},
   "source": [
    "* '%i' (Signed Decimal Value)\n",
    "* '%d' (Signed Decimal Value)\n",
    "* '%f' (Signed float Value)\n",
    "* '%s' (String, list, set type)"
   ]
  },
  {
   "cell_type": "markdown",
   "id": "017bc0ae",
   "metadata": {},
   "source": [
    "### Examples"
   ]
  },
  {
   "cell_type": "code",
   "execution_count": 34,
   "id": "eb809788",
   "metadata": {},
   "outputs": [
    {
     "name": "stdout",
     "output_type": "stream",
     "text": [
      "Value of a : 10\n"
     ]
    }
   ],
   "source": [
    "a = 10\n",
    "print(\"Value of a : %i\"%a)"
   ]
  },
  {
   "cell_type": "code",
   "execution_count": 35,
   "id": "67181dd4",
   "metadata": {},
   "outputs": [
    {
     "name": "stdout",
     "output_type": "stream",
     "text": [
      "Value of a : 10\n"
     ]
    }
   ],
   "source": [
    "a = 10\n",
    "print(\"Value of a : %d\"%a)"
   ]
  },
  {
   "cell_type": "code",
   "execution_count": 37,
   "id": "d2739c67",
   "metadata": {},
   "outputs": [
    {
     "name": "stdout",
     "output_type": "stream",
     "text": [
      "integer value is : 20\n"
     ]
    }
   ],
   "source": [
    "a = 20.998\n",
    "print('integer value is : %d'%a)"
   ]
  },
  {
   "cell_type": "code",
   "execution_count": 36,
   "id": "a1fafc8f",
   "metadata": {},
   "outputs": [
    {
     "name": "stdout",
     "output_type": "stream",
     "text": [
      "Float value is : 20.998000\n"
     ]
    }
   ],
   "source": [
    "a = 20.998\n",
    "print('Float value is : %f'%a)"
   ]
  },
  {
   "cell_type": "markdown",
   "id": "b138b433",
   "metadata": {},
   "source": [
    "#### Here, if we need upto 2 decimals in float value we use '%.2f'"
   ]
  },
  {
   "cell_type": "code",
   "execution_count": 2,
   "id": "71117d3d",
   "metadata": {},
   "outputs": [
    {
     "name": "stdout",
     "output_type": "stream",
     "text": [
      "Float value is : 20.69\n"
     ]
    }
   ],
   "source": [
    "a = 20.6874\n",
    "print('Float value is : %.2f'%a)"
   ]
  },
  {
   "cell_type": "code",
   "execution_count": 38,
   "id": "66bc21a8",
   "metadata": {},
   "outputs": [
    {
     "name": "stdout",
     "output_type": "stream",
     "text": [
      "String is : Balaji\n"
     ]
    }
   ],
   "source": [
    "a = 'Balaji'\n",
    "print(\"String is : %s\"%a)"
   ]
  },
  {
   "cell_type": "code",
   "execution_count": 41,
   "id": "80c10c53",
   "metadata": {},
   "outputs": [
    {
     "name": "stdout",
     "output_type": "stream",
     "text": [
      "List is : [1, 2, 3]\n"
     ]
    }
   ],
   "source": [
    "a = [1,2,3]\n",
    "print(\"List is : %s\"%a)\n"
   ]
  },
  {
   "cell_type": "code",
   "execution_count": 42,
   "id": "02fcf53a",
   "metadata": {},
   "outputs": [
    {
     "name": "stdout",
     "output_type": "stream",
     "text": [
      "Dictionary is : {1: 'a', 2: 'b', 3: 'c'}\n"
     ]
    }
   ],
   "source": [
    "a = {1:'a',2:'b',3:'c'}\n",
    "print(\"Dictionary is : %s\"%a)"
   ]
  },
  {
   "cell_type": "code",
   "execution_count": 43,
   "id": "dab2baea",
   "metadata": {},
   "outputs": [
    {
     "name": "stdout",
     "output_type": "stream",
     "text": [
      "Set is : {1, 2, 3}\n"
     ]
    }
   ],
   "source": [
    "a = {1,2,3}\n",
    "print(\"Set is : %s\"%a)\n"
   ]
  }
 ],
 "metadata": {
  "kernelspec": {
   "display_name": "Python 3",
   "language": "python",
   "name": "python3"
  },
  "language_info": {
   "codemirror_mode": {
    "name": "ipython",
    "version": 3
   },
   "file_extension": ".py",
   "mimetype": "text/x-python",
   "name": "python",
   "nbconvert_exporter": "python",
   "pygments_lexer": "ipython3",
   "version": "3.8.8"
  }
 },
 "nbformat": 4,
 "nbformat_minor": 5
}
