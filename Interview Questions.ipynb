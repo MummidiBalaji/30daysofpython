{
 "cells": [
  {
   "cell_type": "markdown",
   "id": "e3278d84",
   "metadata": {},
   "source": [
    "## Basic Questions"
   ]
  },
  {
   "cell_type": "markdown",
   "id": "6e2ef054",
   "metadata": {},
   "source": [
    "### 1) What is Python? What are the benefits of using Python?"
   ]
  },
  {
   "cell_type": "markdown",
   "id": "2ddd6da8",
   "metadata": {},
   "source": [
    "* Python is a programming language with objects, modules, threads, exceptions, and automatic memory management. \n",
    "* The benefits of pythons are that it is simple and easy, portable, extensible, build-in data structure, and it is open-source."
   ]
  },
  {
   "cell_type": "markdown",
   "id": "9d8ab155",
   "metadata": {},
   "source": [
    "### 2) What are the key features of Python?"
   ]
  },
  {
   "cell_type": "markdown",
   "id": "400cc824",
   "metadata": {},
   "source": [
    "* Python is dynamically typed, this means that you don’t need to state the types of variables when you declare them.\n",
    "* Python is an interpreted language. That means that, unlike languages like C & other languages, Python does not need to be compiled before it is run."
   ]
  },
  {
   "cell_type": "markdown",
   "id": "fa477159",
   "metadata": {},
   "source": [
    "### 3) What type of language is python? Programming or scripting?"
   ]
  },
  {
   "cell_type": "markdown",
   "id": "5751a734",
   "metadata": {},
   "source": [
    "* Python is capable of scripting, but in general sense, it is considered as a general-purpose programming language."
   ]
  },
  {
   "cell_type": "markdown",
   "id": "a5e379b9",
   "metadata": {},
   "source": [
    "### 4) What is pep 8?"
   ]
  },
  {
   "cell_type": "markdown",
   "id": "4a3f7a24",
   "metadata": {},
   "source": [
    "* PEP stands for Python Enhancement Proposal. It is a set of rules that specify how to format Python code for maximum readability."
   ]
  },
  {
   "cell_type": "markdown",
   "id": "faeaac1b",
   "metadata": {},
   "source": [
    "### 5) How is memory managed in Python?"
   ]
  },
  {
   "cell_type": "markdown",
   "id": "f9da2795",
   "metadata": {},
   "source": [
    "* Python uses the dynamic memory allocation which is managed by the Heap data structure. \n",
    "* Memory Heap holds the objects and other data structures that will be used in the program. \n",
    "* Python memory manager manages the allocation or de-allocation of the heap memory space through the API functions."
   ]
  },
  {
   "cell_type": "markdown",
   "id": "0b0e1984",
   "metadata": {},
   "source": [
    "### 6) What is namespace in Python?"
   ]
  },
  {
   "cell_type": "markdown",
   "id": "673c4254",
   "metadata": {},
   "source": [
    "* A namespace is a naming system used to make sure that names are unique to avoid naming conflicts."
   ]
  },
  {
   "cell_type": "markdown",
   "id": "133e430a",
   "metadata": {},
   "source": [
    "### 7) What are local variables and global variables in Python?"
   ]
  },
  {
   "cell_type": "markdown",
   "id": "0d443db2",
   "metadata": {},
   "source": [
    "#### Global Variable\n",
    "* Variables declared outside a function or in global space are called global variables. These variables can be accessed by any function in the program.\n",
    "\n",
    "#### Local Variable\n",
    "\n",
    "* Any variable declared inside a function is known as a local variable. These variables can only be accessed within the function in which they are declared"
   ]
  },
  {
   "cell_type": "markdown",
   "id": "eff21fd9",
   "metadata": {},
   "source": [
    "### 8) Is python case sensitive?"
   ]
  },
  {
   "cell_type": "markdown",
   "id": "de9f9686",
   "metadata": {},
   "source": [
    "* Yes. Python is a case sensitive language."
   ]
  },
  {
   "cell_type": "markdown",
   "id": "006130c6",
   "metadata": {},
   "source": [
    "### 9) What is type conversion in Python?"
   ]
  },
  {
   "cell_type": "markdown",
   "id": "45598d94",
   "metadata": {},
   "source": [
    "* Type conversion refers to the conversion of one data type into another data type.\n",
    "* Examples: int(), hex(), oct(), tuple(), set(), list(), str()"
   ]
  },
  {
   "cell_type": "markdown",
   "id": "880a32d6",
   "metadata": {},
   "source": [
    "### 10)  Is indentation required in python?"
   ]
  },
  {
   "cell_type": "markdown",
   "id": "8a9e47a7",
   "metadata": {},
   "source": [
    "* Indentation is necessary for Python. It specifies a block of code. All code within loops, classes, functions, etc is specified within an indented block.\n",
    "* If your code is not indented necessarily, it will not execute accurately and will throw errors as well."
   ]
  },
  {
   "cell_type": "markdown",
   "id": "2cb9a66c",
   "metadata": {},
   "source": [
    "### 11) What is the difference between Python Arrays and lists?"
   ]
  },
  {
   "cell_type": "markdown",
   "id": "25bb2848",
   "metadata": {},
   "source": [
    "* Arrays and lists, in Python, have the same way of storing data. \n",
    "* Arrays can hold only a single data type elements whereas lists can hold any data type elements."
   ]
  },
  {
   "cell_type": "markdown",
   "id": "4bf47f09",
   "metadata": {},
   "source": [
    "### 12) What are functions in Python?"
   ]
  },
  {
   "cell_type": "markdown",
   "id": "f1bd31e0",
   "metadata": {},
   "source": [
    "* A function is a block of code which is executed only when it is called. \n",
    "* To define a Python function, the def keyword is used"
   ]
  },
  {
   "cell_type": "markdown",
   "id": "4d61074a",
   "metadata": {},
   "source": [
    "### 13) What is __init__?"
   ]
  },
  {
   "cell_type": "markdown",
   "id": "701d404b",
   "metadata": {},
   "source": [
    "* __init__ is a method or constructor in Python. \n",
    "* This method is automatically called to allocate memory when a new object/ instance of a class is created. \n",
    "* All classes have the __init__ method."
   ]
  },
  {
   "cell_type": "markdown",
   "id": "5b953778",
   "metadata": {},
   "source": [
    "### 14) How does break, continue and pass work?"
   ]
  },
  {
   "cell_type": "markdown",
   "id": "bd3485ab",
   "metadata": {},
   "source": [
    "* __Break__ - \n",
    "    * Allows loop termination when some condition is met and the control is transferred to the next statement.\n",
    "* __Continue__ - \n",
    "    * Allows skipping some part of a loop when some specific condition is met and the control is transferred to the beginning of the loop\n",
    "* __Pass__ - \n",
    "    * The pass statement is generally used as a placeholder i.e. when the user does not know what code to write. \n",
    "    * So user can simply place pass where empty code is not allowed, like in loops, function definitions, class definitions, or in if statements. \n",
    "    * So using pass statement user avoids this error."
   ]
  },
  {
   "cell_type": "markdown",
   "id": "2fc2c987",
   "metadata": {},
   "source": [
    "### 15) What are iterators & generators in python?"
   ]
  },
  {
   "cell_type": "markdown",
   "id": "d76d6206",
   "metadata": {},
   "source": [
    "* Iterators are used mostly to iterate or convert other objects to an iterator using iter() function. \n",
    "* Generators are mostly used in loops to generate an iterator by returning all the values in the loop without affecting the iteration of the loop. Generators uses yield keyword."
   ]
  },
  {
   "cell_type": "markdown",
   "id": "abfe1e6d",
   "metadata": {},
   "source": [
    "### 16) What are python modules? Name some commonly used built-in modules in Python?"
   ]
  },
  {
   "cell_type": "markdown",
   "id": "175fefe9",
   "metadata": {},
   "source": [
    "* Python modules are files containing Python code. This code can either be functions classes or variables.\n",
    "    * Some of the commonly used built-in modules are:\n",
    "        * os, sys, math, random, date time, JSON"
   ]
  },
  {
   "cell_type": "markdown",
   "id": "71d9f042",
   "metadata": {},
   "source": [
    "### 17) How do you write comments in python?"
   ]
  },
  {
   "cell_type": "markdown",
   "id": "4d95a0b1",
   "metadata": {},
   "source": [
    "* Comments in Python start with a # character."
   ]
  },
  {
   "cell_type": "markdown",
   "id": "3719c594",
   "metadata": {},
   "source": [
    "### 18) What is the difference between range & xrange?"
   ]
  },
  {
   "cell_type": "markdown",
   "id": "7d2a47ce",
   "metadata": {},
   "source": [
    "* range() function in python 3.x is just a re-implementation of the xrange() of python 2.x"
   ]
  },
  {
   "cell_type": "markdown",
   "id": "530e3ae2",
   "metadata": {},
   "source": [
    "### 19)  What is pickling and unpickling?"
   ]
  },
  {
   "cell_type": "markdown",
   "id": "51a05a03",
   "metadata": {},
   "source": [
    "* Pickle module accepts any Python object and converts it into a string representation and dumps it into a file by using dump function, this process is called pickling. \n",
    "* The process of retrieving original Python objects from the stored string representation is called unpickling."
   ]
  },
  {
   "cell_type": "markdown",
   "id": "c64fd27b",
   "metadata": {},
   "source": [
    "### 20) What are docstrings in Python?"
   ]
  },
  {
   "cell_type": "markdown",
   "id": "8625ca7b",
   "metadata": {},
   "source": [
    "* These docstrings are within triple quotes. They are not assigned to any variable and therefore, at times, serve the purpose of comments as well."
   ]
  },
  {
   "cell_type": "markdown",
   "id": "13865442",
   "metadata": {},
   "source": [
    "### 21) What is the purpose of is, not and in operators?"
   ]
  },
  {
   "cell_type": "markdown",
   "id": "a4c984f3",
   "metadata": {},
   "source": [
    "* __is__: returns true when 2 operands are true\n",
    "\n",
    "* __not__: returns the inverse of the boolean value\n",
    "\n",
    "* __in__: checks if some element is present in some sequence"
   ]
  },
  {
   "cell_type": "markdown",
   "id": "62ce4c44",
   "metadata": {},
   "source": [
    "### 22) What is terenaty Operator / Conditional expressions?"
   ]
  },
  {
   "cell_type": "markdown",
   "id": "60c8c6e5",
   "metadata": {},
   "source": [
    "* Ternary operators evaluate something based on a condition being true or false.\n",
    "* It simply allows testing a condition in a single line replacing the multiline if-else making the code compact."
   ]
  },
  {
   "cell_type": "markdown",
   "id": "fd7e535b",
   "metadata": {},
   "source": [
    "### 23) What is a Package?"
   ]
  },
  {
   "cell_type": "markdown",
   "id": "c1d86f75",
   "metadata": {},
   "source": [
    "* package is a collection of modules\n",
    "* Modules that are related to each other are mainly put in the same package"
   ]
  },
  {
   "cell_type": "markdown",
   "id": "958e5a1f",
   "metadata": {},
   "source": [
    "### 24) What are in-built data types in python?"
   ]
  },
  {
   "cell_type": "markdown",
   "id": "31b45614",
   "metadata": {},
   "source": [
    "* int, float, bool, str, complex\n",
    "* In-built data types are immutable i.e, they cannot be changed once declared."
   ]
  },
  {
   "cell_type": "markdown",
   "id": "7a521803",
   "metadata": {},
   "source": [
    "### 25) What are other data types in python?"
   ]
  },
  {
   "cell_type": "markdown",
   "id": "c81e173d",
   "metadata": {},
   "source": [
    "* tuple (Immutable)\n",
    "* set (Mutable), Unorder collection of elements\n",
    "* dict (Mutable)\n",
    "* list (Mutable)"
   ]
  },
  {
   "cell_type": "markdown",
   "id": "371c7471",
   "metadata": {},
   "source": [
    "### 26) How do you access elements in python?"
   ]
  },
  {
   "cell_type": "markdown",
   "id": "24186f7a",
   "metadata": {},
   "source": [
    "* By using indexing & slicing\n",
    "* __Indexing__ :  Indexing is used to obtain individual elements. \n",
    "* __Slicing__: Slicing is used to obtain a sequence of elements"
   ]
  },
  {
   "cell_type": "markdown",
   "id": "e1bbfb55",
   "metadata": {},
   "source": [
    "### 27) How to add values to a python array?"
   ]
  },
  {
   "cell_type": "markdown",
   "id": "20023c14",
   "metadata": {},
   "source": [
    "* Elements can be added to an array using the append(), extend() and the insert () functions"
   ]
  },
  {
   "cell_type": "markdown",
   "id": "eafa95e1",
   "metadata": {},
   "source": [
    "### 28) Difference between append(), insert(), extend()?"
   ]
  },
  {
   "cell_type": "markdown",
   "id": "840f4943",
   "metadata": {},
   "source": [
    "* __append()__ - appends a single element to the list\n",
    "* __extend()__ - appends elements of an iterable to the list.\n",
    "* __insert()__ - inserts a single item at a given position of the list"
   ]
  },
  {
   "cell_type": "markdown",
   "id": "e730d756",
   "metadata": {},
   "source": [
    "### 29)  How to remove values to a python array?"
   ]
  },
  {
   "cell_type": "markdown",
   "id": "5a34d6df",
   "metadata": {},
   "source": [
    "* Array elements can be removed using pop(), remove(), del() method."
   ]
  },
  {
   "cell_type": "markdown",
   "id": "988bdb3b",
   "metadata": {},
   "source": [
    "### 30) Difference between del(), pop(), remove() ?"
   ]
  },
  {
   "cell_type": "markdown",
   "id": "401ad657",
   "metadata": {},
   "source": [
    "* __del()__ - To remove an element by index\n",
    "* __pop()__ - To remove element by index and get the returned value\n",
    "* __remove()__ - To delete an element by value"
   ]
  },
  {
   "cell_type": "markdown",
   "id": "a61835a1",
   "metadata": {},
   "source": [
    "### 31) What does sequence mean and which three types of data fall into this category?"
   ]
  },
  {
   "cell_type": "markdown",
   "id": "55fd1f07",
   "metadata": {},
   "source": [
    "* A sequence data type is a collection of objects ordered by a specific position.\n",
    "* In Python, Strings, lists, and tuples are the data types based on sequences"
   ]
  },
  {
   "cell_type": "markdown",
   "id": "39b07b45",
   "metadata": {},
   "source": [
    "### 32) What are lists and tuples? What is the key difference between them?"
   ]
  },
  {
   "cell_type": "markdown",
   "id": "cd05e4f6",
   "metadata": {},
   "source": [
    "* Lists and Tuples are both sequence data types that can store a collection of objects in Python.\n",
    "* Lists are represented with square brackets, they are mutable\n",
    "* Tuples are represented with closed brackets, they are immutable."
   ]
  },
  {
   "cell_type": "markdown",
   "id": "3fc75050",
   "metadata": {},
   "source": [
    "### 33) What is dictionary in a python?"
   ]
  },
  {
   "cell_type": "markdown",
   "id": "30992ab2",
   "metadata": {},
   "source": [
    "* It is an unordered collection of data values, used to store data values\n",
    "* unlike other Data Types that hold only a single value as an element, Dictionary holds key:value pair."
   ]
  },
  {
   "cell_type": "markdown",
   "id": "a641ce6f",
   "metadata": {},
   "source": [
    "### 34) Difference between list, sets, tuples?"
   ]
  },
  {
   "cell_type": "markdown",
   "id": "30af6ac7",
   "metadata": {},
   "source": [
    "* Lists and tuples are standard Python data types that store values in a sequence. They may have duplicates\n",
    "* Sets also stores data but in unordered sequence. Duplicates are not allowed.\n"
   ]
  },
  {
   "cell_type": "markdown",
   "id": "f26d0848",
   "metadata": {},
   "source": [
    "### 35) What is List Comprehension?"
   ]
  },
  {
   "cell_type": "markdown",
   "id": "9bdd2e5a",
   "metadata": {},
   "source": [
    "* It is a compact syntax for creating a list from a string or another list.\n",
    "* It is considerably faster than processing a list using the for loop."
   ]
  },
  {
   "cell_type": "markdown",
   "id": "5978157c",
   "metadata": {},
   "source": [
    "### 36) What is split used for?"
   ]
  },
  {
   "cell_type": "markdown",
   "id": "4446fe9c",
   "metadata": {},
   "source": [
    "* The split() method is used to separate a given string in Python."
   ]
  },
  {
   "cell_type": "markdown",
   "id": "ef1dd332",
   "metadata": {},
   "source": [
    "### 37) What is clear() method do?"
   ]
  },
  {
   "cell_type": "markdown",
   "id": "51a60c63",
   "metadata": {},
   "source": [
    "* clear() method clears all elements in list , tuple, set ..."
   ]
  },
  {
   "cell_type": "markdown",
   "id": "63651359",
   "metadata": {},
   "source": [
    "### 38) How do you find maximum & minimum values in a list or tuple?"
   ]
  },
  {
   "cell_type": "markdown",
   "id": "3619653a",
   "metadata": {},
   "source": [
    "* By using max() and min() functions"
   ]
  },
  {
   "cell_type": "markdown",
   "id": "a50dd1c8",
   "metadata": {},
   "source": [
    "### 39) How do you sort elements in a list or tuple?"
   ]
  },
  {
   "cell_type": "markdown",
   "id": "a53ac3d3",
   "metadata": {},
   "source": [
    "* We can sort by using sort() or sorted() methods"
   ]
  },
  {
   "cell_type": "markdown",
   "id": "97f185ed",
   "metadata": {},
   "source": [
    "### 40) How do you find index of a specific element in list or tuple?"
   ]
  },
  {
   "cell_type": "markdown",
   "id": "583ce04e",
   "metadata": {},
   "source": [
    "* By using index() method"
   ]
  },
  {
   "cell_type": "markdown",
   "id": "9ec05619",
   "metadata": {},
   "source": [
    "### 41) What is negative indexing in Python?"
   ]
  },
  {
   "cell_type": "markdown",
   "id": "3ba16a78",
   "metadata": {},
   "source": [
    "* By using negative indexing we can access elements from backwards"
   ]
  },
  {
   "cell_type": "markdown",
   "id": "bace68b4",
   "metadata": {},
   "source": [
    "### 42) What function can generate a list of numbers?"
   ]
  },
  {
   "cell_type": "markdown",
   "id": "f0a7df7c",
   "metadata": {},
   "source": [
    "* Range function"
   ]
  },
  {
   "cell_type": "markdown",
   "id": "c5dacda1",
   "metadata": {},
   "source": [
    "### 43) Name the 2 keywords used for looping?"
   ]
  },
  {
   "cell_type": "markdown",
   "id": "399aa55e",
   "metadata": {},
   "source": [
    "* for, while"
   ]
  },
  {
   "cell_type": "markdown",
   "id": "bcfb00c1",
   "metadata": {},
   "source": [
    "### 44) What is for loop?"
   ]
  },
  {
   "cell_type": "markdown",
   "id": "8b7fa71a",
   "metadata": {},
   "source": [
    "* It is a control flow statement that is used to repeatedly execute a group of statements as long as the condition is satisfied"
   ]
  },
  {
   "cell_type": "markdown",
   "id": "4bfb11de",
   "metadata": {},
   "source": [
    "### 45) What is a while loop?"
   ]
  },
  {
   "cell_type": "markdown",
   "id": "854ac082",
   "metadata": {},
   "source": [
    "* it is used to execute a block of statements repeatedly until a given condition is satisfied"
   ]
  },
  {
   "cell_type": "markdown",
   "id": "216687d3",
   "metadata": {},
   "source": [
    "### 46) Difference between for loop and while loop?"
   ]
  },
  {
   "cell_type": "markdown",
   "id": "c8245cc7",
   "metadata": {},
   "source": [
    "* For loop is used to execute a sequence of statements several times.\n",
    "* While is used to repeat a single statement or a group of statements for the TRUE condition. It verifies the condition before executing the loop"
   ]
  },
  {
   "cell_type": "markdown",
   "id": "05153f05",
   "metadata": {},
   "source": [
    "### 47) What is if-else in python?"
   ]
  },
  {
   "cell_type": "markdown",
   "id": "cfeea3d4",
   "metadata": {},
   "source": [
    "* if else Python statement evaluates whether an expression is true or false. \n",
    "* If a condition is true, the “if” statement executes. Otherwise, the “else” statement executes."
   ]
  },
  {
   "cell_type": "markdown",
   "id": "b6d33b4a",
   "metadata": {},
   "source": [
    "### 48) What is elif in python?"
   ]
  },
  {
   "cell_type": "markdown",
   "id": "edb4145a",
   "metadata": {},
   "source": [
    "* elif condition is used to include multiple conditional expressions after the if condition or between the if and else conditions."
   ]
  },
  {
   "cell_type": "markdown",
   "id": "36fb42b0",
   "metadata": {},
   "source": [
    "### 49) Difference between if and while?"
   ]
  },
  {
   "cell_type": "markdown",
   "id": "09d76ea6",
   "metadata": {},
   "source": [
    "* if statement checks if an expression is true or false, and then runs the code inside the statement only if it is true. The code inside the loop is only run once... \n",
    "* A while statement is a loop. Basically, it continues to execute the code in the while statement for however long the expression is true"
   ]
  },
  {
   "cell_type": "markdown",
   "id": "fa368893",
   "metadata": {},
   "source": [
    "### 50) What are nested loops in python?"
   ]
  },
  {
   "cell_type": "markdown",
   "id": "f3aee8bc",
   "metadata": {},
   "source": [
    "* A loop inside a loop is known as a nested loop.\n",
    "* The inner or outer loop can be any type, such as a while loop or for loop."
   ]
  },
  {
   "cell_type": "markdown",
   "id": "d2351805",
   "metadata": {},
   "source": [
    "### 51) What are functions & types of functions in python?"
   ]
  },
  {
   "cell_type": "markdown",
   "id": "d357c48b",
   "metadata": {},
   "source": [
    "*  A function is a block of code which only runs when it is called. We can pass data, known as parameters, into a function.\n",
    "    * Function with no argument and no return value.\n",
    "    * Function with no argument and with a Return value.\n",
    "    * Function with argument and No Return value.\n",
    "    * Function with argument and return value."
   ]
  },
  {
   "cell_type": "markdown",
   "id": "d0508e99",
   "metadata": {},
   "source": [
    "### 52) What is map() function?"
   ]
  },
  {
   "cell_type": "markdown",
   "id": "3891c462",
   "metadata": {},
   "source": [
    "* map() is a built-in function that allows you to process and transform all the items in an iterable without using an explicit for loop\n",
    "* It is a technique commonly known as mapping"
   ]
  },
  {
   "cell_type": "markdown",
   "id": "c0737f82",
   "metadata": {},
   "source": [
    "### 53) What is reduce() function?"
   ]
  },
  {
   "cell_type": "markdown",
   "id": "3764c72f",
   "metadata": {},
   "source": [
    "* reduce() is a function that implements a mathematical technique called folding or reduction. \n",
    "* reduce() is useful when you need to apply a function to an iterable and reduce it to a single cumulative value."
   ]
  },
  {
   "cell_type": "markdown",
   "id": "bdd10360",
   "metadata": {},
   "source": [
    "### 54) What is filter() function?"
   ]
  },
  {
   "cell_type": "markdown",
   "id": "1ab998aa",
   "metadata": {},
   "source": [
    "* filter() is a built-in function that allows you to process an iterable and extract those items that satisfy a given condition"
   ]
  },
  {
   "cell_type": "markdown",
   "id": "25414681",
   "metadata": {},
   "source": [
    "### 55) What are *args & **kwargs?"
   ]
  },
  {
   "cell_type": "markdown",
   "id": "4b20bf29",
   "metadata": {},
   "source": [
    "* args and **kwargs let you pass a variable number of arguments into a function\n",
    "* *args arguments have no keywords whereas **kwargs arguments each are associated with a keyword, it returns values in form of a dictionary"
   ]
  },
  {
   "cell_type": "markdown",
   "id": "3acab521",
   "metadata": {},
   "source": [
    "### 56) what are files in python?"
   ]
  },
  {
   "cell_type": "markdown",
   "id": "857da121",
   "metadata": {},
   "source": [
    "* A file is some information or data which stays in the computer storage devices.\n",
    "* Python gives you easy ways to manipulate these files."
   ]
  },
  {
   "cell_type": "markdown",
   "id": "cbc68411",
   "metadata": {},
   "source": [
    "### 57) How do you open a file?"
   ]
  },
  {
   "cell_type": "markdown",
   "id": "a5e266dd",
   "metadata": {},
   "source": [
    "* By using open() method"
   ]
  },
  {
   "cell_type": "markdown",
   "id": "d3c26223",
   "metadata": {},
   "source": [
    "### 58) In file handling, what does this terms means “r, w, a”,?"
   ]
  },
  {
   "cell_type": "markdown",
   "id": "f6a743c6",
   "metadata": {},
   "source": [
    "* read, write, append"
   ]
  },
  {
   "cell_type": "markdown",
   "id": "5bfe15cb",
   "metadata": {},
   "source": [
    "### 59) What is difference between “w” & \"a\" in file handling?"
   ]
  },
  {
   "cell_type": "markdown",
   "id": "84a03d45",
   "metadata": {},
   "source": [
    "* \"W\" opens the file for writing. It will create the file if it doesn’t exist, and if it does, it will overwrite it.\n",
    "* \"a\" opens the fhe file in appending mode. That means, it will be open for writing and everything will be written to the end of the file."
   ]
  },
  {
   "cell_type": "markdown",
   "id": "418890c4",
   "metadata": {},
   "source": [
    "### 60) Which function is used to read all the characters?"
   ]
  },
  {
   "cell_type": "markdown",
   "id": "f703f45d",
   "metadata": {},
   "source": [
    "* read()"
   ]
  },
  {
   "cell_type": "markdown",
   "id": "06b61527",
   "metadata": {},
   "source": [
    "### 61) Which function is used to read single line from file?"
   ]
  },
  {
   "cell_type": "markdown",
   "id": "0c13dc44",
   "metadata": {},
   "source": [
    "* The readline function reads a single line from the file"
   ]
  },
  {
   "cell_type": "markdown",
   "id": "e528d0b7",
   "metadata": {},
   "source": [
    "### 62) Difference between \"w\", \"wb\", \"w+\", \"wb+\" in file handling?"
   ]
  },
  {
   "cell_type": "markdown",
   "id": "dd914d28",
   "metadata": {},
   "source": [
    "* “w” Opens a file for writing only. \n",
    "* “wb” Opens a file for writing only in binary format. \n",
    "* “w+” Opens a file for both writing and reading. \n",
    "* “wb+” Opens a file for both writing and reading in binary format. "
   ]
  },
  {
   "cell_type": "markdown",
   "id": "bb1bd244",
   "metadata": {},
   "source": [
    "### 63) Which function is used to write a list of string in a file?"
   ]
  },
  {
   "cell_type": "markdown",
   "id": "8ad0a56c",
   "metadata": {},
   "source": [
    "* With the writeline function you can write a list of strings to a file"
   ]
  },
  {
   "cell_type": "markdown",
   "id": "fc20979a",
   "metadata": {},
   "source": [
    "### 64) How do you close a file?"
   ]
  },
  {
   "cell_type": "markdown",
   "id": "5d54e737",
   "metadata": {},
   "source": [
    "* By using close() function"
   ]
  },
  {
   "cell_type": "markdown",
   "id": "7c706ba3",
   "metadata": {},
   "source": [
    "### 65) What are regular expressions?"
   ]
  },
  {
   "cell_type": "markdown",
   "id": "f2b04fb5",
   "metadata": {},
   "source": [
    "* A regular expression is a special sequence of characters that helps you match or find other strings or sets of strings"
   ]
  },
  {
   "cell_type": "markdown",
   "id": "e79beff8",
   "metadata": {},
   "source": [
    "### 66) Explain sub(), subn() methods of “re” module in Python?"
   ]
  },
  {
   "cell_type": "markdown",
   "id": "90ea1dad",
   "metadata": {},
   "source": [
    "* sub(): This method is used to find a substring where a regex pattern matches, and then it replaces the matched substring with a different string.\n",
    "* subn(): This method is similar to the sub() method, but it returns the new string, along with the number of replacements"
   ]
  },
  {
   "cell_type": "markdown",
   "id": "126c8109",
   "metadata": {},
   "source": [
    "### 67) What are the basic concepts of OOPs?"
   ]
  },
  {
   "cell_type": "markdown",
   "id": "72ecc782",
   "metadata": {},
   "source": [
    "* Inheritance\n",
    "* Encapsulation\n",
    "* Polymorphism\n",
    "* Abstraction"
   ]
  },
  {
   "cell_type": "markdown",
   "id": "25e6c221",
   "metadata": {},
   "source": [
    "### 68) Explain Inheritance?"
   ]
  },
  {
   "cell_type": "markdown",
   "id": "6e50cf7f",
   "metadata": {},
   "source": [
    "* __Single inheritance__: When a class inherits only one superclass\n",
    "* __Multiple inheritance__: When a class inherits multiple superclasses\n",
    "* __Multilevel inheritance__: When a class inherits a superclass, and then another class inherits this derived class forming a ‘parent, child, and grandchild’ class structure\n",
    "* __Hierarchical inheritance__: When one superclass is inherited by multiple derived classes"
   ]
  },
  {
   "cell_type": "markdown",
   "id": "532aceac",
   "metadata": {},
   "source": [
    "### 69) What is Polymorphism?"
   ]
  },
  {
   "cell_type": "markdown",
   "id": "54af75b5",
   "metadata": {},
   "source": [
    "* Polymorphism means multiple forms. \n",
    "* In python we can find the same operator or function taking multiple forms. \n",
    "* It also useful in creating different classes which will have class methods with same name"
   ]
  },
  {
   "cell_type": "markdown",
   "id": "b030038e",
   "metadata": {},
   "source": [
    "### 70) What is Encapsulation ?"
   ]
  },
  {
   "cell_type": "markdown",
   "id": "1c9c94e5",
   "metadata": {},
   "source": [
    "* It is the process of wrapping up variables and methods into a single entity."
   ]
  },
  {
   "cell_type": "markdown",
   "id": "b24551a2",
   "metadata": {},
   "source": [
    "### 71) What is Abstraction ?"
   ]
  },
  {
   "cell_type": "markdown",
   "id": "c1905565",
   "metadata": {},
   "source": [
    "* Abstraction is a process of hiding the real implementation of the method by only showing a method signature."
   ]
  },
  {
   "cell_type": "markdown",
   "id": "3c3649f1",
   "metadata": {},
   "source": [
    "### 72) What is self in Python?"
   ]
  },
  {
   "cell_type": "markdown",
   "id": "0921372b",
   "metadata": {},
   "source": [
    "* Self is a keyword in Python used to define an instance of an object of a class"
   ]
  },
  {
   "cell_type": "markdown",
   "id": "bb9e54a7",
   "metadata": {},
   "source": [
    "### 73) What is slicing in Python?"
   ]
  },
  {
   "cell_type": "markdown",
   "id": "c25a5a06",
   "metadata": {},
   "source": [
    "* Syntax for slicing is [start : stop : step]\n",
    "* start is the starting index from where to slice a list or tuple\n",
    "* stop is the ending index or where to sop.\n",
    "* step is the number of steps to jump.\n",
    "* Default value for start is 0, stop is number of items, step is 1."
   ]
  },
  {
   "cell_type": "markdown",
   "id": "c9353285",
   "metadata": {},
   "source": [
    "### 74) What are decorators in Python?"
   ]
  },
  {
   "cell_type": "markdown",
   "id": "0a5e5be8",
   "metadata": {},
   "source": [
    "* Decorators in Python are essentially functions that add functionality to an existing function in Python without changing the structure of the function itself. "
   ]
  },
  {
   "cell_type": "markdown",
   "id": "10a8cd04",
   "metadata": {},
   "source": [
    "### 75) What are constructors?"
   ]
  },
  {
   "cell_type": "markdown",
   "id": "e52b0677",
   "metadata": {},
   "source": [
    "* A constructor is also a special kind of method. It is used to initialize objects of the class.\n",
    "* Types of constructor depend upon languages\n",
    "    * Private Constructor\n",
    "    * Default Constructor\n",
    "    * Copy Constructor\n",
    "    * Static Constructor\n",
    "    * Parameterized Constructor"
   ]
  },
  {
   "cell_type": "markdown",
   "id": "cf207893",
   "metadata": {},
   "source": [
    "### 76) What is Garbage Collection(GC)?"
   ]
  },
  {
   "cell_type": "markdown",
   "id": "8d979daf",
   "metadata": {},
   "source": [
    "* Garbage Collection is a part of automatic memory management. \n",
    "* The Garbage collector helps to free the occupied spaces by objects. Those spaces are no longer in existence."
   ]
  },
  {
   "cell_type": "markdown",
   "id": "cf4a5c5a",
   "metadata": {},
   "source": [
    "### 77) What are Python libraries? Name a few of them."
   ]
  },
  {
   "cell_type": "markdown",
   "id": "e1c493ff",
   "metadata": {},
   "source": [
    "* Python libraries are a collection of Python packages. \n",
    "* Some of the majorly used python libraries are – Numpy, Pandas, Matplotlib, Scikit-learn"
   ]
  },
  {
   "cell_type": "markdown",
   "id": "3e3052d7",
   "metadata": {},
   "source": [
    "### 78) What is a class?"
   ]
  },
  {
   "cell_type": "markdown",
   "id": "f2ff2811",
   "metadata": {},
   "source": [
    "* Class is a kind of a user-defined data type that contains variables, properties, and methods.  It also helps to find the properties of an object."
   ]
  },
  {
   "cell_type": "markdown",
   "id": "3ab0f6fd",
   "metadata": {},
   "source": [
    "### 79) How are classes created in Python? "
   ]
  },
  {
   "cell_type": "markdown",
   "id": "ec405989",
   "metadata": {},
   "source": [
    "* Class in Python is created using the class keyword."
   ]
  },
  {
   "cell_type": "markdown",
   "id": "fe5db1b8",
   "metadata": {},
   "source": [
    "### 80) What is monkey patching in Python?"
   ]
  },
  {
   "cell_type": "markdown",
   "id": "bc8fcffa",
   "metadata": {},
   "source": [
    "* The term monkey patch only refers to dynamic modifications of a class or module at run-time."
   ]
  },
  {
   "cell_type": "markdown",
   "id": "0592516b",
   "metadata": {},
   "source": [
    "###  81) Does python support multiple inheritance?"
   ]
  },
  {
   "cell_type": "markdown",
   "id": "ea55a939",
   "metadata": {},
   "source": [
    "* Multiple inheritance means that a class can be derived from more than one parent classes. \n",
    "* Python does support multiple inheritance"
   ]
  },
  {
   "cell_type": "markdown",
   "id": "997b4e18",
   "metadata": {},
   "source": [
    "### 82) How do you copy an object in Python?"
   ]
  },
  {
   "cell_type": "markdown",
   "id": "e8df32b7",
   "metadata": {},
   "source": [
    "* __Shallow Copy__ - It stores the references of objects to the original memory address. \n",
    "* __Deep copy__ - It stores copies of the object's value"
   ]
  },
  {
   "cell_type": "markdown",
   "id": "11b59034",
   "metadata": {},
   "source": [
    "### 83) What is an exception?"
   ]
  },
  {
   "cell_type": "markdown",
   "id": "ec9f4c31",
   "metadata": {},
   "source": [
    "*  An exception is a Python object that represents an error."
   ]
  },
  {
   "cell_type": "markdown",
   "id": "a617c08f",
   "metadata": {},
   "source": [
    "### 84) what is exception handling and its use?"
   ]
  },
  {
   "cell_type": "markdown",
   "id": "0befe341",
   "metadata": {},
   "source": [
    "* When syntax error is encountered, Python displays the name of the error and a small description about the error. \n",
    "* The execution of the program will start only after the syntax error is rectified. \n",
    "* An exception is a Python object that represents an error. Syntax errors are also handled as exceptions."
   ]
  },
  {
   "cell_type": "markdown",
   "id": "799b871a",
   "metadata": {},
   "source": [
    "### 85) Why is OOPS used? "
   ]
  },
  {
   "cell_type": "markdown",
   "id": "08f6fee1",
   "metadata": {},
   "source": [
    "* The main aim of an Object-Oriented Programming System is implementing real-world entities such as polymorphism, inheritance, hiding, and many more in programming."
   ]
  }
 ],
 "metadata": {
  "kernelspec": {
   "display_name": "Python 3",
   "language": "python",
   "name": "python3"
  },
  "language_info": {
   "codemirror_mode": {
    "name": "ipython",
    "version": 3
   },
   "file_extension": ".py",
   "mimetype": "text/x-python",
   "name": "python",
   "nbconvert_exporter": "python",
   "pygments_lexer": "ipython3",
   "version": "3.8.8"
  }
 },
 "nbformat": 4,
 "nbformat_minor": 5
}
