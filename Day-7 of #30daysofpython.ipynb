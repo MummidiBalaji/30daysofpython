{
 "cells": [
  {
   "cell_type": "markdown",
   "id": "1e43223e",
   "metadata": {},
   "source": [
    "## Day-7 of   #30daysofPython\n"
   ]
  },
  {
   "cell_type": "markdown",
   "id": "9d66cab7",
   "metadata": {},
   "source": [
    "## Topic: Flow Control - 2\n"
   ]
  },
  {
   "cell_type": "markdown",
   "id": "4604b4b0",
   "metadata": {},
   "source": [
    "### Iterative Statements"
   ]
  },
  {
   "cell_type": "markdown",
   "id": "38f1da9b",
   "metadata": {},
   "source": [
    "* for loop\n",
    "* while loop"
   ]
  },
  {
   "cell_type": "markdown",
   "id": "33696f74",
   "metadata": {},
   "source": [
    "## for loop"
   ]
  },
  {
   "cell_type": "markdown",
   "id": "8d8e31a0",
   "metadata": {},
   "source": [
    "##### To perform activity for every element"
   ]
  },
  {
   "cell_type": "markdown",
   "id": "378708bc",
   "metadata": {},
   "source": [
    "### Syntax:"
   ]
  },
  {
   "cell_type": "code",
   "execution_count": 1,
   "id": "c7746d75",
   "metadata": {},
   "outputs": [
    {
     "data": {
      "text/plain": [
       "'   for x in sequence:\\n               Action             '"
      ]
     },
     "execution_count": 1,
     "metadata": {},
     "output_type": "execute_result"
    }
   ],
   "source": [
    "'''   for x in sequence:\n",
    "               Action             '''"
   ]
  },
  {
   "cell_type": "markdown",
   "id": "3cf9bd52",
   "metadata": {},
   "source": [
    "### Examples"
   ]
  },
  {
   "cell_type": "code",
   "execution_count": 2,
   "id": "f8321311",
   "metadata": {},
   "outputs": [
    {
     "name": "stdout",
     "output_type": "stream",
     "text": [
      "B\n",
      "a\n",
      "l\n",
      "a\n",
      "j\n",
      "i\n"
     ]
    }
   ],
   "source": [
    "a = 'Balaji'\n",
    "for i in a:          # 'i' means every element in a. \n",
    "    print(i)         # we can take any character or word instead of 'i'"
   ]
  },
  {
   "cell_type": "code",
   "execution_count": 3,
   "id": "cf6c0e86",
   "metadata": {},
   "outputs": [
    {
     "name": "stdout",
     "output_type": "stream",
     "text": [
      "Balaji"
     ]
    }
   ],
   "source": [
    "a = 'Balaji'\n",
    "for word in a:         \n",
    "    print(word,end = '')  #end attribute is used to print in a single line"
   ]
  },
  {
   "cell_type": "markdown",
   "id": "9ce7c4df",
   "metadata": {},
   "source": [
    "### Q. To print a word along with its index"
   ]
  },
  {
   "cell_type": "code",
   "execution_count": 4,
   "id": "f2576e35",
   "metadata": {},
   "outputs": [
    {
     "name": "stdout",
     "output_type": "stream",
     "text": [
      "For '0' index character is 'B' \n",
      "For '1' index character is 'a' \n",
      "For '2' index character is 'l' \n",
      "For '3' index character is 'a' \n",
      "For '4' index character is 'j' \n",
      "For '5' index character is 'i' \n"
     ]
    }
   ],
   "source": [
    "a = 'Balaji'\n",
    "x = 0\n",
    "for i in a:\n",
    "    print(\"For '{}' index character is '{}' \".format(x,a[x]))\n",
    "    x += 1"
   ]
  },
  {
   "cell_type": "markdown",
   "id": "7eb4a420",
   "metadata": {},
   "source": [
    "### Q. Program to print numbers in range of 1 and 10 using for loop."
   ]
  },
  {
   "cell_type": "code",
   "execution_count": 5,
   "id": "a6f0b853",
   "metadata": {},
   "outputs": [
    {
     "name": "stdout",
     "output_type": "stream",
     "text": [
      "0 1 2 3 4 5 6 7 8 9 "
     ]
    }
   ],
   "source": [
    "for i in range(0,10):\n",
    "    print(i,end = ' ')"
   ]
  },
  {
   "cell_type": "markdown",
   "id": "d8732ac1",
   "metadata": {},
   "source": [
    "### Q. To print even numbers in between 0 and 20"
   ]
  },
  {
   "cell_type": "code",
   "execution_count": 6,
   "id": "4b9e1534",
   "metadata": {},
   "outputs": [
    {
     "name": "stdout",
     "output_type": "stream",
     "text": [
      "0 2 4 6 8 10 12 14 16 18 20 "
     ]
    }
   ],
   "source": [
    "for i in range(0,21):\n",
    "    if i%2 == 0:\n",
    "        print(i,end = ' ')"
   ]
  },
  {
   "cell_type": "code",
   "execution_count": 7,
   "id": "2c934d32",
   "metadata": {},
   "outputs": [
    {
     "name": "stdout",
     "output_type": "stream",
     "text": [
      "0 2 4 6 8 10 12 14 16 18 20 "
     ]
    }
   ],
   "source": [
    "for i in range(0,21,2):\n",
    "    print(i,end = ' ')"
   ]
  },
  {
   "cell_type": "markdown",
   "id": "5253d445",
   "metadata": {},
   "source": [
    "### Q. To print odd numbers in between 0 and 20"
   ]
  },
  {
   "cell_type": "code",
   "execution_count": 8,
   "id": "72893863",
   "metadata": {},
   "outputs": [
    {
     "name": "stdout",
     "output_type": "stream",
     "text": [
      "1 3 5 7 9 11 13 15 17 19 "
     ]
    }
   ],
   "source": [
    "for i in range(0,21):\n",
    "    if i%2 == 1:\n",
    "        print(i,end = ' ')"
   ]
  },
  {
   "cell_type": "markdown",
   "id": "b1314914",
   "metadata": {},
   "source": [
    "## Q. To print sum of numbers in a give list"
   ]
  },
  {
   "cell_type": "code",
   "execution_count": 9,
   "id": "e264b153",
   "metadata": {},
   "outputs": [
    {
     "name": "stdout",
     "output_type": "stream",
     "text": [
      "Enter a list of numbers : [5,6,7,8]\n",
      "The sum of numbers is :  26\n"
     ]
    }
   ],
   "source": [
    "a = eval(input(\"Enter a list of numbers : \"))\n",
    "sum = 0\n",
    "for i in a:\n",
    "    sum += i\n",
    "print(\"The sum of numbers is : \",sum)"
   ]
  },
  {
   "cell_type": "markdown",
   "id": "7d06d8e3",
   "metadata": {},
   "source": [
    "## while loop"
   ]
  },
  {
   "cell_type": "markdown",
   "id": "cad75fe6",
   "metadata": {},
   "source": [
    "##### It execute group of statements based on the conditions."
   ]
  },
  {
   "cell_type": "markdown",
   "id": "735263f0",
   "metadata": {},
   "source": [
    "### Syntax:"
   ]
  },
  {
   "cell_type": "code",
   "execution_count": 10,
   "id": "08f43d45",
   "metadata": {},
   "outputs": [
    {
     "data": {
      "text/plain": [
       "'     while (condition):\\n                Action      '"
      ]
     },
     "execution_count": 10,
     "metadata": {},
     "output_type": "execute_result"
    }
   ],
   "source": [
    "'''     while (condition):\n",
    "                Action      '''"
   ]
  },
  {
   "cell_type": "markdown",
   "id": "31c2bfd3",
   "metadata": {},
   "source": [
    "## Examples"
   ]
  },
  {
   "cell_type": "markdown",
   "id": "b17551eb",
   "metadata": {},
   "source": [
    "## Q.Printing 'Hello' 3 times by while loop"
   ]
  },
  {
   "cell_type": "code",
   "execution_count": 11,
   "id": "e0f0152c",
   "metadata": {},
   "outputs": [
    {
     "name": "stdout",
     "output_type": "stream",
     "text": [
      "Hello\n",
      "Hello\n",
      "Hello\n"
     ]
    }
   ],
   "source": [
    "i = 1\n",
    "while i<=3:\n",
    "    print(\"Hello\")\n",
    "    i += 1"
   ]
  },
  {
   "cell_type": "markdown",
   "id": "5e4debf0",
   "metadata": {},
   "source": [
    "## Q. Printing numbers from 1 to 10"
   ]
  },
  {
   "cell_type": "code",
   "execution_count": 12,
   "id": "2c2a10e9",
   "metadata": {},
   "outputs": [
    {
     "name": "stdout",
     "output_type": "stream",
     "text": [
      "1\n",
      "2\n",
      "3\n",
      "4\n",
      "5\n",
      "6\n",
      "7\n",
      "8\n",
      "9\n",
      "10\n"
     ]
    }
   ],
   "source": [
    "i = 1\n",
    "while i<= 10:\n",
    "    print(i)\n",
    "    i += 1"
   ]
  },
  {
   "cell_type": "markdown",
   "id": "f69c5939",
   "metadata": {},
   "source": [
    "## Q.Printing  numbers divisible by '3' betwween 1 to 20"
   ]
  },
  {
   "cell_type": "code",
   "execution_count": 14,
   "id": "ff6e425b",
   "metadata": {},
   "outputs": [
    {
     "name": "stdout",
     "output_type": "stream",
     "text": [
      "Enter a number : 6\n",
      "The sum is :  21\n"
     ]
    }
   ],
   "source": [
    "n = int(input(\"Enter a number : \"))\n",
    "sum = 0\n",
    "i = 1\n",
    "while i<=n:\n",
    "    sum += i\n",
    "    i += 1\n",
    "print(\"The sum is : \",sum)"
   ]
  },
  {
   "cell_type": "markdown",
   "id": "1c2060ed",
   "metadata": {},
   "source": [
    "## Nested Loops"
   ]
  },
  {
   "cell_type": "markdown",
   "id": "ebb22d75",
   "metadata": {},
   "source": [
    "## Example"
   ]
  },
  {
   "cell_type": "code",
   "execution_count": 15,
   "id": "1c87d0d5",
   "metadata": {},
   "outputs": [
    {
     "name": "stdout",
     "output_type": "stream",
     "text": [
      "Hello Balaji\n",
      "Hello Balaji\n",
      "Hello Balaji\n",
      "Hello Balaji\n",
      "Hello Balaji\n",
      "Hello Balaji\n"
     ]
    }
   ],
   "source": [
    "for i in range(3):\n",
    "    for j in range(2):\n",
    "        print(\"Hello Balaji\")"
   ]
  },
  {
   "cell_type": "code",
   "execution_count": null,
   "id": "5907e04e",
   "metadata": {},
   "outputs": [],
   "source": []
  }
 ],
 "metadata": {
  "kernelspec": {
   "display_name": "Python 3",
   "language": "python",
   "name": "python3"
  },
  "language_info": {
   "codemirror_mode": {
    "name": "ipython",
    "version": 3
   },
   "file_extension": ".py",
   "mimetype": "text/x-python",
   "name": "python",
   "nbconvert_exporter": "python",
   "pygments_lexer": "ipython3",
   "version": "3.8.8"
  }
 },
 "nbformat": 4,
 "nbformat_minor": 5
}
