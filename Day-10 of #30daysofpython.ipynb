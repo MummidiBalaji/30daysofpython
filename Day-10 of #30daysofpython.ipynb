{
 "cells": [
  {
   "cell_type": "markdown",
   "id": "098e991c",
   "metadata": {},
   "source": [
    "## Day-10 of   #30daysofPython"
   ]
  },
  {
   "cell_type": "markdown",
   "id": "dc1e689b",
   "metadata": {},
   "source": [
    "## Topic - Tuples"
   ]
  },
  {
   "cell_type": "markdown",
   "id": "8e23e086",
   "metadata": {},
   "source": [
    "* Functions\n",
    "    * len()\n",
    "    * type()\n",
    "    * max()\n",
    "    * min()\n",
    "* Methods\n",
    "    * count()\n",
    "    * index()\n",
    "* Examples"
   ]
  },
  {
   "cell_type": "markdown",
   "id": "70541e23",
   "metadata": {},
   "source": [
    "##### Tuples are immutable.\n",
    "##### We cannot add or remove elements in a tuple\n"
   ]
  },
  {
   "cell_type": "markdown",
   "id": "7c62d4f9",
   "metadata": {},
   "source": [
    "## len()"
   ]
  },
  {
   "cell_type": "code",
   "execution_count": 1,
   "id": "52f844f5",
   "metadata": {},
   "outputs": [
    {
     "name": "stdout",
     "output_type": "stream",
     "text": [
      "5\n"
     ]
    }
   ],
   "source": [
    "t = (1,2,3,4,5)\n",
    "print(len(t))"
   ]
  },
  {
   "cell_type": "code",
   "execution_count": 2,
   "id": "9bafe5c1",
   "metadata": {},
   "outputs": [
    {
     "name": "stdout",
     "output_type": "stream",
     "text": [
      "7\n"
     ]
    }
   ],
   "source": [
    "t = ('a','b','c','d','e','f','g')\n",
    "print(len(t))"
   ]
  },
  {
   "cell_type": "code",
   "execution_count": 3,
   "id": "ad95bc8e",
   "metadata": {},
   "outputs": [
    {
     "name": "stdout",
     "output_type": "stream",
     "text": [
      "4\n"
     ]
    }
   ],
   "source": [
    "t = (12.7,3,'a',True)\n",
    "print(len(t))"
   ]
  },
  {
   "cell_type": "markdown",
   "id": "dd4db818",
   "metadata": {},
   "source": [
    "## type()"
   ]
  },
  {
   "cell_type": "code",
   "execution_count": 4,
   "id": "495bb7b7",
   "metadata": {},
   "outputs": [
    {
     "name": "stdout",
     "output_type": "stream",
     "text": [
      "<class 'tuple'>\n"
     ]
    }
   ],
   "source": [
    "t = (1,2,3,4,5)\n",
    "print(type(t))"
   ]
  },
  {
   "cell_type": "code",
   "execution_count": 5,
   "id": "29596593",
   "metadata": {},
   "outputs": [
    {
     "name": "stdout",
     "output_type": "stream",
     "text": [
      "<class 'tuple'>\n"
     ]
    }
   ],
   "source": [
    "t = ('a','b','c','d','e','f','g')\n",
    "print(type(t))"
   ]
  },
  {
   "cell_type": "code",
   "execution_count": 6,
   "id": "22735b5c",
   "metadata": {},
   "outputs": [
    {
     "name": "stdout",
     "output_type": "stream",
     "text": [
      "<class 'tuple'>\n"
     ]
    }
   ],
   "source": [
    "t = (12.7,3,'a',True)\n",
    "print(type(t))"
   ]
  },
  {
   "cell_type": "markdown",
   "id": "329a9572",
   "metadata": {},
   "source": [
    "## min()"
   ]
  },
  {
   "cell_type": "code",
   "execution_count": 7,
   "id": "97c5cedf",
   "metadata": {},
   "outputs": [
    {
     "name": "stdout",
     "output_type": "stream",
     "text": [
      "1\n"
     ]
    }
   ],
   "source": [
    "t = (1,2,3,4,5)\n",
    "print(min(t))"
   ]
  },
  {
   "cell_type": "code",
   "execution_count": 8,
   "id": "e8d34463",
   "metadata": {},
   "outputs": [
    {
     "name": "stdout",
     "output_type": "stream",
     "text": [
      "a\n"
     ]
    }
   ],
   "source": [
    "t = ('a','b','c','d','e','f','g')\n",
    "print(min(t))"
   ]
  },
  {
   "cell_type": "code",
   "execution_count": 9,
   "id": "805d8784",
   "metadata": {},
   "outputs": [
    {
     "name": "stdout",
     "output_type": "stream",
     "text": [
      "2.1\n"
     ]
    }
   ],
   "source": [
    "t = (3.5,7,2.1,6)\n",
    "print(min(t))"
   ]
  },
  {
   "cell_type": "markdown",
   "id": "5fa40619",
   "metadata": {},
   "source": [
    "## max()"
   ]
  },
  {
   "cell_type": "code",
   "execution_count": 10,
   "id": "86105f91",
   "metadata": {},
   "outputs": [
    {
     "name": "stdout",
     "output_type": "stream",
     "text": [
      "5\n"
     ]
    }
   ],
   "source": [
    "t = (1,2,3,4,5)\n",
    "print(max(t))"
   ]
  },
  {
   "cell_type": "code",
   "execution_count": 11,
   "id": "3e22472d",
   "metadata": {},
   "outputs": [
    {
     "name": "stdout",
     "output_type": "stream",
     "text": [
      "g\n"
     ]
    }
   ],
   "source": [
    "t = ('a','b','c','d','e','f','g')\n",
    "print(max(t))"
   ]
  },
  {
   "cell_type": "code",
   "execution_count": 12,
   "id": "954b8bb4",
   "metadata": {},
   "outputs": [
    {
     "name": "stdout",
     "output_type": "stream",
     "text": [
      "7\n"
     ]
    }
   ],
   "source": [
    "t = (3.5,7,2.1,6)\n",
    "print(max(t))"
   ]
  },
  {
   "cell_type": "markdown",
   "id": "77428f76",
   "metadata": {},
   "source": [
    "### Since tuple is immutable, to add elements we convert to list"
   ]
  },
  {
   "cell_type": "code",
   "execution_count": 13,
   "id": "ad7f2387",
   "metadata": {},
   "outputs": [
    {
     "name": "stdout",
     "output_type": "stream",
     "text": [
      "tuple is:  (1, 2, 3, 4, 5, 6, 7, 8, 9)\n",
      "<class 'tuple'>\n",
      "\n",
      "list is:  [1, 2, 3, 4, 5, 6, 7, 8, 9]\n",
      "<class 'list'>\n"
     ]
    }
   ],
   "source": [
    "t = (1,2,3,4,5,6,7,8,9)\n",
    "print(\"tuple is: \",t)\n",
    "print(type(t))\n",
    "print()\n",
    "l = list(t)\n",
    "print(\"list is: \",l)\n",
    "print(type(l))"
   ]
  },
  {
   "cell_type": "markdown",
   "id": "0b2cffdd",
   "metadata": {},
   "source": [
    "## Methods"
   ]
  },
  {
   "cell_type": "markdown",
   "id": "4fc71df4",
   "metadata": {},
   "source": [
    "## count()"
   ]
  },
  {
   "cell_type": "code",
   "execution_count": 14,
   "id": "9a2f52c4",
   "metadata": {},
   "outputs": [
    {
     "data": {
      "text/plain": [
       "1"
      ]
     },
     "execution_count": 14,
     "metadata": {},
     "output_type": "execute_result"
    }
   ],
   "source": [
    "t = (1,2,3,4,5,6,7,8,9)\n",
    "t.count(1)"
   ]
  },
  {
   "cell_type": "code",
   "execution_count": 15,
   "id": "60fc7c38",
   "metadata": {},
   "outputs": [
    {
     "data": {
      "text/plain": [
       "5"
      ]
     },
     "execution_count": 15,
     "metadata": {},
     "output_type": "execute_result"
    }
   ],
   "source": [
    "t = (1,1,1,2,2,2,2,2,3,3,3)\n",
    "t.count(2)"
   ]
  },
  {
   "cell_type": "code",
   "execution_count": 16,
   "id": "a3e5d521",
   "metadata": {},
   "outputs": [
    {
     "data": {
      "text/plain": [
       "3"
      ]
     },
     "execution_count": 16,
     "metadata": {},
     "output_type": "execute_result"
    }
   ],
   "source": [
    "t = ('a','b','b','c','c','c','d','d')\n",
    "t.count('c')"
   ]
  },
  {
   "cell_type": "markdown",
   "id": "1ef55131",
   "metadata": {},
   "source": [
    "## index()"
   ]
  },
  {
   "cell_type": "code",
   "execution_count": 17,
   "id": "582e40b6",
   "metadata": {},
   "outputs": [
    {
     "data": {
      "text/plain": [
       "0"
      ]
     },
     "execution_count": 17,
     "metadata": {},
     "output_type": "execute_result"
    }
   ],
   "source": [
    "t = (1,2,3,4,5,6,7,8,9)\n",
    "t.index(1)"
   ]
  },
  {
   "cell_type": "code",
   "execution_count": 18,
   "id": "f4c43dd1",
   "metadata": {},
   "outputs": [
    {
     "data": {
      "text/plain": [
       "3"
      ]
     },
     "execution_count": 18,
     "metadata": {},
     "output_type": "execute_result"
    }
   ],
   "source": [
    "t = ('a','b','b','c','c','c','d','d')\n",
    "t.index('c')       #Gives 1st index at 'c' occurs"
   ]
  },
  {
   "cell_type": "markdown",
   "id": "81f1a750",
   "metadata": {},
   "source": [
    "## Examples"
   ]
  },
  {
   "cell_type": "markdown",
   "id": "95b76fbe",
   "metadata": {},
   "source": [
    "Create a tuples for numbers 31,24,35,85 as nums"
   ]
  },
  {
   "cell_type": "code",
   "execution_count": 19,
   "id": "4186cc41",
   "metadata": {},
   "outputs": [
    {
     "name": "stdout",
     "output_type": "stream",
     "text": [
      "Data type <class 'tuple'>\n",
      "(31, 24, 35, 85)\n"
     ]
    }
   ],
   "source": [
    "tuple1 = (31,24,35,85)\n",
    "print('Data type',type(tuple1))\n",
    "print(tuple1)"
   ]
  },
  {
   "cell_type": "markdown",
   "id": "e4b8fadf",
   "metadata": {},
   "source": [
    "** Remove number \"35\" in a tuple**"
   ]
  },
  {
   "cell_type": "code",
   "execution_count": 20,
   "id": "84ba8493",
   "metadata": {},
   "outputs": [
    {
     "name": "stdout",
     "output_type": "stream",
     "text": [
      "(31, 24, 85)\n"
     ]
    }
   ],
   "source": [
    "tuple1 = (31,24,35,85)\n",
    "list1 = list(tuple1)\n",
    "list1.remove(35)\n",
    "tuple2 =tuple(list1)\n",
    "print(tuple2)"
   ]
  },
  {
   "cell_type": "markdown",
   "id": "9e892549",
   "metadata": {},
   "source": [
    "Extent tuple (85,19)"
   ]
  },
  {
   "cell_type": "code",
   "execution_count": 21,
   "id": "02815c77",
   "metadata": {},
   "outputs": [
    {
     "data": {
      "text/plain": [
       "(31, 24, 85, 85, 19)"
      ]
     },
     "execution_count": 21,
     "metadata": {},
     "output_type": "execute_result"
    }
   ],
   "source": [
    "list2 = list(tuple2)\n",
    "list2.extend([85,19])\n",
    "tuple3 = tuple(list2)\n",
    "tuple3"
   ]
  },
  {
   "cell_type": "markdown",
   "id": "08e99129",
   "metadata": {},
   "source": [
    "### With a given tuple (1,2,3,4,5,6,7,8,9,10), write a program to print the first half values in one line and the last half values in one line.\n",
    "    "
   ]
  },
  {
   "cell_type": "code",
   "execution_count": 22,
   "id": "55c38529",
   "metadata": {},
   "outputs": [
    {
     "name": "stdout",
     "output_type": "stream",
     "text": [
      "(1, 2, 3, 4, 5)\n",
      "(6, 7, 8, 9, 10)\n"
     ]
    }
   ],
   "source": [
    "t = (1,2,3,4,5,6,7,8,9,10)\n",
    "t1 = t[0:5]\n",
    "print(t1)\n",
    "t2 = t[5:]\n",
    "print(t2)"
   ]
  },
  {
   "cell_type": "markdown",
   "id": "1e32c94f",
   "metadata": {},
   "source": [
    "### Write a program to generate and print another tuple whose values are even numbers in the given tuple (1,2,3,4,5,6,7,8,9,10)"
   ]
  },
  {
   "cell_type": "code",
   "execution_count": 23,
   "id": "0f9133c6",
   "metadata": {},
   "outputs": [
    {
     "name": "stdout",
     "output_type": "stream",
     "text": [
      "(2, 4, 6, 8, 10)\n"
     ]
    }
   ],
   "source": [
    "# EVEN NUMBERS\n",
    "t = (1,2,3,4,5,6,7,8,9,10)\n",
    "l = []\n",
    "for i in t:\n",
    "    if i%2 == 0:\n",
    "        l += [i]\n",
    "t1 = tuple(l)\n",
    "print(t1)"
   ]
  },
  {
   "cell_type": "code",
   "execution_count": 24,
   "id": "2852f303",
   "metadata": {},
   "outputs": [
    {
     "name": "stdout",
     "output_type": "stream",
     "text": [
      "(1, 3, 5, 7, 9)\n"
     ]
    }
   ],
   "source": [
    "# ODD NUMBERS\n",
    "t = (1,2,3,4,5,6,7,8,9,10)\n",
    "l = []\n",
    "for i in t:\n",
    "    if i%2 == 1:\n",
    "        l += [i]\n",
    "t1 = tuple(l)\n",
    "print(t1)"
   ]
  }
 ],
 "metadata": {
  "kernelspec": {
   "display_name": "Python 3",
   "language": "python",
   "name": "python3"
  },
  "language_info": {
   "codemirror_mode": {
    "name": "ipython",
    "version": 3
   },
   "file_extension": ".py",
   "mimetype": "text/x-python",
   "name": "python",
   "nbconvert_exporter": "python",
   "pygments_lexer": "ipython3",
   "version": "3.8.8"
  }
 },
 "nbformat": 4,
 "nbformat_minor": 5
}
