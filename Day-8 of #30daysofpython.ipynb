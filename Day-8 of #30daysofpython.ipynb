{
 "cells": [
  {
   "cell_type": "markdown",
   "id": "6f5561f9",
   "metadata": {},
   "source": [
    "## Day-8 of   #30daysofPython"
   ]
  },
  {
   "cell_type": "markdown",
   "id": "35850c63",
   "metadata": {},
   "source": [
    "## Topic - List\n",
    "\n",
    "* Functions of a List\n",
    "* Methods of a List\n",
    "    * Adding elements in a List\n",
    "    * Removing elements in a List\n",
    "    * Sorting a List\n",
    "        * Ascending  Order\n",
    "        * Descending Order\n",
    "    * Counting how many times an element is repeated.\n",
    "    * Finding index of an element\n",
    "    * Joining a list"
   ]
  },
  {
   "cell_type": "markdown",
   "id": "dd0539e1",
   "metadata": {},
   "source": [
    "## LIST"
   ]
  },
  {
   "cell_type": "markdown",
   "id": "b296567c",
   "metadata": {},
   "source": [
    "* List is mutable, we can add and remove elements in a list.\n",
    "* List is represented as [ ] \n"
   ]
  },
  {
   "cell_type": "markdown",
   "id": "d4190649",
   "metadata": {},
   "source": [
    "## Functions of a list:"
   ]
  },
  {
   "cell_type": "markdown",
   "id": "b7fba9a4",
   "metadata": {},
   "source": [
    "* len(list)------> Represents length of a list.\n",
    "* max(list)------> Gives maximum value in a list.\n",
    "* min(list)------> Gives minimum value in a list.\n",
    "* list()---------> converts any datatype into list."
   ]
  },
  {
   "cell_type": "code",
   "execution_count": 1,
   "id": "f6b8bc9f",
   "metadata": {},
   "outputs": [
    {
     "name": "stdout",
     "output_type": "stream",
     "text": [
      "<class 'list'>\n"
     ]
    }
   ],
   "source": [
    "l = [1,2,3,4,5,6]\n",
    "print(type(l))"
   ]
  },
  {
   "cell_type": "code",
   "execution_count": 2,
   "id": "5840cf31",
   "metadata": {},
   "outputs": [
    {
     "data": {
      "text/plain": [
       "6"
      ]
     },
     "execution_count": 2,
     "metadata": {},
     "output_type": "execute_result"
    }
   ],
   "source": [
    "len(l)"
   ]
  },
  {
   "cell_type": "code",
   "execution_count": 3,
   "id": "bb544469",
   "metadata": {},
   "outputs": [
    {
     "data": {
      "text/plain": [
       "6"
      ]
     },
     "execution_count": 3,
     "metadata": {},
     "output_type": "execute_result"
    }
   ],
   "source": [
    "max(l)"
   ]
  },
  {
   "cell_type": "code",
   "execution_count": 4,
   "id": "f6b4061b",
   "metadata": {},
   "outputs": [
    {
     "data": {
      "text/plain": [
       "1"
      ]
     },
     "execution_count": 4,
     "metadata": {},
     "output_type": "execute_result"
    }
   ],
   "source": [
    "min(l)"
   ]
  },
  {
   "cell_type": "code",
   "execution_count": 5,
   "id": "52e6a0db",
   "metadata": {},
   "outputs": [
    {
     "name": "stdout",
     "output_type": "stream",
     "text": [
      "[1, 2, 3, 4, 5, 6]\n"
     ]
    }
   ],
   "source": [
    "print(l) #directly printing list"
   ]
  },
  {
   "cell_type": "code",
   "execution_count": 6,
   "id": "27f37271",
   "metadata": {},
   "outputs": [
    {
     "data": {
      "text/plain": [
       "[1, 2, 3, 4, 5, 6]"
      ]
     },
     "execution_count": 6,
     "metadata": {},
     "output_type": "execute_result"
    }
   ],
   "source": [
    "l[0:len(l)]  #Printing a list based on index"
   ]
  },
  {
   "cell_type": "code",
   "execution_count": 7,
   "id": "8c7a4a73",
   "metadata": {},
   "outputs": [
    {
     "name": "stdout",
     "output_type": "stream",
     "text": [
      "[1, 2, 3, 4, 5, 6]\n"
     ]
    }
   ],
   "source": [
    "#Printing a list using 'for' loop\n",
    "l1=[]             # creating a empty list\n",
    "for i in l:\n",
    "    l1 += [i]     # Here, l1 = l1 + [i], every element is converting to a list and adding to a empty list\n",
    "print(l1)         # Printing an updated new list"
   ]
  },
  {
   "cell_type": "markdown",
   "id": "ddf9154e",
   "metadata": {},
   "source": [
    "## Methods in a list"
   ]
  },
  {
   "cell_type": "markdown",
   "id": "2830c391",
   "metadata": {},
   "source": [
    "### Adding elements in a list:\n",
    "\n",
    "* list.append()               -----> Adds one element, by default it adds in last position\n",
    "* list.extend([ , ])          -----> Adds multiple elements, by default it adds in last position\n",
    "* list.insert(index,element)  -----> Adds element at specifies index"
   ]
  },
  {
   "cell_type": "code",
   "execution_count": 8,
   "id": "329de4a9",
   "metadata": {},
   "outputs": [],
   "source": [
    "L = [0,1,2,3,'Hi',5,6,'Balaji']"
   ]
  },
  {
   "cell_type": "code",
   "execution_count": 9,
   "id": "b4036916",
   "metadata": {},
   "outputs": [
    {
     "name": "stdout",
     "output_type": "stream",
     "text": [
      "[0, 1, 2, 3, 'Hi', 5, 6, 'Balaji']\n"
     ]
    }
   ],
   "source": [
    "print(L)"
   ]
  },
  {
   "cell_type": "code",
   "execution_count": 10,
   "id": "8a9e9b14",
   "metadata": {},
   "outputs": [
    {
     "name": "stdout",
     "output_type": "stream",
     "text": [
      "[0, 1, 2, 3, 'Hi', 5, 6, 'Balaji', 2]\n"
     ]
    }
   ],
   "source": [
    "L.append(2)\n",
    "print(L)"
   ]
  },
  {
   "cell_type": "code",
   "execution_count": 11,
   "id": "60d58ee7",
   "metadata": {},
   "outputs": [
    {
     "name": "stdout",
     "output_type": "stream",
     "text": [
      "[0, 1, 2, 3, 'Hi', 5, 6, 'Balaji', 2, 7, 8, 99]\n"
     ]
    }
   ],
   "source": [
    "L.extend([7,8,99])\n",
    "print(L)"
   ]
  },
  {
   "cell_type": "code",
   "execution_count": 12,
   "id": "57fba9d6",
   "metadata": {},
   "outputs": [
    {
     "name": "stdout",
     "output_type": "stream",
     "text": [
      "[0, 1, 2, 3, 'Hi', 'How are you?', 5, 6, 'Balaji', 2, 7, 8, 99]\n"
     ]
    }
   ],
   "source": [
    "L.insert(5,'How are you?')\n",
    "print(L)"
   ]
  },
  {
   "cell_type": "markdown",
   "id": "4256a936",
   "metadata": {},
   "source": [
    "### Removing elements in a List:\n",
    "\n",
    "* list.remove()----------->Removes the element\n",
    "* list.pop(index)--------->Removes element based on index\n",
    "* list.clear()------------>Clears all the elements in a list\n",
    "* del list[index]--------->Removes element based on index"
   ]
  },
  {
   "cell_type": "code",
   "execution_count": 13,
   "id": "2089eeaa",
   "metadata": {},
   "outputs": [
    {
     "name": "stdout",
     "output_type": "stream",
     "text": [
      "[1, 2, 3, 'Hi', 'Hello', 4, 5, 'Balaji']\n"
     ]
    }
   ],
   "source": [
    "l1 = [1,2,3,'Hi','Hello',4,5,'Balaji']\n",
    "print(l1)"
   ]
  },
  {
   "cell_type": "code",
   "execution_count": 14,
   "id": "8d643a1b",
   "metadata": {},
   "outputs": [
    {
     "name": "stdout",
     "output_type": "stream",
     "text": [
      "[1, 2, 3, 'Hello', 4, 5, 'Balaji']\n"
     ]
    }
   ],
   "source": [
    "l1.remove(\"Hi\")\n",
    "print(l1)"
   ]
  },
  {
   "cell_type": "code",
   "execution_count": 15,
   "id": "bc11f01d",
   "metadata": {},
   "outputs": [
    {
     "name": "stdout",
     "output_type": "stream",
     "text": [
      "[1, 2, 3, 'Hello', 5, 'Balaji']\n"
     ]
    }
   ],
   "source": [
    "l1.remove(4)\n",
    "print(l1)"
   ]
  },
  {
   "cell_type": "code",
   "execution_count": 16,
   "id": "0249d044",
   "metadata": {},
   "outputs": [
    {
     "data": {
      "text/plain": [
       "[1, 2, 3, 'Hello', 'Balaji']"
      ]
     },
     "execution_count": 16,
     "metadata": {},
     "output_type": "execute_result"
    }
   ],
   "source": [
    "l1.pop(4)\n",
    "l1"
   ]
  },
  {
   "cell_type": "code",
   "execution_count": 17,
   "id": "8320d7f8",
   "metadata": {},
   "outputs": [
    {
     "data": {
      "text/plain": [
       "[2, 3, 'Hello', 'Balaji']"
      ]
     },
     "execution_count": 17,
     "metadata": {},
     "output_type": "execute_result"
    }
   ],
   "source": [
    "del l1[0]\n",
    "l1"
   ]
  },
  {
   "cell_type": "code",
   "execution_count": 18,
   "id": "08bf571f",
   "metadata": {},
   "outputs": [
    {
     "data": {
      "text/plain": [
       "[]"
      ]
     },
     "execution_count": 18,
     "metadata": {},
     "output_type": "execute_result"
    }
   ],
   "source": [
    "l1.clear()\n",
    "l1"
   ]
  },
  {
   "cell_type": "markdown",
   "id": "5a9e9ac3",
   "metadata": {},
   "source": [
    "## Sorting List\n",
    "### Sorting can be done by:\n",
    "* list.sort()\n",
    "* sorted(list)"
   ]
  },
  {
   "cell_type": "markdown",
   "id": "84a8ada2",
   "metadata": {},
   "source": [
    "### Sorting in Ascending order"
   ]
  },
  {
   "cell_type": "code",
   "execution_count": 19,
   "id": "4e986ea3",
   "metadata": {},
   "outputs": [
    {
     "data": {
      "text/plain": [
       "[0, 2, 3, 5, 7, 8]"
      ]
     },
     "execution_count": 19,
     "metadata": {},
     "output_type": "execute_result"
    }
   ],
   "source": [
    "l = [0,5,8,3,2,7]\n",
    "l.sort()\n",
    "l\n"
   ]
  },
  {
   "cell_type": "code",
   "execution_count": 20,
   "id": "8412233d",
   "metadata": {},
   "outputs": [
    {
     "data": {
      "text/plain": [
       "[0, 2, 3, 5, 7, 8]"
      ]
     },
     "execution_count": 20,
     "metadata": {},
     "output_type": "execute_result"
    }
   ],
   "source": [
    "l = [0,5,8,3,2,7]\n",
    "sorted(l)"
   ]
  },
  {
   "cell_type": "markdown",
   "id": "9a10ed97",
   "metadata": {},
   "source": [
    "### Sorting in Descending order"
   ]
  },
  {
   "cell_type": "code",
   "execution_count": 21,
   "id": "902cea14",
   "metadata": {},
   "outputs": [
    {
     "data": {
      "text/plain": [
       "[8, 7, 5, 3, 2, 0]"
      ]
     },
     "execution_count": 21,
     "metadata": {},
     "output_type": "execute_result"
    }
   ],
   "source": [
    "l = [0,5,8,3,2,7]\n",
    "l.sort(reverse = True)\n",
    "l\n"
   ]
  },
  {
   "cell_type": "code",
   "execution_count": 22,
   "id": "8e1dc57f",
   "metadata": {},
   "outputs": [
    {
     "data": {
      "text/plain": [
       "[8, 7, 5, 3, 2, 0]"
      ]
     },
     "execution_count": 22,
     "metadata": {},
     "output_type": "execute_result"
    }
   ],
   "source": [
    "l = [0,5,8,3,2,7]\n",
    "sorted(l,reverse = True)"
   ]
  },
  {
   "cell_type": "markdown",
   "id": "2af02f38",
   "metadata": {},
   "source": [
    "## Counting repeated elements in a list:"
   ]
  },
  {
   "cell_type": "markdown",
   "id": "c2fb798c",
   "metadata": {},
   "source": [
    "* list.count() is used to count how many times an elements is repeated."
   ]
  },
  {
   "cell_type": "code",
   "execution_count": 23,
   "id": "eb710452",
   "metadata": {},
   "outputs": [
    {
     "data": {
      "text/plain": [
       "5"
      ]
     },
     "execution_count": 23,
     "metadata": {},
     "output_type": "execute_result"
    }
   ],
   "source": [
    "l = [1,2,2,3,4,5,3,3,3,3]\n",
    "l.count(3)"
   ]
  },
  {
   "cell_type": "markdown",
   "id": "4d653773",
   "metadata": {},
   "source": [
    "## Finding index of a specific element"
   ]
  },
  {
   "cell_type": "code",
   "execution_count": 24,
   "id": "a778fa64",
   "metadata": {},
   "outputs": [
    {
     "data": {
      "text/plain": [
       "7"
      ]
     },
     "execution_count": 24,
     "metadata": {},
     "output_type": "execute_result"
    }
   ],
   "source": [
    "l = [0,1,2,3,4,5,6,'Hi Balaji']\n",
    "l.index('Hi Balaji')"
   ]
  },
  {
   "cell_type": "markdown",
   "id": "1d0c78eb",
   "metadata": {},
   "source": [
    "## Joining a list"
   ]
  },
  {
   "cell_type": "code",
   "execution_count": 38,
   "id": "45730db8",
   "metadata": {},
   "outputs": [
    {
     "data": {
      "text/plain": [
       "'Hi Balaji! How are you ?'"
      ]
     },
     "execution_count": 38,
     "metadata": {},
     "output_type": "execute_result"
    }
   ],
   "source": [
    "l = ['Hi','Balaji!','How','are','you','?']\n",
    "a = ' '.join(l)\n",
    "a"
   ]
  },
  {
   "cell_type": "markdown",
   "id": "5392ac94",
   "metadata": {},
   "source": [
    "## Typecasting"
   ]
  },
  {
   "cell_type": "code",
   "execution_count": 25,
   "id": "88679a94",
   "metadata": {},
   "outputs": [
    {
     "name": "stdout",
     "output_type": "stream",
     "text": [
      "['H', 'i', ' ', 'I', ' ', 'a', 'm', ' ', 'B', 'a', 'l', 'a', 'j', 'i']\n"
     ]
    }
   ],
   "source": [
    "a = 'Hi I am Balaji'\n",
    "print(list(a))       # Converting a string into a list"
   ]
  },
  {
   "cell_type": "code",
   "execution_count": 39,
   "id": "d5f64869",
   "metadata": {},
   "outputs": [
    {
     "data": {
      "text/plain": [
       "[10, 20, 30, 40, 50]"
      ]
     },
     "execution_count": 39,
     "metadata": {},
     "output_type": "execute_result"
    }
   ],
   "source": [
    "a = (10,20,30,40,50)\n",
    "l = list(a)           # Converting a tuple into a list\n",
    "l"
   ]
  },
  {
   "cell_type": "code",
   "execution_count": 40,
   "id": "092288a9",
   "metadata": {},
   "outputs": [
    {
     "data": {
      "text/plain": [
       "[1, 2, 3, 4, 7, 8, 9]"
      ]
     },
     "execution_count": 40,
     "metadata": {},
     "output_type": "execute_result"
    }
   ],
   "source": [
    "a = {1,2,3,4,7,8,9}\n",
    "list(a)               # Converting a set into a list"
   ]
  },
  {
   "cell_type": "code",
   "execution_count": null,
   "id": "6ae7674d",
   "metadata": {},
   "outputs": [],
   "source": []
  },
  {
   "cell_type": "code",
   "execution_count": null,
   "id": "3f274ee1",
   "metadata": {},
   "outputs": [],
   "source": []
  },
  {
   "cell_type": "markdown",
   "id": "a8d63108",
   "metadata": {},
   "source": [
    "## Examples"
   ]
  },
  {
   "cell_type": "markdown",
   "id": "e505c9a3",
   "metadata": {},
   "source": [
    "### 1. To remove spaces in first occurence"
   ]
  },
  {
   "cell_type": "code",
   "execution_count": 27,
   "id": "4145cc08",
   "metadata": {},
   "outputs": [
    {
     "data": {
      "text/plain": [
       "['H', 'i', 'I', ' ', 'a', 'm', ' ', 'B', 'a', 'l', 'a', 'j', 'i']"
      ]
     },
     "execution_count": 27,
     "metadata": {},
     "output_type": "execute_result"
    }
   ],
   "source": [
    "#To remove spaces from above output list\n",
    "a = 'Hi I am Balaji'\n",
    "b = list(a)\n",
    "c = b.remove(' ')          # Here, only the 1st occurence of '<space>' removes\n",
    "b"
   ]
  },
  {
   "cell_type": "markdown",
   "id": "fdd23fb7",
   "metadata": {},
   "source": [
    "### 2. To remove spaces completely"
   ]
  },
  {
   "cell_type": "code",
   "execution_count": 31,
   "id": "817cab54",
   "metadata": {},
   "outputs": [
    {
     "name": "stdout",
     "output_type": "stream",
     "text": [
      "['H', 'i', 'I', 'a', 'm', 'B', 'a', 'l', 'a', 'j', 'i']\n"
     ]
    }
   ],
   "source": [
    "#To remove '<spaces>' completely, using for loop.\n",
    "a = 'Hi I am Balaji'\n",
    "b = []\n",
    "for i in a:\n",
    "    if i!= ' ':\n",
    "        b += [i]\n",
    "    elif i == ' ':\n",
    "        pass\n",
    "print(b)\n",
    "        \n"
   ]
  },
  {
   "cell_type": "markdown",
   "id": "d0344a46",
   "metadata": {},
   "source": [
    "### 3. Extracting last four elements in a list"
   ]
  },
  {
   "cell_type": "code",
   "execution_count": 33,
   "id": "9488542a",
   "metadata": {},
   "outputs": [
    {
     "data": {
      "text/plain": [
       "['Balaji', 4, 'Hi', 3]"
      ]
     },
     "execution_count": 33,
     "metadata": {},
     "output_type": "execute_result"
    }
   ],
   "source": [
    "l = [1,2,3,'Hi',4,'Balaji']\n",
    "l[-1:-5:-1]"
   ]
  },
  {
   "cell_type": "markdown",
   "id": "5c6cf627",
   "metadata": {},
   "source": [
    "### 4. To print 'Hi Balaji' side by side in given list"
   ]
  },
  {
   "cell_type": "code",
   "execution_count": 35,
   "id": "7dc829ca",
   "metadata": {},
   "outputs": [
    {
     "name": "stdout",
     "output_type": "stream",
     "text": [
      "Hi Balaji\n"
     ]
    }
   ],
   "source": [
    "l = [1,2,3,'Hi',4,'Balaji']\n",
    "print(l[l.index('Hi')]+' '+l[l.index('Balaji')])"
   ]
  }
 ],
 "metadata": {
  "kernelspec": {
   "display_name": "Python 3",
   "language": "python",
   "name": "python3"
  },
  "language_info": {
   "codemirror_mode": {
    "name": "ipython",
    "version": 3
   },
   "file_extension": ".py",
   "mimetype": "text/x-python",
   "name": "python",
   "nbconvert_exporter": "python",
   "pygments_lexer": "ipython3",
   "version": "3.8.8"
  }
 },
 "nbformat": 4,
 "nbformat_minor": 5
}
