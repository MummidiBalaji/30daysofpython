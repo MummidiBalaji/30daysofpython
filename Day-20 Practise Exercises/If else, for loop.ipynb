{
 "cells": [
  {
   "cell_type": "markdown",
   "metadata": {},
   "source": [
    "# IF , ELSE.... FOR LOOP"
   ]
  },
  {
   "cell_type": "markdown",
   "metadata": {},
   "source": [
    "> print this is hour in current minute is odd"
   ]
  },
  {
   "cell_type": "code",
   "execution_count": 1,
   "metadata": {},
   "outputs": [
    {
     "name": "stdout",
     "output_type": "stream",
     "text": [
      "Minute : 53\n",
      "This is odd minute\n"
     ]
    }
   ],
   "source": [
    "#CODE HERE\n",
    "minute = 53\n",
    "if minute%2 == 1:\n",
    "    print(\"Minute : {}\".format(minute))\n",
    "    print(\"This is odd minute\")"
   ]
  },
  {
   "cell_type": "markdown",
   "metadata": {},
   "source": [
    "> if today is saturday then print 'Party !!!' or if sunday print take rest other wise print work , work, work"
   ]
  },
  {
   "cell_type": "code",
   "execution_count": 2,
   "metadata": {},
   "outputs": [
    {
     "name": "stdout",
     "output_type": "stream",
     "text": [
      "Today is : Sunday\n",
      "Take Rest.\n"
     ]
    }
   ],
   "source": [
    "#CODE HERE\n",
    "day = \"Sunday\"\n",
    "if day == 'Monday' or day =='Tuesday' or day =='Wednesday' or day =='Thursday' or day=='Friday':\n",
    "    print(\"Work work Work\")\n",
    "elif day == 'Saturday':\n",
    "    print(\"Party!\")\n",
    "elif day == 'Sunday':\n",
    "    print(\"Today is : Sunday\")\n",
    "    print('Take Rest.')"
   ]
  },
  {
   "cell_type": "markdown",
   "metadata": {},
   "source": [
    "> Write a program which will find all such numbers which are divisible by 7 but are not a multiple of 5, between 2000 and 3200 (both included). The numbers obtained should be printed in a comma-separated sequence on a single line."
   ]
  },
  {
   "cell_type": "code",
   "execution_count": 3,
   "metadata": {},
   "outputs": [],
   "source": [
    "#CODE HERE"
   ]
  },
  {
   "cell_type": "code",
   "execution_count": 4,
   "metadata": {},
   "outputs": [
    {
     "name": "stdout",
     "output_type": "stream",
     "text": [
      "2002,2009,2016,2023,2030,2037,2044,2051,2058,2065,2072,2079,2086,2093,2100,2107,2114,2121,2128,2135,2142,2149,2156,2163,2170,2177,2184,2191,2198,2205,2212,2219,2226,2233,2240,2247,2254,2261,2268,2275,2282,2289,2296,2303,2310,2317,2324,2331,2338,2345,2352,2359,2366,2373,2380,2387,2394,2401,2408,2415,2422,2429,2436,2443,2450,2457,2464,2471,2478,2485,2492,2499,2506,2513,2520,2527,2534,2541,2548,2555,2562,2569,2576,2583,2590,2597,2604,2611,2618,2625,2632,2639,2646,2653,2660,2667,2674,2681,2688,2695,2702,2709,2716,2723,2730,2737,2744,2751,2758,2765,2772,2779,2786,2793,2800,2807,2814,2821,2828,2835,2842,2849,2856,2863,2870,2877,2884,2891,2898,2905,2912,2919,2926,2933,2940,2947,2954,2961,2968,2975,2982,2989,2996,3003,3010,3017,3024,3031,3038,3045,3052,3059,3066,3073,3080,3087,3094,3101,3108,3115,3122,3129,3136,3143,3150,3157,3164,3171,3178,3185,3192,3199,"
     ]
    }
   ],
   "source": [
    "#CODE HERE\n",
    "for i in range(2000,3201):\n",
    "    if i%7 == 0:\n",
    "        print(i,end=',')"
   ]
  },
  {
   "cell_type": "markdown",
   "metadata": {},
   "source": [
    "> Write a program which can compute the factorial of a given numbers.\n",
    "The results should be printed in a comma-separated sequence on a single line.\n",
    "Suppose the following input is supplied to the program:\n",
    "8\n",
    "Then, the output should be:\n",
    "40320"
   ]
  },
  {
   "cell_type": "code",
   "execution_count": 5,
   "metadata": {},
   "outputs": [
    {
     "name": "stdout",
     "output_type": "stream",
     "text": [
      "Enter a value to compute factorial : 8\n",
      "8! = 40320\n"
     ]
    }
   ],
   "source": [
    "#CODE HERE\n",
    "num = int(input(\"Enter a value to compute factorial : \"))\n",
    "fact = 1;\n",
    "for i in range(1,num+1):\n",
    "    fact = fact*i;\n",
    "print(\"{}! =\".format(num),fact)"
   ]
  },
  {
   "cell_type": "markdown",
   "metadata": {},
   "source": [
    "> With a given integral number n, write a program to generate a dictionary that contains (i, i*i) such that is an integral number between 1 and n (both included). and then the program should print the dictionary.\n",
    "Suppose the following input is supplied to the program:\n",
    "8\n",
    "Then, the output should be:\n",
    "{1: 1, 2: 4, 3: 9, 4: 16, 5: 25, 6: 36, 7: 49, 8: 64}\n",
    "\n",
    "*Hint* : use dict()"
   ]
  },
  {
   "cell_type": "code",
   "execution_count": 6,
   "metadata": {},
   "outputs": [
    {
     "name": "stdout",
     "output_type": "stream",
     "text": [
      "Enter a number : 8\n",
      "{1: 1, 2: 4, 3: 9, 4: 16, 5: 25, 6: 36, 7: 49, 8: 64}\n"
     ]
    }
   ],
   "source": [
    "#CODE HERE\n",
    "num = int(input(\"Enter a number : \"))\n",
    "dict1 = {}\n",
    "for i in range(1,num+1):\n",
    "    dict2 = {i:i**2}\n",
    "    dict1.update(dict2)\n",
    "print(dict1)"
   ]
  },
  {
   "cell_type": "markdown",
   "metadata": {},
   "source": [
    "> create user defined fuction for \n",
    "- addition \"add\"\n",
    "- subtraction \"sub\"\n",
    "- multiplication \"mul\"\n",
    "- division \"div\"\n",
    "- power \"pow\""
   ]
  },
  {
   "cell_type": "code",
   "execution_count": 7,
   "metadata": {},
   "outputs": [
    {
     "name": "stdout",
     "output_type": "stream",
     "text": [
      "Enter first  number : 8\n",
      "Enter second number : 6\n",
      "Enter a keyword {add, sub, mul, div, pow} : pow\n",
      "Power of 8 by 6 is :  262144\n"
     ]
    }
   ],
   "source": [
    "#CODE HERE\n",
    "num1 = int(input(\"Enter first  number : \"))\n",
    "num2 = int(input(\"Enter second number : \"))\n",
    "keyword = str(input(\"Enter a keyword {add, sub, mul, div, pow} : \"))\n",
    "if keyword == 'add':\n",
    "    print(\"Addition of {} and {} is : \".format(num1,num2), num1+num2)\n",
    "elif keyword == 'sub':\n",
    "    print(\"Subtraction of {} by {} is : \".format(num1,num2), num1-num2)\n",
    "elif keyword == 'mul':\n",
    "    print(\"Multiplication of {} by {} is : \".format(num1,num2), num1*num2)\n",
    "elif keyword == 'div':\n",
    "    print(\"Division of {} by {} is : \".format(num1,num2), num1/num2)\n",
    "elif keyword == 'pow':\n",
    "    print(\"Power of {} by {} is : \".format(num1,num2), num1**num2)"
   ]
  },
  {
   "cell_type": "markdown",
   "metadata": {},
   "source": [
    "### Write a Python program that accepts a string and calculate the number of digits and letters.\n",
    "- Input\n",
    "\n",
    "    - Hello321Bye360\n",
    "- Output\n",
    "\n",
    "    - Digit - 6\n",
    "\n",
    "    - Letter - 8"
   ]
  },
  {
   "cell_type": "code",
   "execution_count": 8,
   "metadata": {},
   "outputs": [
    {
     "name": "stdout",
     "output_type": "stream",
     "text": [
      "Enter the text : innomatics1231239746\n",
      "Digit :  10\n",
      "Letter :  10\n"
     ]
    }
   ],
   "source": [
    "# CODE HERE\n",
    "word = str(input(\"Enter the text : \"))\n",
    "count = 0\n",
    "count1 = 0\n",
    "for i in word:\n",
    "    if i.isalpha():\n",
    "        count += 1\n",
    "    elif i.isdigit():\n",
    "        count1 += 1\n",
    "print('Digit : ',count1)\n",
    "print('Letter : ',count)"
   ]
  },
  {
   "cell_type": "markdown",
   "metadata": {},
   "source": [
    "### With a given tuple (1,2,3,4,5,6,7,8,9,10), write a program to print the first half values in one line and the last half values in one line."
   ]
  },
  {
   "cell_type": "code",
   "execution_count": 9,
   "metadata": {},
   "outputs": [
    {
     "name": "stdout",
     "output_type": "stream",
     "text": [
      "1 2 3 4 5 \n",
      "6 7 8 9 10 "
     ]
    }
   ],
   "source": [
    "# METHOD - 1\n",
    "t = (1,2,3,4,5,6,7,8,9,10)\n",
    "for i in t:\n",
    "    if i<=5:\n",
    "        print(i,end = ' ')\n",
    "print()\n",
    "for i in t:\n",
    "    if i>5:\n",
    "        print(i,end=' ')\n"
   ]
  },
  {
   "cell_type": "code",
   "execution_count": 10,
   "metadata": {},
   "outputs": [
    {
     "name": "stdout",
     "output_type": "stream",
     "text": [
      "(1, 2, 3, 4, 5) (6, 7, 8, 9, 10)\n"
     ]
    }
   ],
   "source": [
    "# METHOD - 2\n",
    "t = (1,2,3,4,5,6,7,8,9,10)\n",
    "t1 = t[0:5]\n",
    "t2 = t[5:]\n",
    "print(t1,end=' ')\n",
    "print(t2)"
   ]
  },
  {
   "cell_type": "code",
   "execution_count": 11,
   "metadata": {},
   "outputs": [
    {
     "name": "stdout",
     "output_type": "stream",
     "text": [
      "[1, 2, 3, 4, 5]\n",
      "[6, 7, 8, 9, 10]\n"
     ]
    }
   ],
   "source": [
    "# METHOD - 3\n",
    "t = (1,2,3,4,5,6,7,8,9,10)\n",
    "t1 = t[0:5]\n",
    "t2 = t[5:]\n",
    "print(list(t1))\n",
    "print(list(t2))"
   ]
  },
  {
   "cell_type": "markdown",
   "metadata": {},
   "source": [
    "### Write a program to generate and print another tuple whose values are even numbers in the given tuple (1,2,3,4,5,6,7,8,9,10)"
   ]
  },
  {
   "cell_type": "code",
   "execution_count": 12,
   "metadata": {},
   "outputs": [
    {
     "name": "stdout",
     "output_type": "stream",
     "text": [
      "(2, 4, 6, 8, 10)\n"
     ]
    }
   ],
   "source": [
    "t = (1,2,3,4,5,6,7,8,9,10)\n",
    "l = []\n",
    "for i in t:\n",
    "    if i%2 == 0:\n",
    "        l += [i]\n",
    "    else: \n",
    "        pass\n",
    "print(tuple(l))"
   ]
  },
  {
   "cell_type": "markdown",
   "metadata": {},
   "source": [
    "### Write a program which accepts a string as input to print \"YES\" if the string is \"yes\" or \"YES\" or \"Yes\", otherwise print \"No\""
   ]
  },
  {
   "cell_type": "code",
   "execution_count": 19,
   "metadata": {},
   "outputs": [
    {
     "name": "stdout",
     "output_type": "stream",
     "text": [
      "Please type something. --> yes\n",
      "YES\n"
     ]
    }
   ],
   "source": [
    "text = input(\"Please type something. --> \")\n",
    "if text == 'yes' or text == 'YES' or text == 'Yes':\n",
    "    print(\"YES\")\n",
    "else:\n",
    "    print(\"No\")"
   ]
  },
  {
   "cell_type": "markdown",
   "metadata": {},
   "source": [
    "### Please write a program to generate a list with 5 random numbers between 100 and 200 inclusive."
   ]
  },
  {
   "cell_type": "code",
   "execution_count": 20,
   "metadata": {},
   "outputs": [
    {
     "name": "stdout",
     "output_type": "stream",
     "text": [
      "[108, 101, 108, 144, 164]\n"
     ]
    }
   ],
   "source": [
    "import random\n",
    "l = []\n",
    "for i in range(100,201):\n",
    "    n = random.randint(100,201)\n",
    "    l = l+[n]\n",
    "    if len(l)==5:\n",
    "        break\n",
    "    else:\n",
    "        continue\n",
    "print(l)\n",
    "        \n"
   ]
  },
  {
   "cell_type": "markdown",
   "metadata": {},
   "source": [
    "### Please generate a random float where the value is between 5 and 95 using Python module."
   ]
  },
  {
   "cell_type": "code",
   "execution_count": 21,
   "metadata": {},
   "outputs": [
    {
     "name": "stdout",
     "output_type": "stream",
     "text": [
      "20.70364380399009\n"
     ]
    }
   ],
   "source": [
    "import random\n",
    "f = random.uniform(5,96)\n",
    "print(f)"
   ]
  },
  {
   "cell_type": "markdown",
   "metadata": {},
   "source": [
    "### [1,1,1,1,3,3,4,4,4,5,6,7,8,8,8]\n",
    "#### 1. from the above list print the uniques values\n",
    "#### 2. count how many times each number exist\n",
    "#### 3. Print the number which is occured more number of times"
   ]
  },
  {
   "cell_type": "code",
   "execution_count": 22,
   "metadata": {},
   "outputs": [
    {
     "name": "stdout",
     "output_type": "stream",
     "text": [
      "The unique elements in list are :  [1, 3, 4, 5, 6, 7, 8]\n"
     ]
    }
   ],
   "source": [
    "l = [1,1,1,1,3,3,4,4,4,5,6,7,8,8,8]\n",
    "s = set(l)\n",
    "l1 = list(s)\n",
    "print(\"The unique elements in list are : \", l1)"
   ]
  },
  {
   "cell_type": "code",
   "execution_count": 23,
   "metadata": {},
   "outputs": [
    {
     "name": "stdout",
     "output_type": "stream",
     "text": [
      "The number of times 1 exist :  4\n",
      "The number of times 3 exist :  2\n",
      "The number of times 4 exist :  3\n",
      "The number of times 5 exist :  1\n",
      "The number of times 6 exist :  1\n",
      "The number of times 7 exist :  1\n",
      "The number of times 8 exist :  3\n"
     ]
    }
   ],
   "source": [
    "for i in s:\n",
    "    print(\"The number of times {} exist : \".format(i),l.count(i))"
   ]
  },
  {
   "cell_type": "code",
   "execution_count": 24,
   "metadata": {},
   "outputs": [
    {
     "name": "stdout",
     "output_type": "stream",
     "text": [
      "The number repeated highest number of times :  1\n"
     ]
    }
   ],
   "source": [
    "for i in s:\n",
    "    if l.count(i)>=4:\n",
    "        print(\"The number repeated highest number of times : \",i)\n",
    "    else:\n",
    "        pass"
   ]
  },
  {
   "cell_type": "markdown",
   "metadata": {},
   "source": [
    "# [Innomatics Research Labs](https:/innomatics.in/)\n",
    "[www.innomatics.in](https:/innomatics.in/)"
   ]
  },
  {
   "cell_type": "code",
   "execution_count": null,
   "metadata": {},
   "outputs": [],
   "source": []
  },
  {
   "cell_type": "code",
   "execution_count": null,
   "metadata": {},
   "outputs": [],
   "source": []
  }
 ],
 "metadata": {
  "kernelspec": {
   "display_name": "Python 3",
   "language": "python",
   "name": "python3"
  },
  "language_info": {
   "codemirror_mode": {
    "name": "ipython",
    "version": 3
   },
   "file_extension": ".py",
   "mimetype": "text/x-python",
   "name": "python",
   "nbconvert_exporter": "python",
   "pygments_lexer": "ipython3",
   "version": "3.8.8"
  }
 },
 "nbformat": 4,
 "nbformat_minor": 2
}
