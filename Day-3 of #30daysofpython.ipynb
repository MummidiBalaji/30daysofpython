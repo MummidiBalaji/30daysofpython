{
 "cells": [
  {
   "cell_type": "markdown",
   "id": "a41fe8d9",
   "metadata": {},
   "source": [
    "## Day-3 of   #30daysofPython\n"
   ]
  },
  {
   "cell_type": "markdown",
   "id": "6ae886a7",
   "metadata": {},
   "source": [
    "## Topic - Operators\n"
   ]
  },
  {
   "cell_type": "markdown",
   "id": "3568c284",
   "metadata": {},
   "source": [
    "#### Continuation of Operators"
   ]
  },
  {
   "cell_type": "markdown",
   "id": "41c69d95",
   "metadata": {},
   "source": [
    "* Assignment\n",
    "* Terenary\n",
    "* Special Operators\n",
    "     * Identity operator\n",
    "     * Membership Operator\n",
    "* Operator Precedence\n",
    "* Mathematical functions by using math module"
   ]
  },
  {
   "cell_type": "markdown",
   "id": "83c554a1",
   "metadata": {},
   "source": [
    "## Assignment Operator"
   ]
  },
  {
   "cell_type": "markdown",
   "id": "3f381617",
   "metadata": {},
   "source": [
    "### Assigning values to a variables\n",
    "\n",
    "### 1.  +=\n",
    "### 2.  -=\n",
    "### 3.  /=\n",
    "### 4. *=\n",
    "### 5.  //=\n",
    "### 6.  **=\n",
    "### 7.  &=\n",
    "### 8.  |=\n",
    "### 9.  ^=\n",
    "### 10. >>=\n",
    "### 11. <<="
   ]
  },
  {
   "cell_type": "markdown",
   "id": "7843ef63",
   "metadata": {},
   "source": [
    "### Examples"
   ]
  },
  {
   "cell_type": "code",
   "execution_count": 1,
   "id": "a74996a3",
   "metadata": {},
   "outputs": [
    {
     "name": "stdout",
     "output_type": "stream",
     "text": [
      "40\n"
     ]
    }
   ],
   "source": [
    "a = 10\n",
    "a += 30 # Prints a = a+30 (a = 10+30 = 40)\n",
    "print(a)"
   ]
  },
  {
   "cell_type": "code",
   "execution_count": 2,
   "id": "eeb0c02a",
   "metadata": {},
   "outputs": [
    {
     "name": "stdout",
     "output_type": "stream",
     "text": [
      "20\n"
     ]
    }
   ],
   "source": [
    "a = 40\n",
    "a -= 20 # a = a-20 (40-20 = 20)\n",
    "print(a)"
   ]
  },
  {
   "cell_type": "code",
   "execution_count": 3,
   "id": "03d19031",
   "metadata": {},
   "outputs": [
    {
     "name": "stdout",
     "output_type": "stream",
     "text": [
      "2.0\n"
     ]
    }
   ],
   "source": [
    "a = 6\n",
    "a /= 3\n",
    "print(a)"
   ]
  },
  {
   "cell_type": "code",
   "execution_count": 4,
   "id": "0b63fd20",
   "metadata": {},
   "outputs": [
    {
     "name": "stdout",
     "output_type": "stream",
     "text": [
      "2\n"
     ]
    }
   ],
   "source": [
    "a = 6\n",
    "a //= 3\n",
    "print(a)"
   ]
  },
  {
   "cell_type": "code",
   "execution_count": 5,
   "id": "c86fb44a",
   "metadata": {},
   "outputs": [
    {
     "name": "stdout",
     "output_type": "stream",
     "text": [
      "60\n"
     ]
    }
   ],
   "source": [
    "a = 6\n",
    "a *= 10\n",
    "print(a)"
   ]
  },
  {
   "cell_type": "code",
   "execution_count": 6,
   "id": "2b5398a3",
   "metadata": {},
   "outputs": [
    {
     "name": "stdout",
     "output_type": "stream",
     "text": [
      "81\n"
     ]
    }
   ],
   "source": [
    "a = 9\n",
    "a **= 2\n",
    "print(a)"
   ]
  },
  {
   "cell_type": "code",
   "execution_count": 7,
   "id": "4177ecbf",
   "metadata": {},
   "outputs": [
    {
     "name": "stdout",
     "output_type": "stream",
     "text": [
      "2\n"
     ]
    }
   ],
   "source": [
    "a = 3\n",
    "a &= 2\n",
    "print(a)"
   ]
  },
  {
   "cell_type": "code",
   "execution_count": 8,
   "id": "49e0a3f0",
   "metadata": {},
   "outputs": [
    {
     "name": "stdout",
     "output_type": "stream",
     "text": [
      "7\n"
     ]
    }
   ],
   "source": [
    "a = 4\n",
    "a |= 3\n",
    "print(a)"
   ]
  },
  {
   "cell_type": "code",
   "execution_count": 9,
   "id": "a3d9f086",
   "metadata": {},
   "outputs": [
    {
     "name": "stdout",
     "output_type": "stream",
     "text": [
      "2\n"
     ]
    }
   ],
   "source": [
    "a = 0\n",
    "a ^= 2\n",
    "print(a)\n"
   ]
  },
  {
   "cell_type": "code",
   "execution_count": 10,
   "id": "2e5e6b3c",
   "metadata": {},
   "outputs": [
    {
     "name": "stdout",
     "output_type": "stream",
     "text": [
      "2\n"
     ]
    }
   ],
   "source": [
    "a = 10\n",
    "a >>= 2\n",
    "print(a)"
   ]
  },
  {
   "cell_type": "code",
   "execution_count": 11,
   "id": "97930c02",
   "metadata": {},
   "outputs": [
    {
     "data": {
      "text/plain": [
       "2"
      ]
     },
     "execution_count": 11,
     "metadata": {},
     "output_type": "execute_result"
    }
   ],
   "source": [
    "10>>2"
   ]
  },
  {
   "cell_type": "code",
   "execution_count": 12,
   "id": "b670aecc",
   "metadata": {},
   "outputs": [
    {
     "name": "stdout",
     "output_type": "stream",
     "text": [
      "10\n",
      "-10\n",
      "10\n",
      "10\n"
     ]
    }
   ],
   "source": [
    "x = 10\n",
    "print(+x)\n",
    "print(-x)\n",
    "print(++++x)\n",
    "print(----x)"
   ]
  },
  {
   "cell_type": "markdown",
   "id": "da374965",
   "metadata": {},
   "source": [
    "## Terenary Operator"
   ]
  },
  {
   "cell_type": "markdown",
   "id": "717dbf59",
   "metadata": {},
   "source": [
    "### Writing multiple statements in a single line"
   ]
  },
  {
   "cell_type": "markdown",
   "id": "6d1eb2dd",
   "metadata": {},
   "source": [
    "### Examples"
   ]
  },
  {
   "cell_type": "code",
   "execution_count": 13,
   "id": "554975ba",
   "metadata": {},
   "outputs": [
    {
     "name": "stdout",
     "output_type": "stream",
     "text": [
      "20\n"
     ]
    }
   ],
   "source": [
    "a = 10\n",
    "b = 20\n",
    "c = a if a>b else b       # Here we are writing if, else in a single line\n",
    "print(c)"
   ]
  },
  {
   "cell_type": "code",
   "execution_count": 14,
   "id": "f9d99cc2",
   "metadata": {},
   "outputs": [
    {
     "name": "stdout",
     "output_type": "stream",
     "text": [
      "Enter 1st number : 65\n",
      "Enter 2nd number : 44\n",
      "Enter 3rd number : 58\n",
      "The highest of three numbers is :  65\n"
     ]
    }
   ],
   "source": [
    "a = int(input(\"Enter 1st number : \"))\n",
    "b = int(input(\"Enter 2nd number : \"))\n",
    "c = int(input(\"Enter 3rd number : \"))\n",
    "d = a if (a>b and a>c) else b if b>a and b>c else c\n",
    "print(\"The highest of three numbers is : \",d)"
   ]
  },
  {
   "cell_type": "code",
   "execution_count": 15,
   "id": "73698173",
   "metadata": {},
   "outputs": [
    {
     "name": "stdout",
     "output_type": "stream",
     "text": [
      "Enter 1st number : 44\n",
      "Enter 2nd number : 44\n",
      "Equal\n"
     ]
    }
   ],
   "source": [
    "a = int(input(\"Enter 1st number : \"))\n",
    "b = int(input(\"Enter 2nd number : \"))\n",
    "result = 'Equal' if a==b else 'smaller' if a<b else 'Bigger'\n",
    "print(result)"
   ]
  },
  {
   "cell_type": "markdown",
   "id": "e4a6d4af",
   "metadata": {},
   "source": [
    "## Special Operators"
   ]
  },
  {
   "cell_type": "markdown",
   "id": "9de16344",
   "metadata": {},
   "source": [
    "### Identity Operator\n",
    "\n",
    "* is\n",
    "* is not\n",
    "\n",
    "### Membership Operator\n",
    "\n",
    "* in\n",
    "* not in"
   ]
  },
  {
   "cell_type": "markdown",
   "id": "5a3326c4",
   "metadata": {},
   "source": [
    "### Examples of Identity operator"
   ]
  },
  {
   "cell_type": "code",
   "execution_count": 16,
   "id": "bf27c3dc",
   "metadata": {},
   "outputs": [
    {
     "name": "stdout",
     "output_type": "stream",
     "text": [
      "False\n",
      "True\n"
     ]
    }
   ],
   "source": [
    "a = 10\n",
    "b = 20\n",
    "print(a is b)\n",
    "print(a is not b)"
   ]
  },
  {
   "cell_type": "code",
   "execution_count": 17,
   "id": "285e8ab3",
   "metadata": {},
   "outputs": [
    {
     "name": "stdout",
     "output_type": "stream",
     "text": [
      "True\n",
      "False\n"
     ]
    }
   ],
   "source": [
    "a = 0\n",
    "b = 0\n",
    "print(a is b)\n",
    "print(a is not b)"
   ]
  },
  {
   "cell_type": "code",
   "execution_count": 18,
   "id": "e82bd072",
   "metadata": {},
   "outputs": [
    {
     "name": "stdout",
     "output_type": "stream",
     "text": [
      "False\n",
      "True\n",
      "False\n",
      "False\n"
     ]
    }
   ],
   "source": [
    "a = 'Balaji'\n",
    "b = 'balaji'\n",
    "c = 'Balaji'\n",
    "d = 'BALAJI'\n",
    "e = 'bALAJI'\n",
    "print(a is b)\n",
    "print(a is c)\n",
    "print(a is d)\n",
    "print(a is e)"
   ]
  },
  {
   "cell_type": "code",
   "execution_count": 19,
   "id": "f0955488",
   "metadata": {},
   "outputs": [
    {
     "name": "stdout",
     "output_type": "stream",
     "text": [
      "False\n",
      "True\n"
     ]
    }
   ],
   "source": [
    "l1 = [10,20,30,40]\n",
    "l2 = [10,20,30,40]\n",
    "print(l1 is l2)   # 'is' operator meant for reference comparision not content comparision\n",
    "print(l1 == l2)   # '==' compares content, 'is' compares reference"
   ]
  },
  {
   "cell_type": "markdown",
   "id": "21e5c5a8",
   "metadata": {},
   "source": [
    "### Examples of Membership operator"
   ]
  },
  {
   "cell_type": "code",
   "execution_count": 20,
   "id": "8fc1c555",
   "metadata": {},
   "outputs": [
    {
     "name": "stdout",
     "output_type": "stream",
     "text": [
      "True\n",
      "True\n",
      "True\n",
      "False\n",
      "False\n"
     ]
    }
   ],
   "source": [
    "a = 'Hi Balaji'\n",
    "print('B' in a)\n",
    "print('Balaji' in a)\n",
    "print(' ' in a)\n",
    "print('hi' in a)\n",
    "print('Hi' not in a)"
   ]
  },
  {
   "cell_type": "code",
   "execution_count": 21,
   "id": "b4dadc64",
   "metadata": {},
   "outputs": [
    {
     "name": "stdout",
     "output_type": "stream",
     "text": [
      "True\n",
      "False\n",
      "False\n"
     ]
    }
   ],
   "source": [
    "list1 = [10,20,30,40,50]\n",
    "print(50 in list1)\n",
    "print(30 not in list1)\n",
    "print(60 in list1)"
   ]
  },
  {
   "cell_type": "markdown",
   "id": "7d1f9383",
   "metadata": {},
   "source": [
    "## Operator Precedence"
   ]
  },
  {
   "cell_type": "markdown",
   "id": "14b0cd10",
   "metadata": {},
   "source": [
    "### Operator precedence says which need to be operate first"
   ]
  },
  {
   "cell_type": "markdown",
   "id": "89451036",
   "metadata": {},
   "source": [
    "##### ( )-------->Paranthesis\n",
    "##### **--------->Exponential operator\n",
    "##### ~ --------->Bitwise Complementary\n",
    "##### '*','/','%','//'--->Multiplication, Division, Modulo, Floor Division\n",
    "#####  '+','-' -----------> Addition, Subtraction\n",
    "##### <<, >> ----------> Left shift and Right Shift\n",
    "#####  '&'--------------->Bitwise and\n",
    "#####  '^' --------------->Bitwise X-or\n",
    "#####  '|' ---------------->Bitwise or\n",
    "#####  >,>=,<,<=, ==, !=------> Relational and Equality operators\n",
    "#####  =,+=,-=,*= ---------------> Assignment operator\n",
    "#####  is, not is ----------------> Identity operators\n",
    "#####  in, not in ----------------> Membership operator\n",
    "#####  not , and, or------------------------> logical operators"
   ]
  },
  {
   "cell_type": "markdown",
   "id": "ff07148a",
   "metadata": {},
   "source": [
    "### Examples"
   ]
  },
  {
   "cell_type": "code",
   "execution_count": 22,
   "id": "1ce7ccb2",
   "metadata": {},
   "outputs": [
    {
     "name": "stdout",
     "output_type": "stream",
     "text": [
      "100.0\n"
     ]
    }
   ],
   "source": [
    "a = 30\n",
    "b = 20\n",
    "c = 40\n",
    "print((a+b)*c/b) # First (a+b) operators, next c/b operators finally *"
   ]
  },
  {
   "cell_type": "code",
   "execution_count": 23,
   "id": "334821b3",
   "metadata": {},
   "outputs": [
    {
     "name": "stdout",
     "output_type": "stream",
     "text": [
      "100.0\n"
     ]
    }
   ],
   "source": [
    "a = 30\n",
    "b = 20\n",
    "c = 40\n",
    "print((a+b)*(c/b))"
   ]
  },
  {
   "cell_type": "code",
   "execution_count": 24,
   "id": "baf0f25f",
   "metadata": {},
   "outputs": [
    {
     "name": "stdout",
     "output_type": "stream",
     "text": [
      "70.0\n"
     ]
    }
   ],
   "source": [
    "a = 30\n",
    "b = 20\n",
    "c = 40\n",
    "print(a+(b*c)/b)"
   ]
  },
  {
   "cell_type": "markdown",
   "id": "12421782",
   "metadata": {},
   "source": [
    "## Mathematical functions from 'math' module"
   ]
  },
  {
   "cell_type": "code",
   "execution_count": 25,
   "id": "522da825",
   "metadata": {},
   "outputs": [
    {
     "name": "stdout",
     "output_type": "stream",
     "text": [
      "4.0\n",
      "3.141592653589793\n",
      "3\n",
      "4\n"
     ]
    }
   ],
   "source": [
    "import math\n",
    "\n",
    "print(math.sqrt(16))   #returns square root of 16\n",
    "print(math.pi)         #returns value of pi\n",
    "print(math.floor(3.6))\n",
    "print(math.ceil(3.2))\n"
   ]
  },
  {
   "cell_type": "code",
   "execution_count": 26,
   "id": "cbcd347b",
   "metadata": {},
   "outputs": [
    {
     "name": "stdout",
     "output_type": "stream",
     "text": [
      "4.0\n",
      "3.141592653589793\n",
      "3\n",
      "4\n"
     ]
    }
   ],
   "source": [
    "import math as m      # math is shortly defined as 'm'\n",
    "print(m.sqrt(16))   \n",
    "print(m.pi)         \n",
    "print(m.floor(3.6))\n",
    "print(m.ceil(3.2))\n",
    "\n"
   ]
  },
  {
   "cell_type": "code",
   "execution_count": 27,
   "id": "d8b38f7d",
   "metadata": {},
   "outputs": [
    {
     "name": "stdout",
     "output_type": "stream",
     "text": [
      "4.0\n",
      "3.141592653589793\n",
      "3\n",
      "4\n"
     ]
    }
   ],
   "source": [
    "from math import * #imports all elements in math module\n",
    "print(sqrt(16))\n",
    "print(pi)         \n",
    "print(floor(3.6))\n",
    "print(ceil(3.2))\n"
   ]
  },
  {
   "cell_type": "markdown",
   "id": "df0dd78a",
   "metadata": {},
   "source": [
    "### For other operators, visit Day-2 of #30daysofpython"
   ]
  }
 ],
 "metadata": {
  "kernelspec": {
   "display_name": "Python 3",
   "language": "python",
   "name": "python3"
  },
  "language_info": {
   "codemirror_mode": {
    "name": "ipython",
    "version": 3
   },
   "file_extension": ".py",
   "mimetype": "text/x-python",
   "name": "python",
   "nbconvert_exporter": "python",
   "pygments_lexer": "ipython3",
   "version": "3.8.8"
  }
 },
 "nbformat": 4,
 "nbformat_minor": 5
}
