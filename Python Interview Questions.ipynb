{
 "cells": [
  {
   "cell_type": "markdown",
   "id": "b7e5f392",
   "metadata": {},
   "source": [
    "# PYTHON INTERVIEW QUESTION"
   ]
  },
  {
   "cell_type": "markdown",
   "id": "3b35c424",
   "metadata": {},
   "source": [
    "## AUTHOR - Balaji [LinkedIN](https://www.linkedin.com/in/balaji-mummidi/), [GitHub](https://github.com/MummidiBalaji)"
   ]
  },
  {
   "cell_type": "markdown",
   "id": "b6f9c945",
   "metadata": {},
   "source": [
    "### 1) What is Python? What are the benefits of using Python?"
   ]
  },
  {
   "cell_type": "markdown",
   "id": "e19f4c6d",
   "metadata": {},
   "source": [
    "* Python is a programming language with objects, modules, threads, exceptions, and automatic memory management. \n",
    "* The benefits of pythons are that it is simple and easy, portable, extensible, build-in data structure, and it is open-source."
   ]
  },
  {
   "cell_type": "markdown",
   "id": "b4f0113c",
   "metadata": {},
   "source": [
    "### 2) What are the key features of Python?"
   ]
  },
  {
   "cell_type": "markdown",
   "id": "1806aec6",
   "metadata": {},
   "source": [
    "* Python is dynamically typed, this means that you don’t need to state the types of variables when you declare them.\n",
    "* Python is an interpreted language. That means that, unlike languages like C & other languages, Python does not need to be compiled before it is run."
   ]
  },
  {
   "cell_type": "markdown",
   "id": "ecf52820",
   "metadata": {},
   "source": [
    "### 3) What type of language is python? Programming or scripting?"
   ]
  },
  {
   "cell_type": "markdown",
   "id": "6eddf713",
   "metadata": {},
   "source": [
    "* Python is capable of scripting, but in general sense, it is considered as a general-purpose programming language."
   ]
  },
  {
   "cell_type": "markdown",
   "id": "59f2e60d",
   "metadata": {},
   "source": [
    "### 4) What is pep 8?"
   ]
  },
  {
   "cell_type": "markdown",
   "id": "e0a0b383",
   "metadata": {},
   "source": [
    "* PEP stands for Python Enhancement Proposal. It is a set of rules that specify how to format Python code for maximum readability."
   ]
  },
  {
   "cell_type": "markdown",
   "id": "7b478259",
   "metadata": {},
   "source": [
    "### 5) How is memory managed in Python?"
   ]
  },
  {
   "cell_type": "markdown",
   "id": "e0a1935b",
   "metadata": {},
   "source": [
    "* Python uses the dynamic memory allocation which is managed by the Heap data structure. \n",
    "* Memory Heap holds the objects and other data structures that will be used in the program. \n",
    "* Python memory manager manages the allocation or de-allocation of the heap memory space through the API functions."
   ]
  },
  {
   "cell_type": "markdown",
   "id": "a93b8d8f",
   "metadata": {},
   "source": [
    "### 6) What is namespace in Python?"
   ]
  },
  {
   "cell_type": "markdown",
   "id": "a22a6ec7",
   "metadata": {},
   "source": [
    "* A namespace is a naming system used to make sure that names are unique to avoid naming conflicts."
   ]
  },
  {
   "cell_type": "markdown",
   "id": "f44d8fbc",
   "metadata": {},
   "source": [
    "### 7) What are local variables and global variables in Python?"
   ]
  },
  {
   "cell_type": "markdown",
   "id": "490bd548",
   "metadata": {},
   "source": [
    "#### Global Variable\n",
    "* Variables declared outside a function or in global space are called global variables. These variables can be accessed by any function in the program.\n",
    "\n",
    "#### Local Variable\n",
    "\n",
    "* Any variable declared inside a function is known as a local variable. These variables can only be accessed within the function in which they are declared"
   ]
  },
  {
   "cell_type": "markdown",
   "id": "c8db694d",
   "metadata": {},
   "source": [
    "### 8) Is python case sensitive?"
   ]
  },
  {
   "cell_type": "markdown",
   "id": "f612f610",
   "metadata": {},
   "source": [
    "* Yes. Python is a case sensitive language."
   ]
  },
  {
   "cell_type": "markdown",
   "id": "589b53e2",
   "metadata": {},
   "source": [
    "### 9) What is type conversion in Python?"
   ]
  },
  {
   "cell_type": "markdown",
   "id": "703b7e65",
   "metadata": {},
   "source": [
    "* Type conversion refers to the conversion of one data type into another data type.\n",
    "* Examples: int(), hex(), oct(), tuple(), set(), list(), str()"
   ]
  },
  {
   "cell_type": "markdown",
   "id": "8b7e7969",
   "metadata": {},
   "source": [
    "### 10)  Is indentation required in python?"
   ]
  },
  {
   "cell_type": "markdown",
   "id": "c362355b",
   "metadata": {},
   "source": [
    "* Indentation is necessary for Python. It specifies a block of code. All code within loops, classes, functions, etc is specified within an indented block.\n",
    "* If your code is not indented necessarily, it will not execute accurately and will throw errors as well."
   ]
  },
  {
   "cell_type": "markdown",
   "id": "4280687e",
   "metadata": {},
   "source": [
    "### 11) What is the difference between Python Arrays and lists?"
   ]
  },
  {
   "cell_type": "markdown",
   "id": "70a6b29f",
   "metadata": {},
   "source": [
    "* Arrays and lists, in Python, have the same way of storing data. \n",
    "* Arrays can hold only a single data type elements whereas lists can hold any data type elements."
   ]
  },
  {
   "cell_type": "markdown",
   "id": "45095a18",
   "metadata": {},
   "source": [
    "### 12) What are functions in Python?"
   ]
  },
  {
   "cell_type": "markdown",
   "id": "81002122",
   "metadata": {},
   "source": [
    "* A function is a block of code which is executed only when it is called. \n",
    "* To define a Python function, the def keyword is used"
   ]
  },
  {
   "cell_type": "markdown",
   "id": "c3959aa6",
   "metadata": {},
   "source": [
    "### 13) What is __init__?"
   ]
  },
  {
   "cell_type": "markdown",
   "id": "85dbac2e",
   "metadata": {},
   "source": [
    "* __init__ is a method or constructor in Python. \n",
    "* This method is automatically called to allocate memory when a new object/ instance of a class is created. \n",
    "* All classes have the __init__ method."
   ]
  },
  {
   "cell_type": "markdown",
   "id": "e8319647",
   "metadata": {},
   "source": [
    "### 14) How does break, continue and pass work?"
   ]
  },
  {
   "cell_type": "markdown",
   "id": "0369a56d",
   "metadata": {},
   "source": [
    "* __Break__ - \n",
    "    * Allows loop termination when some condition is met and the control is transferred to the next statement.\n",
    "* __Continue__ - \n",
    "    * Allows skipping some part of a loop when some specific condition is met and the control is transferred to the beginning of the loop\n",
    "* __Pass__ - \n",
    "    * The pass statement is generally used as a placeholder i.e. when the user does not know what code to write. \n",
    "    * So user can simply place pass where empty code is not allowed, like in loops, function definitions, class definitions, or in if statements. \n",
    "    * So using pass statement user avoids this error."
   ]
  },
  {
   "cell_type": "markdown",
   "id": "e64957d7",
   "metadata": {},
   "source": [
    "### 15) What are iterators & generators in python?"
   ]
  },
  {
   "cell_type": "markdown",
   "id": "dd664cd4",
   "metadata": {},
   "source": [
    "* Iterators are used mostly to iterate or convert other objects to an iterator using iter() function. \n",
    "* Generators are mostly used in loops to generate an iterator by returning all the values in the loop without affecting the iteration of the loop. Generators uses yield keyword."
   ]
  },
  {
   "cell_type": "markdown",
   "id": "b834359b",
   "metadata": {},
   "source": [
    "### 16) What are python modules? Name some commonly used built-in modules in Python?"
   ]
  },
  {
   "cell_type": "markdown",
   "id": "668fb73f",
   "metadata": {},
   "source": [
    "* Python modules are files containing Python code. This code can either be functions classes or variables.\n",
    "    * Some of the commonly used built-in modules are:\n",
    "        * os, sys, math, random, date time, JSON"
   ]
  },
  {
   "cell_type": "markdown",
   "id": "385de770",
   "metadata": {},
   "source": [
    "### 17) How do you write comments in python?"
   ]
  },
  {
   "cell_type": "markdown",
   "id": "75ffbf2e",
   "metadata": {},
   "source": [
    "* Comments in Python start with a # character."
   ]
  },
  {
   "cell_type": "markdown",
   "id": "5cbb8519",
   "metadata": {},
   "source": [
    "### 18) What is the difference between range & xrange?"
   ]
  },
  {
   "cell_type": "markdown",
   "id": "88391230",
   "metadata": {},
   "source": [
    "* range() function in python 3.x is just a re-implementation of the xrange() of python 2.x"
   ]
  },
  {
   "cell_type": "markdown",
   "id": "769fbc09",
   "metadata": {},
   "source": [
    "### 19)  What is pickling and unpickling?"
   ]
  },
  {
   "cell_type": "markdown",
   "id": "2306556f",
   "metadata": {},
   "source": [
    "* Pickle module accepts any Python object and converts it into a string representation and dumps it into a file by using dump function, this process is called pickling. \n",
    "* The process of retrieving original Python objects from the stored string representation is called unpickling."
   ]
  },
  {
   "cell_type": "markdown",
   "id": "ce7cc2eb",
   "metadata": {},
   "source": [
    "### 20) What are docstrings in Python?"
   ]
  },
  {
   "cell_type": "markdown",
   "id": "6477622d",
   "metadata": {},
   "source": [
    "* These docstrings are within triple quotes. They are not assigned to any variable and therefore, at times, serve the purpose of comments as well."
   ]
  },
  {
   "cell_type": "markdown",
   "id": "b5fc61dd",
   "metadata": {},
   "source": [
    "### 21) What is the purpose of is, not and in operators?"
   ]
  },
  {
   "cell_type": "markdown",
   "id": "26009221",
   "metadata": {},
   "source": [
    "* __is__: returns true when 2 operands are true\n",
    "\n",
    "* __not__: returns the inverse of the boolean value\n",
    "\n",
    "* __in__: checks if some element is present in some sequence"
   ]
  },
  {
   "cell_type": "markdown",
   "id": "35e0ca9f",
   "metadata": {},
   "source": [
    "### 22) What is terenaty Operator / Conditional expressions?"
   ]
  },
  {
   "cell_type": "markdown",
   "id": "9caf2dc2",
   "metadata": {},
   "source": [
    "* Ternary operators evaluate something based on a condition being true or false.\n",
    "* It simply allows testing a condition in a single line replacing the multiline if-else making the code compact."
   ]
  },
  {
   "cell_type": "markdown",
   "id": "3a3594d2",
   "metadata": {},
   "source": [
    "### 23) What is a Package?"
   ]
  },
  {
   "cell_type": "markdown",
   "id": "09aa32ff",
   "metadata": {},
   "source": [
    "* package is a collection of modules\n",
    "* Modules that are related to each other are mainly put in the same package"
   ]
  },
  {
   "cell_type": "markdown",
   "id": "0279e588",
   "metadata": {},
   "source": [
    "### 24) What are in-built data types in python?"
   ]
  },
  {
   "cell_type": "markdown",
   "id": "2b2b691d",
   "metadata": {},
   "source": [
    "* int, float, bool, str, complex\n",
    "* In-built data types are immutable i.e, they cannot be changed once declared."
   ]
  },
  {
   "cell_type": "markdown",
   "id": "af79cced",
   "metadata": {},
   "source": [
    "### 25) What are other data types in python?"
   ]
  },
  {
   "cell_type": "markdown",
   "id": "62573675",
   "metadata": {},
   "source": [
    "* tuple (Immutable)\n",
    "* set (Mutable), Unorder collection of elements\n",
    "* dict (Mutable)\n",
    "* list (Mutable)"
   ]
  },
  {
   "cell_type": "markdown",
   "id": "774d8b49",
   "metadata": {},
   "source": [
    "### 26) How do you access elements in python?"
   ]
  },
  {
   "cell_type": "markdown",
   "id": "86b6c39b",
   "metadata": {},
   "source": [
    "* By using indexing & slicing\n",
    "* __Indexing__ :  Indexing is used to obtain individual elements. \n",
    "* __Slicing__: Slicing is used to obtain a sequence of elements"
   ]
  },
  {
   "cell_type": "markdown",
   "id": "f14b7fa8",
   "metadata": {},
   "source": [
    "### 27) How to add values to a python array?"
   ]
  },
  {
   "cell_type": "markdown",
   "id": "7a3f24ad",
   "metadata": {},
   "source": [
    "* Elements can be added to an array using the append(), extend() and the insert () functions"
   ]
  },
  {
   "cell_type": "markdown",
   "id": "3d2083ea",
   "metadata": {},
   "source": [
    "### 28) Difference between append(), insert(), extend()?"
   ]
  },
  {
   "cell_type": "markdown",
   "id": "c0888aa3",
   "metadata": {},
   "source": [
    "* __append()__ - appends a single element to the list\n",
    "* __extend()__ - appends elements of an iterable to the list.\n",
    "* __insert()__ - inserts a single item at a given position of the list"
   ]
  },
  {
   "cell_type": "markdown",
   "id": "feff71d6",
   "metadata": {},
   "source": [
    "### 29)  How to remove values to a python array?"
   ]
  },
  {
   "cell_type": "markdown",
   "id": "d4462702",
   "metadata": {},
   "source": [
    "* Array elements can be removed using pop(), remove(), del() method."
   ]
  },
  {
   "cell_type": "markdown",
   "id": "f0d17416",
   "metadata": {},
   "source": [
    "### 30) Difference between del(), pop(), remove() ?"
   ]
  },
  {
   "cell_type": "markdown",
   "id": "8e219bea",
   "metadata": {},
   "source": [
    "* __del()__ - To remove an element by index\n",
    "* __pop()__ - To remove element by index and get the returned value\n",
    "* __remove()__ - To delete an element by value"
   ]
  },
  {
   "cell_type": "markdown",
   "id": "6801d10f",
   "metadata": {},
   "source": [
    "### 31) What does sequence mean and which three types of data fall into this category?"
   ]
  },
  {
   "cell_type": "markdown",
   "id": "301f59c8",
   "metadata": {},
   "source": [
    "* A sequence data type is a collection of objects ordered by a specific position.\n",
    "* In Python, Strings, lists, and tuples are the data types based on sequences"
   ]
  },
  {
   "cell_type": "markdown",
   "id": "bcb6ab66",
   "metadata": {},
   "source": [
    "### 32) What are lists and tuples? What is the key difference between them?"
   ]
  },
  {
   "cell_type": "markdown",
   "id": "49e67cde",
   "metadata": {},
   "source": [
    "* Lists and Tuples are both sequence data types that can store a collection of objects in Python.\n",
    "* Lists are represented with square brackets, they are mutable\n",
    "* Tuples are represented with closed brackets, they are immutable."
   ]
  },
  {
   "cell_type": "markdown",
   "id": "ecb542b4",
   "metadata": {},
   "source": [
    "### 33) What is dictionary in a python?"
   ]
  },
  {
   "cell_type": "markdown",
   "id": "0341b752",
   "metadata": {},
   "source": [
    "* It is an unordered collection of data values, used to store data values\n",
    "* unlike other Data Types that hold only a single value as an element, Dictionary holds key:value pair."
   ]
  },
  {
   "cell_type": "markdown",
   "id": "f3fe2298",
   "metadata": {},
   "source": [
    "### 34) Difference between list, sets, tuples?"
   ]
  },
  {
   "cell_type": "markdown",
   "id": "de454834",
   "metadata": {},
   "source": [
    "* Lists and tuples are standard Python data types that store values in a sequence. They may have duplicates\n",
    "* Sets also stores data but in unordered sequence. Duplicates are not allowed.\n"
   ]
  },
  {
   "cell_type": "markdown",
   "id": "ef9f4d59",
   "metadata": {},
   "source": [
    "### 35) What is List Comprehension?"
   ]
  },
  {
   "cell_type": "markdown",
   "id": "c9474da3",
   "metadata": {},
   "source": [
    "* It is a compact syntax for creating a list from a string or another list.\n",
    "* It is considerably faster than processing a list using the for loop."
   ]
  },
  {
   "cell_type": "markdown",
   "id": "b1d17285",
   "metadata": {},
   "source": [
    "### 36) What is split used for?"
   ]
  },
  {
   "cell_type": "markdown",
   "id": "f97239fb",
   "metadata": {},
   "source": [
    "* The split() method is used to separate a given string in Python."
   ]
  },
  {
   "cell_type": "markdown",
   "id": "de176247",
   "metadata": {},
   "source": [
    "### 37) What is clear() method do?"
   ]
  },
  {
   "cell_type": "markdown",
   "id": "5c3d0884",
   "metadata": {},
   "source": [
    "* clear() method clears all elements in list , tuple, set ..."
   ]
  },
  {
   "cell_type": "markdown",
   "id": "33464070",
   "metadata": {},
   "source": [
    "### 38) How do you find maximum & minimum values in a list or tuple?"
   ]
  },
  {
   "cell_type": "markdown",
   "id": "db29bb30",
   "metadata": {},
   "source": [
    "* By using max() and min() functions"
   ]
  },
  {
   "cell_type": "markdown",
   "id": "ed725821",
   "metadata": {},
   "source": [
    "### 39) How do you sort elements in a list or tuple?"
   ]
  },
  {
   "cell_type": "markdown",
   "id": "b4afa73e",
   "metadata": {},
   "source": [
    "* We can sort by using sort() or sorted() methods"
   ]
  },
  {
   "cell_type": "markdown",
   "id": "6ef09bfc",
   "metadata": {},
   "source": [
    "### 40) How do you find index of a specific element in list or tuple?"
   ]
  },
  {
   "cell_type": "markdown",
   "id": "cdbf123c",
   "metadata": {},
   "source": [
    "* By using index() method"
   ]
  },
  {
   "cell_type": "markdown",
   "id": "3779983a",
   "metadata": {},
   "source": [
    "### 41) What is negative indexing in Python?"
   ]
  },
  {
   "cell_type": "markdown",
   "id": "32b036b8",
   "metadata": {},
   "source": [
    "* By using negative indexing we can access elements from backwards"
   ]
  },
  {
   "cell_type": "markdown",
   "id": "7ba13c59",
   "metadata": {},
   "source": [
    "### 42) What function can generate a list of numbers?"
   ]
  },
  {
   "cell_type": "markdown",
   "id": "555b746b",
   "metadata": {},
   "source": [
    "* Range function"
   ]
  },
  {
   "cell_type": "markdown",
   "id": "c4aa7b3c",
   "metadata": {},
   "source": [
    "### 43) Name the 2 keywords used for looping?"
   ]
  },
  {
   "cell_type": "markdown",
   "id": "f39349c6",
   "metadata": {},
   "source": [
    "* for, while"
   ]
  },
  {
   "cell_type": "markdown",
   "id": "c9abeff3",
   "metadata": {},
   "source": [
    "### 44) What is for loop?"
   ]
  },
  {
   "cell_type": "markdown",
   "id": "9b03cbd6",
   "metadata": {},
   "source": [
    "* It is a control flow statement that is used to repeatedly execute a group of statements as long as the condition is satisfied"
   ]
  },
  {
   "cell_type": "markdown",
   "id": "39034142",
   "metadata": {},
   "source": [
    "### 45) What is a while loop?"
   ]
  },
  {
   "cell_type": "markdown",
   "id": "ca62d3b7",
   "metadata": {},
   "source": [
    "* it is used to execute a block of statements repeatedly until a given condition is satisfied"
   ]
  },
  {
   "cell_type": "markdown",
   "id": "956dd3f9",
   "metadata": {},
   "source": [
    "### 46) Difference between for loop and while loop?"
   ]
  },
  {
   "cell_type": "markdown",
   "id": "d1d7d9f9",
   "metadata": {},
   "source": [
    "* For loop is used to execute a sequence of statements several times.\n",
    "* While is used to repeat a single statement or a group of statements for the TRUE condition. It verifies the condition before executing the loop"
   ]
  },
  {
   "cell_type": "markdown",
   "id": "e84a2443",
   "metadata": {},
   "source": [
    "### 47) What is if-else in python?"
   ]
  },
  {
   "cell_type": "markdown",
   "id": "50b3e671",
   "metadata": {},
   "source": [
    "* if else Python statement evaluates whether an expression is true or false. \n",
    "* If a condition is true, the “if” statement executes. Otherwise, the “else” statement executes."
   ]
  },
  {
   "cell_type": "markdown",
   "id": "47654581",
   "metadata": {},
   "source": [
    "### 48) What is elif in python?"
   ]
  },
  {
   "cell_type": "markdown",
   "id": "aaae525a",
   "metadata": {},
   "source": [
    "* elif condition is used to include multiple conditional expressions after the if condition or between the if and else conditions."
   ]
  },
  {
   "cell_type": "markdown",
   "id": "979d38e8",
   "metadata": {},
   "source": [
    "### 49) Difference between if and while?"
   ]
  },
  {
   "cell_type": "markdown",
   "id": "f36f3ca6",
   "metadata": {},
   "source": [
    "* if statement checks if an expression is true or false, and then runs the code inside the statement only if it is true. The code inside the loop is only run once... \n",
    "* A while statement is a loop. Basically, it continues to execute the code in the while statement for however long the expression is true"
   ]
  },
  {
   "cell_type": "markdown",
   "id": "21f179e8",
   "metadata": {},
   "source": [
    "### 50) What are nested loops in python?"
   ]
  },
  {
   "cell_type": "markdown",
   "id": "682d47df",
   "metadata": {},
   "source": [
    "* A loop inside a loop is known as a nested loop.\n",
    "* The inner or outer loop can be any type, such as a while loop or for loop."
   ]
  },
  {
   "cell_type": "markdown",
   "id": "859244b6",
   "metadata": {},
   "source": [
    "### 51) What are functions & types of functions in python?"
   ]
  },
  {
   "cell_type": "markdown",
   "id": "1046d5cb",
   "metadata": {},
   "source": [
    "*  A function is a block of code which only runs when it is called. We can pass data, known as parameters, into a function.\n",
    "    * Function with no argument and no return value.\n",
    "    * Function with no argument and with a Return value.\n",
    "    * Function with argument and No Return value.\n",
    "    * Function with argument and return value."
   ]
  },
  {
   "cell_type": "markdown",
   "id": "9150793c",
   "metadata": {},
   "source": [
    "### 52) What is map() function?"
   ]
  },
  {
   "cell_type": "markdown",
   "id": "c2b77a4b",
   "metadata": {},
   "source": [
    "* map() is a built-in function that allows you to process and transform all the items in an iterable without using an explicit for loop\n",
    "* It is a technique commonly known as mapping"
   ]
  },
  {
   "cell_type": "markdown",
   "id": "44765f19",
   "metadata": {},
   "source": [
    "### 53) What is reduce() function?"
   ]
  },
  {
   "cell_type": "markdown",
   "id": "cf390fa8",
   "metadata": {},
   "source": [
    "* reduce() is a function that implements a mathematical technique called folding or reduction. \n",
    "* reduce() is useful when you need to apply a function to an iterable and reduce it to a single cumulative value."
   ]
  },
  {
   "cell_type": "markdown",
   "id": "0ec87da5",
   "metadata": {},
   "source": [
    "### 54) What is filter() function?"
   ]
  },
  {
   "cell_type": "markdown",
   "id": "8743a6c9",
   "metadata": {},
   "source": [
    "* filter() is a built-in function that allows you to process an iterable and extract those items that satisfy a given condition"
   ]
  },
  {
   "cell_type": "markdown",
   "id": "6dc4fc82",
   "metadata": {},
   "source": [
    "### 55) What are *args & **kwargs?"
   ]
  },
  {
   "cell_type": "markdown",
   "id": "5244b7c1",
   "metadata": {},
   "source": [
    "* args and **kwargs let you pass a variable number of arguments into a function\n",
    "* *args arguments have no keywords whereas **kwargs arguments each are associated with a keyword, it returns values in form of a dictionary"
   ]
  },
  {
   "cell_type": "markdown",
   "id": "bfa64d88",
   "metadata": {},
   "source": [
    "### 56) what are files in python?"
   ]
  },
  {
   "cell_type": "markdown",
   "id": "099aff92",
   "metadata": {},
   "source": [
    "* A file is some information or data which stays in the computer storage devices.\n",
    "* Python gives you easy ways to manipulate these files."
   ]
  },
  {
   "cell_type": "markdown",
   "id": "52677483",
   "metadata": {},
   "source": [
    "### 57) How do you open a file?"
   ]
  },
  {
   "cell_type": "markdown",
   "id": "acbc57aa",
   "metadata": {},
   "source": [
    "* By using open() method"
   ]
  },
  {
   "cell_type": "markdown",
   "id": "68b8914c",
   "metadata": {},
   "source": [
    "### 58) In file handling, what does this terms means “r, w, a”,?"
   ]
  },
  {
   "cell_type": "markdown",
   "id": "75c26c27",
   "metadata": {},
   "source": [
    "* read, write, append"
   ]
  },
  {
   "cell_type": "markdown",
   "id": "9af5c18c",
   "metadata": {},
   "source": [
    "### 59) What is difference between “w” & \"a\" in file handling?"
   ]
  },
  {
   "cell_type": "markdown",
   "id": "e31fb630",
   "metadata": {},
   "source": [
    "* \"W\" opens the file for writing. It will create the file if it doesn’t exist, and if it does, it will overwrite it.\n",
    "* \"a\" opens the fhe file in appending mode. That means, it will be open for writing and everything will be written to the end of the file."
   ]
  },
  {
   "cell_type": "markdown",
   "id": "b21e1703",
   "metadata": {},
   "source": [
    "### 60) Which function is used to read all the characters?"
   ]
  },
  {
   "cell_type": "markdown",
   "id": "99750a1d",
   "metadata": {},
   "source": [
    "* read()"
   ]
  },
  {
   "cell_type": "markdown",
   "id": "47eaac54",
   "metadata": {},
   "source": [
    "### 61) Which function is used to read single line from file?"
   ]
  },
  {
   "cell_type": "markdown",
   "id": "a4e592e6",
   "metadata": {},
   "source": [
    "* The readline function reads a single line from the file"
   ]
  },
  {
   "cell_type": "markdown",
   "id": "3281299e",
   "metadata": {},
   "source": [
    "### 62) Difference between \"w\", \"wb\", \"w+\", \"wb+\" in file handling?"
   ]
  },
  {
   "cell_type": "markdown",
   "id": "2378a66b",
   "metadata": {},
   "source": [
    "* “w” Opens a file for writing only. \n",
    "* “wb” Opens a file for writing only in binary format. \n",
    "* “w+” Opens a file for both writing and reading. \n",
    "* “wb+” Opens a file for both writing and reading in binary format. "
   ]
  },
  {
   "cell_type": "markdown",
   "id": "a5373b42",
   "metadata": {},
   "source": [
    "### 63) Which function is used to write a list of string in a file?"
   ]
  },
  {
   "cell_type": "markdown",
   "id": "9984b15b",
   "metadata": {},
   "source": [
    "* With the writeline function you can write a list of strings to a file"
   ]
  },
  {
   "cell_type": "markdown",
   "id": "f4b5e8da",
   "metadata": {},
   "source": [
    "### 64) How do you close a file?"
   ]
  },
  {
   "cell_type": "markdown",
   "id": "a2eff1fb",
   "metadata": {},
   "source": [
    "* By using close() function"
   ]
  },
  {
   "cell_type": "markdown",
   "id": "48195649",
   "metadata": {},
   "source": [
    "### 65) What are regular expressions?"
   ]
  },
  {
   "cell_type": "markdown",
   "id": "1e7ca085",
   "metadata": {},
   "source": [
    "* A regular expression is a special sequence of characters that helps you match or find other strings or sets of strings"
   ]
  },
  {
   "cell_type": "markdown",
   "id": "d48998e0",
   "metadata": {},
   "source": [
    "### 66) Explain sub(), subn() methods of “re” module in Python?"
   ]
  },
  {
   "cell_type": "markdown",
   "id": "7e8ccbbc",
   "metadata": {},
   "source": [
    "* sub(): This method is used to find a substring where a regex pattern matches, and then it replaces the matched substring with a different string.\n",
    "* subn(): This method is similar to the sub() method, but it returns the new string, along with the number of replacements"
   ]
  },
  {
   "cell_type": "markdown",
   "id": "f094549b",
   "metadata": {},
   "source": [
    "### 67) What are the basic concepts of OOPs?"
   ]
  },
  {
   "cell_type": "markdown",
   "id": "9a919e72",
   "metadata": {},
   "source": [
    "* Inheritance\n",
    "* Encapsulation\n",
    "* Polymorphism\n",
    "* Abstraction"
   ]
  },
  {
   "cell_type": "markdown",
   "id": "59845bee",
   "metadata": {},
   "source": [
    "### 68) Explain Inheritance?"
   ]
  },
  {
   "cell_type": "markdown",
   "id": "44b8905e",
   "metadata": {},
   "source": [
    "* __Single inheritance__: When a class inherits only one superclass\n",
    "* __Multiple inheritance__: When a class inherits multiple superclasses\n",
    "* __Multilevel inheritance__: When a class inherits a superclass, and then another class inherits this derived class forming a ‘parent, child, and grandchild’ class structure\n",
    "* __Hierarchical inheritance__: When one superclass is inherited by multiple derived classes"
   ]
  },
  {
   "cell_type": "markdown",
   "id": "c33cc8a8",
   "metadata": {},
   "source": [
    "### 69) What is Polymorphism?"
   ]
  },
  {
   "cell_type": "markdown",
   "id": "9bf17089",
   "metadata": {},
   "source": [
    "* Polymorphism means multiple forms. \n",
    "* In python we can find the same operator or function taking multiple forms. \n",
    "* It also useful in creating different classes which will have class methods with same name"
   ]
  },
  {
   "cell_type": "markdown",
   "id": "a0af8617",
   "metadata": {},
   "source": [
    "### 70) What is Encapsulation ?"
   ]
  },
  {
   "cell_type": "markdown",
   "id": "ca736600",
   "metadata": {},
   "source": [
    "* It is the process of wrapping up variables and methods into a single entity."
   ]
  },
  {
   "cell_type": "markdown",
   "id": "067dbc7b",
   "metadata": {},
   "source": [
    "### 71) What is Abstraction ?"
   ]
  },
  {
   "cell_type": "markdown",
   "id": "f8336070",
   "metadata": {},
   "source": [
    "* Abstraction is a process of hiding the real implementation of the method by only showing a method signature."
   ]
  },
  {
   "cell_type": "markdown",
   "id": "92a1ef2e",
   "metadata": {},
   "source": [
    "### 72) What is self in Python?"
   ]
  },
  {
   "cell_type": "markdown",
   "id": "d3e2974a",
   "metadata": {},
   "source": [
    "* Self is a keyword in Python used to define an instance of an object of a class"
   ]
  },
  {
   "cell_type": "markdown",
   "id": "6118eb7e",
   "metadata": {},
   "source": [
    "### 73) What is slicing in Python?"
   ]
  },
  {
   "cell_type": "markdown",
   "id": "405f623e",
   "metadata": {},
   "source": [
    "* Syntax for slicing is [start : stop : step]\n",
    "* start is the starting index from where to slice a list or tuple\n",
    "* stop is the ending index or where to sop.\n",
    "* step is the number of steps to jump.\n",
    "* Default value for start is 0, stop is number of items, step is 1."
   ]
  },
  {
   "cell_type": "markdown",
   "id": "3bef0173",
   "metadata": {},
   "source": [
    "### 74) What are decorators in Python?"
   ]
  },
  {
   "cell_type": "markdown",
   "id": "d4b5407e",
   "metadata": {},
   "source": [
    "* Decorators in Python are essentially functions that add functionality to an existing function in Python without changing the structure of the function itself. "
   ]
  },
  {
   "cell_type": "markdown",
   "id": "c96100ee",
   "metadata": {},
   "source": [
    "### 75) What are constructors?"
   ]
  },
  {
   "cell_type": "markdown",
   "id": "8343a177",
   "metadata": {},
   "source": [
    "* A constructor is also a special kind of method. It is used to initialize objects of the class.\n",
    "* Types of constructor depend upon languages\n",
    "    * Private Constructor\n",
    "    * Default Constructor\n",
    "    * Copy Constructor\n",
    "    * Static Constructor\n",
    "    * Parameterized Constructor"
   ]
  },
  {
   "cell_type": "markdown",
   "id": "6d0733f4",
   "metadata": {},
   "source": [
    "### 76) What is Garbage Collection(GC)?"
   ]
  },
  {
   "cell_type": "markdown",
   "id": "cf904d19",
   "metadata": {},
   "source": [
    "* Garbage Collection is a part of automatic memory management. \n",
    "* The Garbage collector helps to free the occupied spaces by objects. Those spaces are no longer in existence."
   ]
  },
  {
   "cell_type": "markdown",
   "id": "b42a098b",
   "metadata": {},
   "source": [
    "### 77) What are Python libraries? Name a few of them."
   ]
  },
  {
   "cell_type": "markdown",
   "id": "0535bd7a",
   "metadata": {},
   "source": [
    "* Python libraries are a collection of Python packages. \n",
    "* Some of the majorly used python libraries are – Numpy, Pandas, Matplotlib, Scikit-learn"
   ]
  },
  {
   "cell_type": "markdown",
   "id": "de16d4c9",
   "metadata": {},
   "source": [
    "### 78) What is a class?"
   ]
  },
  {
   "cell_type": "markdown",
   "id": "08409ee3",
   "metadata": {},
   "source": [
    "* Class is a kind of a user-defined data type that contains variables, properties, and methods.  It also helps to find the properties of an object."
   ]
  },
  {
   "cell_type": "markdown",
   "id": "fbe3d2bb",
   "metadata": {},
   "source": [
    "### 79) How are classes created in Python? "
   ]
  },
  {
   "cell_type": "markdown",
   "id": "2c7ee963",
   "metadata": {},
   "source": [
    "* Class in Python is created using the class keyword."
   ]
  },
  {
   "cell_type": "markdown",
   "id": "54ba0a42",
   "metadata": {},
   "source": [
    "### 80) What is monkey patching in Python?"
   ]
  },
  {
   "cell_type": "markdown",
   "id": "9842c54f",
   "metadata": {},
   "source": [
    "* The term monkey patch only refers to dynamic modifications of a class or module at run-time."
   ]
  },
  {
   "cell_type": "markdown",
   "id": "32b7722e",
   "metadata": {},
   "source": [
    "###  81) Does python support multiple inheritance?"
   ]
  },
  {
   "cell_type": "markdown",
   "id": "e65d256a",
   "metadata": {},
   "source": [
    "* Multiple inheritance means that a class can be derived from more than one parent classes. \n",
    "* Python does support multiple inheritance"
   ]
  },
  {
   "cell_type": "markdown",
   "id": "33ceeb48",
   "metadata": {},
   "source": [
    "### 82) How do you copy an object in Python?"
   ]
  },
  {
   "cell_type": "markdown",
   "id": "9bc574ee",
   "metadata": {},
   "source": [
    "* __Shallow Copy__ - It stores the references of objects to the original memory address. \n",
    "* __Deep copy__ - It stores copies of the object's value"
   ]
  },
  {
   "cell_type": "markdown",
   "id": "001eba27",
   "metadata": {},
   "source": [
    "### 83) What is an exception?"
   ]
  },
  {
   "cell_type": "markdown",
   "id": "396ff2d2",
   "metadata": {},
   "source": [
    "*  An exception is a Python object that represents an error."
   ]
  },
  {
   "cell_type": "markdown",
   "id": "27080d4a",
   "metadata": {},
   "source": [
    "### 84) what is exception handling and its use?"
   ]
  },
  {
   "cell_type": "markdown",
   "id": "b437a4f5",
   "metadata": {},
   "source": [
    "* When syntax error is encountered, Python displays the name of the error and a small description about the error. \n",
    "* The execution of the program will start only after the syntax error is rectified. \n",
    "* An exception is a Python object that represents an error. Syntax errors are also handled as exceptions."
   ]
  },
  {
   "cell_type": "markdown",
   "id": "3a48e66c",
   "metadata": {},
   "source": [
    "### 85) Why is OOPS used? "
   ]
  },
  {
   "cell_type": "markdown",
   "id": "5a7ae1c3",
   "metadata": {},
   "source": [
    "* The main aim of an Object-Oriented Programming System is implementing real-world entities such as polymorphism, inheritance, hiding, and many more in programming."
   ]
  },
  {
   "cell_type": "markdown",
   "id": "65bec863",
   "metadata": {},
   "source": [
    "### 86) What is the output of print str[2:5] if str = 'Hello World!'?"
   ]
  },
  {
   "cell_type": "markdown",
   "id": "b5df17a1",
   "metadata": {},
   "source": [
    "* It will print characters starting from 3rd to 5th.\n",
    "* Output would be llo."
   ]
  },
  {
   "cell_type": "markdown",
   "id": "3de08cc6",
   "metadata": {},
   "source": [
    "### 87) What is the output of print str[2:] if str = 'Hello World!'?"
   ]
  },
  {
   "cell_type": "markdown",
   "id": "d466b726",
   "metadata": {},
   "source": [
    "* Prints Character from 3rd element to last\n",
    "* Output is ll0 World!"
   ]
  },
  {
   "cell_type": "markdown",
   "id": "e64e7faf",
   "metadata": {},
   "source": [
    "### 88) What is the output of print str * 2 if str = 'Hello World!'?"
   ]
  },
  {
   "cell_type": "markdown",
   "id": "34bd20d6",
   "metadata": {},
   "source": [
    "* Hello World!Hello World!"
   ]
  },
  {
   "cell_type": "markdown",
   "id": "d37ba64a",
   "metadata": {},
   "source": [
    "### 89) What is the output of print str + \"TEST\" if str = 'Hello World!'?"
   ]
  },
  {
   "cell_type": "markdown",
   "id": "b9a7e14b",
   "metadata": {},
   "source": [
    "* Hello World!TEST"
   ]
  },
  {
   "cell_type": "markdown",
   "id": "d96de62c",
   "metadata": {},
   "source": [
    "### 90) What is the output of print list if list = [ 'abcd', 786 , 2.23, 'john', 70.2 ]?"
   ]
  },
  {
   "cell_type": "markdown",
   "id": "8a9694e5",
   "metadata": {},
   "source": [
    "* [ 'abcd', 786 , 2.23, 'john', 70.2 ]"
   ]
  },
  {
   "cell_type": "markdown",
   "id": "bb642e25",
   "metadata": {},
   "source": [
    "### 91) What is the output of print list[1:3] if list = [ 'abcd', 786 , 2.23, 'john', 70.2 ]?"
   ]
  },
  {
   "cell_type": "markdown",
   "id": "6e008aa6",
   "metadata": {},
   "source": [
    "*  [786, 2.23]."
   ]
  },
  {
   "cell_type": "markdown",
   "id": "31c3db0a",
   "metadata": {},
   "source": [
    "### 92) What is the output of print list[2:] if list = [ 'abcd', 786 , 2.23, 'john', 70.2 ]?"
   ]
  },
  {
   "cell_type": "markdown",
   "id": "0790e9e7",
   "metadata": {},
   "source": [
    "* [2.23, 'john', 70.200000000000003]"
   ]
  },
  {
   "cell_type": "markdown",
   "id": "422a153f",
   "metadata": {},
   "source": [
    "### 93) What is the output of print tinylist * 2 if tinylist = [123, 'john']?"
   ]
  },
  {
   "cell_type": "markdown",
   "id": "748eae3f",
   "metadata": {},
   "source": [
    "* [123, 'john',123,'john']"
   ]
  },
  {
   "cell_type": "markdown",
   "id": "4f4ec41d",
   "metadata": {},
   "source": [
    "### 94) What is the output of print list1 + list2, if list1 = [ 'abcd', 786 , 2.23, 'john', 70.2 ] and list2 = [123, 'john']?"
   ]
  },
  {
   "cell_type": "markdown",
   "id": "9e41e4f2",
   "metadata": {},
   "source": [
    "* ['abcd', 786, 2.23, 'john', 70.2, 123, 'john']"
   ]
  },
  {
   "cell_type": "markdown",
   "id": "12308f2b",
   "metadata": {},
   "source": [
    "### 95) What is the purpose of ** operator?"
   ]
  },
  {
   "cell_type": "markdown",
   "id": "fd5cadcc",
   "metadata": {},
   "source": [
    "* ** Exponent − Performs exponential (power) calculation on operators. a**b = 10 to the power 20 if a = 10 and b = 20.\n",
    "\n"
   ]
  },
  {
   "cell_type": "markdown",
   "id": "08a0dc3f",
   "metadata": {},
   "source": [
    "### 96) What is the purpose of // operator?"
   ]
  },
  {
   "cell_type": "markdown",
   "id": "406ba2ec",
   "metadata": {},
   "source": [
    "* // Floor Division − The division of operands where the result is the quotient in which the digits after the decimal point are removed."
   ]
  },
  {
   "cell_type": "markdown",
   "id": "e7440516",
   "metadata": {},
   "source": [
    "### 97) How can you pick a random item from a list or tuple?"
   ]
  },
  {
   "cell_type": "markdown",
   "id": "a15edd25",
   "metadata": {},
   "source": [
    "* choice(seq) − Returns a random item from a list, tuple, or string."
   ]
  },
  {
   "cell_type": "markdown",
   "id": "072b28c0",
   "metadata": {},
   "source": [
    "### 98) How can you pick a random item from a range?"
   ]
  },
  {
   "cell_type": "markdown",
   "id": "da261d93",
   "metadata": {},
   "source": [
    "* randrange ([start,] stop [,step]) − returns a randomly selected element from range(start, stop, step)."
   ]
  },
  {
   "cell_type": "markdown",
   "id": "d2f647b5",
   "metadata": {},
   "source": [
    "### 99) How will you capitalizes first letter of string?"
   ]
  },
  {
   "cell_type": "markdown",
   "id": "48407ac2",
   "metadata": {},
   "source": [
    "* capitalize() − Capitalizes first letter of string."
   ]
  },
  {
   "cell_type": "markdown",
   "id": "aceaca3c",
   "metadata": {},
   "source": [
    "### 100) How will you check in a string that all characters are alphanumeric?\n"
   ]
  },
  {
   "cell_type": "markdown",
   "id": "df0b7256",
   "metadata": {},
   "source": [
    "* isalnum() − Returns true if string has at least 1 character and all characters are alphanumeric and false otherwise."
   ]
  },
  {
   "cell_type": "markdown",
   "id": "5d7aa388",
   "metadata": {},
   "source": [
    "### 101) How will you check in a string that all characters are digits?"
   ]
  },
  {
   "cell_type": "markdown",
   "id": "d0b8685b",
   "metadata": {},
   "source": [
    "* isdigit() − Returns true if string contains only digits and false otherwise."
   ]
  },
  {
   "cell_type": "markdown",
   "id": "bfd9020c",
   "metadata": {},
   "source": [
    "### 102) How will you check in a string that all characters are in lowercase?"
   ]
  },
  {
   "cell_type": "markdown",
   "id": "5d75588c",
   "metadata": {},
   "source": [
    "* islower() − Returns true if string has at least 1 cased character and all cased characters are in lowercase and false otherwise.\n",
    "\n"
   ]
  },
  {
   "cell_type": "markdown",
   "id": "20586a3b",
   "metadata": {},
   "source": [
    "### 103) How will you check in a string that all characters are numerics?"
   ]
  },
  {
   "cell_type": "markdown",
   "id": "d49a6ee8",
   "metadata": {},
   "source": [
    "* isnumeric() − Returns true if a unicode string contains only numeric characters and false otherwise."
   ]
  },
  {
   "cell_type": "markdown",
   "id": "2e67ca45",
   "metadata": {},
   "source": [
    "### 104) How will you check in a string that all characters are whitespaces?\n"
   ]
  },
  {
   "cell_type": "markdown",
   "id": "6ed75dfd",
   "metadata": {},
   "source": [
    "* isspace() − Returns true if string contains only whitespace characters and false otherwise.\n",
    "\n"
   ]
  },
  {
   "cell_type": "markdown",
   "id": "523b04cd",
   "metadata": {},
   "source": [
    "### 105) How will you check in a string that it is properly titlecased?\n"
   ]
  },
  {
   "cell_type": "markdown",
   "id": "2b2b3489",
   "metadata": {},
   "source": [
    "* istitle() − Returns true if string is properly \"titlecased\" and false otherwise.\n",
    "\n"
   ]
  },
  {
   "cell_type": "markdown",
   "id": "443fd7f0",
   "metadata": {},
   "source": [
    "### 106) How will you check in a string that all characters are in uppercase?\n"
   ]
  },
  {
   "cell_type": "markdown",
   "id": "23792ddc",
   "metadata": {},
   "source": [
    "* isupper() − Returns true if string has at least one cased character and all cased characters are in uppercase and false otherwise.\n",
    "\n"
   ]
  },
  {
   "cell_type": "markdown",
   "id": "21189986",
   "metadata": {},
   "source": [
    "### 107) How will you merge elements in a sequence?\n"
   ]
  },
  {
   "cell_type": "markdown",
   "id": "4dbd8651",
   "metadata": {},
   "source": [
    "* join(seq) − Merges (concatenates) the string representations of elements in sequence seq into a string, with separator string.\n",
    "\n"
   ]
  },
  {
   "cell_type": "markdown",
   "id": "261b2643",
   "metadata": {},
   "source": [
    "### 108) How will you get the length of the string?\n",
    "\n"
   ]
  },
  {
   "cell_type": "markdown",
   "id": "d0d2818c",
   "metadata": {},
   "source": [
    "* len(string) − Returns the length of the string.\n"
   ]
  },
  {
   "cell_type": "markdown",
   "id": "13ee3cfc",
   "metadata": {},
   "source": [
    "### 109) How will you convert a string to all lowercase?\n"
   ]
  },
  {
   "cell_type": "markdown",
   "id": "f9c417c0",
   "metadata": {},
   "source": [
    "* lower() − Converts all uppercase letters in string to lowercase.\n",
    "\n"
   ]
  },
  {
   "cell_type": "markdown",
   "id": "aea23961",
   "metadata": {},
   "source": [
    "### 110) How will you remove all leading whitespace in string?\n"
   ]
  },
  {
   "cell_type": "markdown",
   "id": "88de7a13",
   "metadata": {},
   "source": [
    "* lstrip() − Removes all leading whitespace in string.\n",
    "\n"
   ]
  },
  {
   "cell_type": "markdown",
   "id": "f9ffeba4",
   "metadata": {},
   "source": [
    "### 111) How will you get the max alphabetical character from the string?\n"
   ]
  },
  {
   "cell_type": "markdown",
   "id": "40f3b0f5",
   "metadata": {},
   "source": [
    "* max(str) − Returns the max alphabetical character from the string str.\n"
   ]
  },
  {
   "cell_type": "markdown",
   "id": "557c9bbb",
   "metadata": {},
   "source": [
    "### 112) How will you get the min alphabetical character from the string?"
   ]
  },
  {
   "cell_type": "markdown",
   "id": "7298957c",
   "metadata": {},
   "source": [
    "* min(str) − Returns the min alphabetical character from the string str.\n"
   ]
  },
  {
   "cell_type": "markdown",
   "id": "745c633b",
   "metadata": {},
   "source": [
    "### 113) How will you replaces all occurrences of old substring in string with new string?\n"
   ]
  },
  {
   "cell_type": "markdown",
   "id": "f0b39788",
   "metadata": {},
   "source": [
    "* replace(old, new [, max]) − Replaces all occurrences of old in string with new or at most max occurrences if max given."
   ]
  },
  {
   "cell_type": "markdown",
   "id": "fa88974c",
   "metadata": {},
   "source": [
    "### 114) How will you remove all leading and trailing whitespace in string?\n"
   ]
  },
  {
   "cell_type": "markdown",
   "id": "aa20c43c",
   "metadata": {},
   "source": [
    "* strip([chars]) − Performs both lstrip() and rstrip() on string."
   ]
  },
  {
   "cell_type": "markdown",
   "id": "2bd4692d",
   "metadata": {},
   "source": [
    "### 115) How will you change case for all letters in string?\n"
   ]
  },
  {
   "cell_type": "markdown",
   "id": "61a47fbe",
   "metadata": {},
   "source": [
    "* swapcase() − Inverts case for all letters in string.\n",
    "\n"
   ]
  },
  {
   "cell_type": "markdown",
   "id": "89b3b477",
   "metadata": {},
   "source": [
    "### 116) How will you get titlecased version of string?\n"
   ]
  },
  {
   "cell_type": "markdown",
   "id": "bd275adb",
   "metadata": {},
   "source": [
    "* title() − Returns \"titlecased\" version of string, that is, all words begin with uppercase and the rest are lowercase.\n",
    "\n"
   ]
  },
  {
   "cell_type": "markdown",
   "id": "120bc476",
   "metadata": {},
   "source": [
    "### 117) How will you convert a string to all uppercase?\n"
   ]
  },
  {
   "cell_type": "markdown",
   "id": "072e69dd",
   "metadata": {},
   "source": [
    "* upper() − Converts all lowercase letters in string to uppercase.\n",
    "\n"
   ]
  },
  {
   "cell_type": "markdown",
   "id": "bd5580cf",
   "metadata": {},
   "source": [
    "### 118) How will you check in a string that all characters are decimal?\n"
   ]
  },
  {
   "cell_type": "markdown",
   "id": "c8e9dad7",
   "metadata": {},
   "source": [
    "* isdecimal() − Returns true if a unicode string contains only decimal characters and false otherwise.\n",
    "\n"
   ]
  },
  {
   "cell_type": "markdown",
   "id": "171494f2",
   "metadata": {},
   "source": [
    "### 119) What is the difference between del() and remove() methods of list?\n",
    "\n"
   ]
  },
  {
   "cell_type": "markdown",
   "id": "e8312955",
   "metadata": {},
   "source": [
    "* To remove a list element, you can use either the del statement if you know exactly which element(s) you are deleting or the remove() method if you do not know.\n"
   ]
  },
  {
   "cell_type": "markdown",
   "id": "9c541f9a",
   "metadata": {},
   "source": [
    "### 120) What is the output of len([1, 2, 3])?\n"
   ]
  },
  {
   "cell_type": "markdown",
   "id": "19ffa37a",
   "metadata": {},
   "source": [
    "* 3"
   ]
  },
  {
   "cell_type": "markdown",
   "id": "6ecaa37b",
   "metadata": {},
   "source": [
    "### 121) What is the output of [1, 2, 3] + [4, 5, 6]?\n"
   ]
  },
  {
   "cell_type": "markdown",
   "id": "83250500",
   "metadata": {},
   "source": [
    "* [1, 2, 3, 4, 5, 6]\n",
    "\n"
   ]
  },
  {
   "cell_type": "markdown",
   "id": "3281f81b",
   "metadata": {},
   "source": [
    "### 122) What is the output of ['Hi!'] * 4?\n"
   ]
  },
  {
   "cell_type": "markdown",
   "id": "51fd98d7",
   "metadata": {},
   "source": [
    "* ['Hi!', 'Hi!', 'Hi!', 'Hi!']\n",
    "\n"
   ]
  },
  {
   "cell_type": "markdown",
   "id": "eac31fd4",
   "metadata": {},
   "source": [
    "### 123) What is the output of L[2] if L = [1,2,3]?\n"
   ]
  },
  {
   "cell_type": "markdown",
   "id": "74af44a2",
   "metadata": {},
   "source": [
    "* 3, Offsets start at zero.\n",
    "\n"
   ]
  },
  {
   "cell_type": "markdown",
   "id": "240f8e8e",
   "metadata": {},
   "source": [
    "### 124) What is the output of L[-2] if L = [1,2,3]?\n"
   ]
  },
  {
   "cell_type": "markdown",
   "id": "83178b65",
   "metadata": {},
   "source": [
    "* 1, Negative: count from the right.\n",
    "\n"
   ]
  },
  {
   "cell_type": "markdown",
   "id": "e1701bdc",
   "metadata": {},
   "source": [
    "### 125) How will you compare two lists?\n"
   ]
  },
  {
   "cell_type": "markdown",
   "id": "8c0ee577",
   "metadata": {},
   "source": [
    "* cmp(list1, list2) − Compares elements of both lists.\n",
    "\n"
   ]
  },
  {
   "cell_type": "markdown",
   "id": "fab11820",
   "metadata": {},
   "source": [
    "### 126) How will you get the index of an object in a list?\n",
    "\n"
   ]
  },
  {
   "cell_type": "markdown",
   "id": "7178ccdd",
   "metadata": {},
   "source": [
    "* list.index(obj) − Returns the lowest index in list that obj appears.\n"
   ]
  },
  {
   "cell_type": "markdown",
   "id": "4f9f4890",
   "metadata": {},
   "source": [
    "### 127) How will you insert an object at given index in a list?\n"
   ]
  },
  {
   "cell_type": "markdown",
   "id": "c8702be2",
   "metadata": {},
   "source": [
    "* list.insert(index, obj) − Inserts object obj into list at offset index.\n",
    "\n"
   ]
  },
  {
   "cell_type": "markdown",
   "id": "29e8ebdb",
   "metadata": {},
   "source": [
    "### 128) How will you remove an object from a list?\n"
   ]
  },
  {
   "cell_type": "markdown",
   "id": "43ea0c39",
   "metadata": {},
   "source": [
    "* list.remove(obj) − Removes object obj from list.\n",
    "\n"
   ]
  },
  {
   "cell_type": "markdown",
   "id": "229e4018",
   "metadata": {},
   "source": [
    "### 129) How will you reverse a list?\n"
   ]
  },
  {
   "cell_type": "markdown",
   "id": "06628892",
   "metadata": {},
   "source": [
    "* list.reverse() − Reverses objects of list in place.\n",
    "\n"
   ]
  },
  {
   "cell_type": "markdown",
   "id": "943caaa8",
   "metadata": {},
   "source": [
    "### 130) What is lambda function in python?\n"
   ]
  },
  {
   "cell_type": "markdown",
   "id": "4b50b360",
   "metadata": {},
   "source": [
    "* ‘lambda’ is a keyword in python which creates an anonymous function.\n",
    "* Lambda does not contain block of statements. It does not contain return statements.\n",
    "\n"
   ]
  },
  {
   "cell_type": "markdown",
   "id": "eb6d11c1",
   "metadata": {},
   "source": [
    "### 131) What we call a function which is incomplete version of a function?\n",
    "\n"
   ]
  },
  {
   "cell_type": "markdown",
   "id": "278f634f",
   "metadata": {},
   "source": [
    "* Stub.\n"
   ]
  },
  {
   "cell_type": "markdown",
   "id": "8c7716d7",
   "metadata": {},
   "source": [
    "### 132) Is Python platform independent?\n"
   ]
  },
  {
   "cell_type": "markdown",
   "id": "5fb0195e",
   "metadata": {},
   "source": [
    "* No, There are some modules and functions in python that can only run on certain platforms.\n",
    "\n"
   ]
  },
  {
   "cell_type": "markdown",
   "id": "693368ef",
   "metadata": {},
   "source": [
    "### 133) Do you think Python has a complier?\n"
   ]
  },
  {
   "cell_type": "markdown",
   "id": "43361aa0",
   "metadata": {},
   "source": [
    "* Yes, it has a complier which works automatically so we don’t notice the compiler of python.\n",
    "\n"
   ]
  },
  {
   "cell_type": "markdown",
   "id": "9f50a2c9",
   "metadata": {},
   "source": [
    "### 134) What are the applications of Python?\n",
    "\n"
   ]
  },
  {
   "cell_type": "markdown",
   "id": "e0a57cd5",
   "metadata": {},
   "source": [
    "1. Django (Web framework of Python).\n",
    "\n",
    "2. Micro Frame work such as Flask and Bottle.\n",
    "\n",
    "3. Plone and Django CMS for advanced content Management.\n"
   ]
  },
  {
   "cell_type": "markdown",
   "id": "5a242a11",
   "metadata": {},
   "source": [
    "### 135) What is the basic difference between Python version 2 and Python version 3?"
   ]
  },
  {
   "cell_type": "markdown",
   "id": "6215fbeb",
   "metadata": {},
   "source": [
    "* PYTHON-2\n",
    "    * Print function doesn't need paranthesis\n",
    "    * byte() datatype isn't available\n",
    "    * It doesn't raise error if we compare Unorderable types.\n",
    "* PYTHON-3\n",
    "    * Print function need paranthesis\n",
    "    * bytes & bytesarray datatypes are available\n",
    "    * It  raise Type error if we compare Unorderable types."
   ]
  },
  {
   "cell_type": "markdown",
   "id": "104788b5",
   "metadata": {},
   "source": [
    "### 136) Which programming Language is an implementation of Python programming language designed to run on Java Platform?\n",
    "\n"
   ]
  },
  {
   "cell_type": "markdown",
   "id": "e2c26480",
   "metadata": {},
   "source": [
    "* Jython (Jython is successor of Jpython.)\n"
   ]
  },
  {
   "cell_type": "markdown",
   "id": "117d835a",
   "metadata": {},
   "source": [
    "### 137) Which module of python is used to apply the methods related to OS.?\n",
    "\n"
   ]
  },
  {
   "cell_type": "markdown",
   "id": "a3303b92",
   "metadata": {},
   "source": [
    "* OS module"
   ]
  },
  {
   "cell_type": "markdown",
   "id": "c2380863",
   "metadata": {},
   "source": [
    "### 138) Name the python Library used for Machine learning.\n"
   ]
  },
  {
   "cell_type": "markdown",
   "id": "f0e1ca01",
   "metadata": {},
   "source": [
    "* Scikit-learn python Library used for Machine learning\n",
    "\n"
   ]
  },
  {
   "cell_type": "markdown",
   "id": "6a5b3ddf",
   "metadata": {},
   "source": [
    "### 139) Name the tools which python uses to find bugs (if any).\n"
   ]
  },
  {
   "cell_type": "markdown",
   "id": "5c8b11b4",
   "metadata": {},
   "source": [
    "* Pylint and pychecker.\n",
    "\n"
   ]
  },
  {
   "cell_type": "markdown",
   "id": "282a562b",
   "metadata": {},
   "source": [
    "### 140) Write a function in python which detects whether the given two strings are anagrams or not.\n"
   ]
  },
  {
   "cell_type": "code",
   "execution_count": null,
   "id": "a9335f48",
   "metadata": {},
   "outputs": [],
   "source": [
    "def check(a,b):\n",
    "    if(len(a)!=len(b)):\n",
    "        return False\n",
    "    else:\n",
    "        if(sorted(list(a)) == sorted(list(b))):\n",
    "            return True\n",
    "    else:\n",
    "        return False\n"
   ]
  }
 ],
 "metadata": {
  "kernelspec": {
   "display_name": "Python 3",
   "language": "python",
   "name": "python3"
  },
  "language_info": {
   "codemirror_mode": {
    "name": "ipython",
    "version": 3
   },
   "file_extension": ".py",
   "mimetype": "text/x-python",
   "name": "python",
   "nbconvert_exporter": "python",
   "pygments_lexer": "ipython3",
   "version": "3.8.8"
  }
 },
 "nbformat": 4,
 "nbformat_minor": 5
}
