{
 "cells": [
  {
   "cell_type": "markdown",
   "id": "6bb2b5ed",
   "metadata": {},
   "source": [
    "## Day-12 of #30daysofpython"
   ]
  },
  {
   "cell_type": "markdown",
   "id": "d9d1245a",
   "metadata": {},
   "source": [
    "## Topic: Transfer Statements\n",
    "* break\n",
    "* continue\n",
    "* pass"
   ]
  },
  {
   "cell_type": "markdown",
   "id": "43f80877",
   "metadata": {},
   "source": [
    "* Transfer statements are used to transfer controls from one statement to another."
   ]
  },
  {
   "cell_type": "markdown",
   "id": "70fe5aef",
   "metadata": {},
   "source": [
    "## break()\n",
    "* To come out of loop, break is used inside loops."
   ]
  },
  {
   "cell_type": "markdown",
   "id": "496ed0f8",
   "metadata": {},
   "source": [
    "## Example"
   ]
  },
  {
   "cell_type": "code",
   "execution_count": 1,
   "id": "c9611631",
   "metadata": {},
   "outputs": [
    {
     "name": "stdout",
     "output_type": "stream",
     "text": [
      "0\n",
      "1\n",
      "2\n",
      "3\n",
      "4\n",
      "5\n",
      "6\n",
      "Processing Enough\n",
      "Out of loop\n"
     ]
    }
   ],
   "source": [
    "for i in range(10):\n",
    "    if i == 7:\n",
    "        print(\"Processing Enough\")\n",
    "        break\n",
    "    print(i)\n",
    "print(\"Out of loop\")"
   ]
  },
  {
   "cell_type": "code",
   "execution_count": 2,
   "id": "6b1dd259",
   "metadata": {},
   "outputs": [
    {
     "name": "stdout",
     "output_type": "stream",
     "text": [
      "Processing item:  10\n",
      "Processing item:  20\n",
      "Processing item:  30\n",
      "Insurance required, can't process the order\n"
     ]
    }
   ],
   "source": [
    "cart = [10,20,30,600,70,80]\n",
    "for item in cart:\n",
    "    if item > 500:\n",
    "        print(\"Insurance required, can't process the order\")\n",
    "        break\n",
    "    print(\"Processing item: \",item)\n",
    "    # sincce 600 > 500 the elements including & after 600 doesn't prints"
   ]
  },
  {
   "cell_type": "markdown",
   "id": "e7e3872e",
   "metadata": {},
   "source": [
    "## Continue()\n",
    "* To skip current iteration & continue for next iteration"
   ]
  },
  {
   "cell_type": "code",
   "execution_count": 3,
   "id": "d4709058",
   "metadata": {},
   "outputs": [
    {
     "name": "stdout",
     "output_type": "stream",
     "text": [
      "Processing item:  10\n",
      "Processing item:  20\n",
      "Processing item:  30\n",
      "Insurance required, can't process the order\n",
      "Processing item:  70\n",
      "Processing item:  80\n"
     ]
    }
   ],
   "source": [
    "cart = [10,20,30,600,70,80]\n",
    "for item in cart:\n",
    "    if item > 500:\n",
    "        print(\"Insurance required, can't process the order\")\n",
    "        continue\n",
    "    print(\"Processing item: \",item)\n",
    "    # sincce 600 > 500 the element 600 doesn't prints and remaining all prints"
   ]
  },
  {
   "cell_type": "code",
   "execution_count": 7,
   "id": "cd2fc0f4",
   "metadata": {},
   "outputs": [
    {
     "name": "stdout",
     "output_type": "stream",
     "text": [
      "100//10 = 10\n",
      "100//20 = 5\n",
      "0 can't be divisible\n",
      "100//5 = 20\n",
      "0 can't be divisible\n",
      "100//30 = 3\n"
     ]
    }
   ],
   "source": [
    "l = [10,20,0,5,0,30]\n",
    "for i in l:\n",
    "    if i == 0:\n",
    "        print(\"0 can't be divisible\")\n",
    "        continue\n",
    "    print(\"100//{} = {}\".format(i,100//i))"
   ]
  },
  {
   "cell_type": "markdown",
   "id": "0e06a25f",
   "metadata": {},
   "source": [
    "## break()  vs continue()"
   ]
  },
  {
   "cell_type": "markdown",
   "id": "9027e879",
   "metadata": {},
   "source": [
    "* break skips current iteration\n",
    "* continue continues to next iteration"
   ]
  },
  {
   "cell_type": "code",
   "execution_count": 10,
   "id": "cdc315c5",
   "metadata": {},
   "outputs": [],
   "source": [
    "# break\n",
    "for i in range(10):\n",
    "    if i%2 == 0:\n",
    "        break\n",
    "    print(i) # No output"
   ]
  },
  {
   "cell_type": "code",
   "execution_count": 12,
   "id": "c710b204",
   "metadata": {},
   "outputs": [
    {
     "name": "stdout",
     "output_type": "stream",
     "text": [
      "1\n",
      "3\n",
      "5\n",
      "7\n",
      "9\n"
     ]
    }
   ],
   "source": [
    "# continue\n",
    "for i in range(10):\n",
    "    if i%2 == 0:\n",
    "        continue\n",
    "    print(i)"
   ]
  },
  {
   "cell_type": "markdown",
   "id": "967c54e5",
   "metadata": {},
   "source": [
    "## pass() statement"
   ]
  },
  {
   "cell_type": "markdown",
   "id": "a62147cc",
   "metadata": {},
   "source": [
    "* pass statement is used when empty block is required\n",
    "* pass acts as a place holder for future implementation\n",
    "* Mostly, pass is used in functions and classes"
   ]
  },
  {
   "cell_type": "markdown",
   "id": "fef529bf",
   "metadata": {},
   "source": [
    "## Example"
   ]
  },
  {
   "cell_type": "code",
   "execution_count": 14,
   "id": "ecfdb5eb",
   "metadata": {},
   "outputs": [],
   "source": [
    "x = 100\n",
    "if x > 100:\n",
    "    print(\"Balaji\")\n",
    "else:\n",
    "    pass   # No output because x value is 100"
   ]
  },
  {
   "cell_type": "markdown",
   "id": "e8eb5f69",
   "metadata": {},
   "source": [
    "#### Conclusion of pass statement\n",
    "* pass statement acts as empty statements.\n",
    "* It acts as a place holder for implementing future code"
   ]
  }
 ],
 "metadata": {
  "kernelspec": {
   "display_name": "Python 3",
   "language": "python",
   "name": "python3"
  },
  "language_info": {
   "codemirror_mode": {
    "name": "ipython",
    "version": 3
   },
   "file_extension": ".py",
   "mimetype": "text/x-python",
   "name": "python",
   "nbconvert_exporter": "python",
   "pygments_lexer": "ipython3",
   "version": "3.8.8"
  }
 },
 "nbformat": 4,
 "nbformat_minor": 5
}
